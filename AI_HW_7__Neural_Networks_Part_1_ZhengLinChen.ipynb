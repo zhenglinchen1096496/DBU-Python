{
  "cells": [
    {
      "cell_type": "markdown",
      "metadata": {
        "id": "view-in-github",
        "colab_type": "text"
      },
      "source": [
        "<a href=\"https://colab.research.google.com/github/zhenglinchen1096496/DBU-Python/blob/main/AI_HW_7__Neural_Networks_Part_1_ZhengLinChen.ipynb\" target=\"_parent\"><img src=\"https://colab.research.google.com/assets/colab-badge.svg\" alt=\"Open In Colab\"/></a>"
      ]
    },
    {
      "cell_type": "markdown",
      "metadata": {
        "id": "AkPOJZJbRHgQ",
        "notebookgrader": {
          "id": "5b11667f0a5132c0edaefcc362b25535ab76dc7c",
          "readonly": true
        }
      },
      "source": [
        "###NOTE:\n",
        "The NotebookGrader server will only allow 1 minute of compute for training.  As such, for Part 1, which is about learning the process, we are going to make a small model, train it for only a few epochs, and reduce the number of images in the training set.  For Part 2, you will make a larger model that you will train on the Google Colab servers for many epochs, and then you will save and load this trained model into a notebook for the grading of Part 2."
      ]
    },
    {
      "cell_type": "markdown",
      "metadata": {
        "id": "6UI_cvs3d86D",
        "notebookgrader": {
          "id": "25328cb4c402091e0498a655dfbce79baba3455f",
          "readonly": true
        }
      },
      "source": [
        "#Instructions\n",
        "\n",
        "In this notebook, you will complete code only in cells below the comment `### YOUR SOLUTION HERE`.  You will add your relevant code in cells below the comment, and no where else.\n",
        "\n",
        "For example, you would complete the code cell below as follows:\n",
        "```\n",
        "# Write code to print \"Hello\"\n",
        "### YOUR SOLUTION HERE\n",
        "print(\"Hello\")\n",
        "```\n",
        "\n",
        "Once you have completed your code, you can test your code by running the test cell which contains a comment that looks like this:\n",
        "```\n",
        "# Tests 5 points: Printing \"Hello\"\n",
        "```\n",
        "\n",
        "**Do not change any parts of this notebook aside from adding code below the cells in the notebook with `### YOUR SOLUTION HERE`.**  Changing unauthorized parts of the notebook could result in a zero for the assignment.\n",
        "\n",
        "In this notebook, proceed step by step.  Do not move on to the next section until you have successfully completed all of the prior sections.\n",
        "\n",
        "You can see a video demo of this tool at the following link:\n",
        "\n",
        "https://youtu.be/yvLWbpgnspM?si=oeUEICnxrC0Ysbjb&t=143"
      ]
    },
    {
      "cell_type": "markdown",
      "metadata": {
        "id": "TzNu4KPTeGX5",
        "notebookgrader": {
          "id": "d1364bbef416261e2168403981e79959993f662a",
          "readonly": true
        }
      },
      "source": [
        "# Step 1"
      ]
    },
    {
      "cell_type": "markdown",
      "metadata": {
        "id": "Gidiu-lBIZ0D",
        "notebookgrader": {
          "id": "3c5c582146eb35834a10e0233101c328cdad3ade",
          "readonly": true
        }
      },
      "source": [
        "Run the cells below."
      ]
    },
    {
      "cell_type": "code",
      "execution_count": null,
      "metadata": {
        "id": "MXz7fS8uByEF",
        "notebookgrader": {
          "id": "891c7e33ab90515270c0cd64605eff3961b3b68f",
          "is_solution": false,
          "is_tests": false,
          "readonly": true
        }
      },
      "outputs": [],
      "source": [
        "# Import necessary libraries\n",
        "import numpy as np\n",
        "import matplotlib.pyplot as plt\n",
        "import seaborn as sns\n",
        "import tensorflow as tf\n",
        "from tensorflow import keras\n",
        "from sklearn.metrics import classification_report, confusion_matrix, f1_score, accuracy_score\n",
        "from sklearn.model_selection import train_test_split\n",
        "import random\n",
        "\n",
        "# Set random seed for reproducibility\n",
        "RANDOM_SEED = 23\n",
        "np.random.seed(RANDOM_SEED)\n",
        "random.seed(RANDOM_SEED)\n",
        "tf.random.set_seed(RANDOM_SEED)\n"
      ]
    },
    {
      "cell_type": "code",
      "execution_count": null,
      "metadata": {
        "id": "gPzbpxa_Ue1E",
        "notebookgrader": {
          "id": "431feda7c4b5277ce5bd34f4e5550f42d96ba5c0",
          "is_solution": false,
          "is_tests": false,
          "readonly": true
        }
      },
      "outputs": [],
      "source": [
        "# Load the MNIST dataset\n",
        "(x_train, y_train), (x_test, y_test) = tf.keras.datasets.fashion_mnist.load_data()\n"
      ]
    },
    {
      "cell_type": "code",
      "execution_count": null,
      "metadata": {
        "id": "a_iB0wWSMd_Y",
        "notebookgrader": {
          "id": "17571de8517827fe6de79b88e8e7de98e003e56a",
          "is_solution": false,
          "is_tests": false,
          "readonly": true
        }
      },
      "outputs": [],
      "source": [
        "# Define a dictionary that maps target values to the corresponding MNIST Fashion clothing category names\n",
        "fashion_mnist_labels = {\n",
        "    0: \"T-shirt/top\",\n",
        "    1: \"Trouser\",\n",
        "    2: \"Pullover\",\n",
        "    3: \"Dress\",\n",
        "    4: \"Coat\",\n",
        "    5: \"Sandal\",\n",
        "    6: \"Shirt\",\n",
        "    7: \"Sneaker\",\n",
        "    8: \"Bag\",\n",
        "    9: \"Ankle boot\"\n",
        "}\n"
      ]
    },
    {
      "cell_type": "code",
      "execution_count": null,
      "metadata": {
        "id": "sJWP2qyTgHHc",
        "notebookgrader": {
          "id": "bcb5ff3207c47c9bfc5d44de1377534857570cae",
          "is_solution": false,
          "is_tests": false,
          "readonly": true
        },
        "colab": {
          "base_uri": "https://localhost:8080/"
        },
        "outputId": "11f07445-1fdb-4655-cf88-d9f8cdc80205"
      },
      "outputs": [
        {
          "output_type": "stream",
          "name": "stdout",
          "text": [
            "TRAINNG DATA\n",
            "(60000, 28, 28)\n",
            "(60000,)\n",
            "\n",
            "TESTING DATA\n",
            "(10000, 28, 28)\n",
            "(10000,)\n",
            "\n",
            " Testing to Training ratio = 0.16666666666666666\n"
          ]
        }
      ],
      "source": [
        "#  Show the shape of our downloaded data\n",
        "\n",
        "print(\"TRAINNG DATA\")\n",
        "# Can see that in x data we have 60,000 28x28 pixel images\n",
        "print(x_train.shape)\n",
        "# Can see that we have one label for each of the 60,000 images\n",
        "print(y_train.shape)\n",
        "# print(x_train.shape[0])\n",
        "\n",
        "print(\"\\nTESTING DATA\")\n",
        "# Can see that in x data we have 10,000 28x28 pixel images\n",
        "print(x_test.shape)\n",
        "# Can see that we have one label for each of the 10,000 images\n",
        "print(y_test.shape)\n",
        "\n",
        "print('\\n Testing to Training ratio =', x_test.shape[0]/x_train.shape[0])\n"
      ]
    },
    {
      "cell_type": "code",
      "execution_count": null,
      "metadata": {
        "id": "Cs6qUQyZTDkM",
        "notebookgrader": {
          "id": "8bb4ef149316202945f7ff1e6d8761ab78add9b3",
          "is_solution": false,
          "is_tests": false,
          "readonly": true
        },
        "colab": {
          "base_uri": "https://localhost:8080/"
        },
        "outputId": "b1c73741-2fd9-4443-8291-eaed9df8b301"
      },
      "outputs": [
        {
          "output_type": "stream",
          "name": "stdout",
          "text": [
            "\n",
            "REDUCED TRAINING DATA\n",
            "(500, 28, 28)\n",
            "(500,)\n",
            "\n",
            "REDUCED TESTING DATA\n",
            "(83, 28, 28)\n",
            "(83,)\n"
          ]
        }
      ],
      "source": [
        "# DELETE THIS CELL IN PART 2\n",
        "# Reduce the number of data samples so that the NotebookGrader server can perform the training\n",
        "\n",
        "# Calculate the new number of samples\n",
        "new_train_size = int(x_train.shape[0] / 120)\n",
        "new_test_size = int(x_test.shape[0] / 120)\n",
        "\n",
        "# Randomly sample the data\n",
        "train_indices = np.random.choice(x_train.shape[0], size=new_train_size, replace=False)\n",
        "test_indices = np.random.choice(x_test.shape[0], size=new_test_size, replace=False)\n",
        "\n",
        "x_train = x_train[train_indices]\n",
        "y_train = y_train[train_indices]\n",
        "x_test = x_test[test_indices]\n",
        "y_test = y_test[test_indices]\n",
        "\n",
        "print(\"\\nREDUCED TRAINING DATA\")\n",
        "print(x_train.shape)\n",
        "print(y_train.shape)\n",
        "\n",
        "print(\"\\nREDUCED TESTING DATA\")\n",
        "print(x_test.shape)\n",
        "print(y_test.shape)\n"
      ]
    },
    {
      "cell_type": "code",
      "execution_count": null,
      "metadata": {
        "id": "Ja0be39Ag_sL",
        "notebookgrader": {
          "id": "e4851371f48465c8aabd2d46c408a1f9757d8fe9",
          "is_solution": false,
          "is_tests": false,
          "readonly": true
        },
        "colab": {
          "base_uri": "https://localhost:8080/",
          "height": 68
        },
        "outputId": "d2291217-9c33-4c7e-b968-b90f7ab87019"
      },
      "outputs": [
        {
          "output_type": "execute_result",
          "data": {
            "text/plain": [
              "array([[  0,   0,   0,   0,   0,   0,   0,   0,   0,  33, 163, 177,  94,\n",
              "         64,  44,  79, 162, 145,  13,   0,   0,   0,   0,   0,   0,   0,\n",
              "          0,   0],\n",
              "       [  0,   0,   0,   0,   0,   0,  28, 143, 231, 253, 225, 225, 254,\n",
              "        227, 236, 255, 229, 224, 253, 221, 136,  11,   0,   0,   0,   0,\n",
              "          0,   0],\n",
              "       [  0,   0,   0,   0,   0,  92, 234, 230, 219, 213, 209, 211, 214,\n",
              "        213, 218, 213, 209, 208, 209, 218, 231, 220,  72,   0,   0,   0,\n",
              "          0,   0],\n",
              "       [  0,   0,   0,   0,  23, 228, 215, 209, 213, 215, 210, 213, 210,\n",
              "        207, 207, 203, 208, 209, 209, 210, 204, 210, 223,  35,   0,   0,\n",
              "          0,   0],\n",
              "       [  0,   0,   0,   0, 169, 234, 213, 216, 215, 213, 213, 212, 210,\n",
              "        211, 209, 209, 209, 209, 208, 207, 213, 205, 220, 194,   0,   0,\n",
              "          0,   0],\n",
              "       [  0,   0,   0,   0, 239, 226, 222, 216, 214, 214, 213, 212, 211,\n",
              "        210, 209, 208, 208, 208, 209, 209, 207, 209, 210, 246,   0,   0,\n",
              "          0,   0],\n",
              "       [  0,   0,   0,  39, 231, 221, 228, 218, 215, 215, 214, 213, 212,\n",
              "        210, 209, 208, 208, 209, 208, 207, 205, 210, 212, 245,  44,   0,\n",
              "          0,   0],\n",
              "       [  0,   0,   0,  82, 232, 222, 231, 217, 215, 216, 214, 214, 214,\n",
              "        210, 208, 208, 207, 208, 208, 202, 205, 221, 211, 221,  83,   0,\n",
              "          0,   0],\n",
              "       [  0,   0,   0, 167, 242, 222, 234, 235, 211, 219, 215, 212, 210,\n",
              "        212, 211, 211, 209, 213, 212, 199, 227, 224, 211, 224, 173,   0,\n",
              "          0,   0],\n",
              "       [  0,   0,   0, 122, 188, 231, 252, 231, 222, 220, 219, 214, 211,\n",
              "        212, 210, 210, 207, 207, 216, 200, 230, 249, 222, 192, 129,   0,\n",
              "          0,   0],\n",
              "       [  0,   0,   0,   0,   0,  14, 100,  30, 243, 216, 223, 215, 211,\n",
              "        213, 212, 210, 211, 208, 207, 234,  44, 106,  41,   0,   0,   0,\n",
              "          0,   0],\n",
              "       [  0,   0,   0,   0,   0,   0,   0,   0, 246, 219, 221, 214, 209,\n",
              "        212, 211, 210, 211, 211, 205, 247,   0,   0,   0,   0,   0,   0,\n",
              "          0,   0],\n",
              "       [  0,   0,   0,   0,   0,   5,   0,   0, 236, 222, 216, 216, 209,\n",
              "        211, 211, 209, 210, 212, 205, 243,   8,   0,   3,   0,   0,   0,\n",
              "          0,   0],\n",
              "       [  0,   0,   0,   0,   0,   2,   0,   0, 240, 221, 216, 217, 209,\n",
              "        211, 211, 210, 210, 211, 205, 203,   9,   0,   2,   0,   0,   0,\n",
              "          0,   0],\n",
              "       [  0,   0,   0,   0,   0,   3,   0,   0, 205, 219, 216, 217, 208,\n",
              "        211, 211, 210, 209, 211, 207, 203,   5,   0,   3,   0,   0,   0,\n",
              "          0,   0],\n",
              "       [  0,   0,   0,   0,   0,   3,   0,   0, 210, 216, 218, 215, 209,\n",
              "        211, 211, 210, 210, 212, 209, 201,   6,   0,   3,   0,   0,   0,\n",
              "          0,   0],\n",
              "       [  0,   0,   0,   0,   0,   3,   0,   0, 210, 215, 219, 213, 210,\n",
              "        212, 211, 211, 212, 207, 213, 203,   6,   0,   3,   0,   0,   0,\n",
              "          0,   0],\n",
              "       [  0,   0,   0,   0,   0,   3,   0,   0, 200, 216, 216, 214, 210,\n",
              "        211, 211, 211, 212, 206, 213, 205,   0,   0,   3,   0,   0,   0,\n",
              "          0,   0],\n",
              "       [  0,   0,   0,   0,   0,   3,   0,   0, 201, 216, 213, 215, 209,\n",
              "        210, 211, 211, 212, 210, 209, 208,   1,   0,   3,   0,   0,   0,\n",
              "          0,   0],\n",
              "       [  0,   0,   0,   0,   0,   3,   0,   0, 208, 216, 214, 215, 210,\n",
              "        211, 211, 211, 210, 212, 208, 214,  10,   0,   3,   0,   0,   0,\n",
              "          0,   0],\n",
              "       [  0,   0,   0,   0,   0,   4,   0,  12, 213, 210, 217, 214, 211,\n",
              "        212, 211, 211, 211, 213, 206, 215,  35,   0,   4,   0,   0,   0,\n",
              "          0,   0],\n",
              "       [  0,   0,   0,   0,   0,   3,   0,  56, 220, 207, 218, 214, 210,\n",
              "        211, 211, 211, 211, 215, 207, 217,  78,   0,   3,   0,   0,   0,\n",
              "          0,   0],\n",
              "       [  0,   0,   0,   0,   0,   4,   0, 109, 224, 209, 218, 214, 211,\n",
              "        211, 211, 211, 210, 213, 210, 219, 110,   0,   1,   1,   0,   0,\n",
              "          0,   0],\n",
              "       [  0,   0,   0,   0,   0,   3,   0, 130, 226, 209, 215, 213, 212,\n",
              "        212, 212, 212, 213, 210, 211, 219, 155,   0,   0,   0,   0,   0,\n",
              "          0,   0],\n",
              "       [  0,   0,   0,   0,   0,   2,   0, 114, 229, 210, 215, 214, 212,\n",
              "        212, 213, 213, 213, 211, 208, 221, 190,   0,   0,   0,   0,   0,\n",
              "          0,   0],\n",
              "       [  0,   0,   0,   0,   0,   0,   0, 133, 225, 208, 210, 207, 206,\n",
              "        206, 207, 206, 207, 208, 207, 218, 197,   0,   0,   0,   0,   0,\n",
              "          0,   0],\n",
              "       [  0,   0,   0,   0,   0,   0,   0, 178, 228, 216, 240, 238, 239,\n",
              "        238, 238, 238, 238, 234, 214, 217, 219,   0,   0,   1,   0,   0,\n",
              "          0,   0],\n",
              "       [  0,   0,   0,   0,   0,   0,   0, 141, 187, 159, 148, 149, 146,\n",
              "        146, 147, 150, 152, 153, 164, 203, 176,   0,   0,   0,   0,   0,\n",
              "          0,   0]], dtype=uint8)"
            ],
            "text/html": [
              "<style>\n",
              "      .ndarray_repr .ndarray_raw_data {\n",
              "        display: none;\n",
              "      }\n",
              "      .ndarray_repr.show_array .ndarray_raw_data {\n",
              "        display: block;\n",
              "      }\n",
              "      .ndarray_repr.show_array .ndarray_image_preview {\n",
              "        display: none;\n",
              "      }\n",
              "      </style>\n",
              "      <div id=\"id-a6239cb9-0a3a-49b5-92a7-0844ced3c373\" class=\"ndarray_repr\"><pre>ndarray (28, 28) <button style=\"padding: 0 2px;\">show data</button></pre><img src=\"data:image/png;base64,iVBORw0KGgoAAAANSUhEUgAAABwAAAAcCAAAAABXZoBIAAABq0lEQVR4nGWRsWpUURCGv3/OvbvZrEkRMRq0UCIsmKS0tRDfQLQQH8FHsLKyUvAFfAJ7sbEXrFQUJJCoixYLEZZd4r3nnLG4d9e9cZo5zMc/M/8csYhrTzZffZvs3j15PKUbV57/TMfH+fvEx0fp8OmwqQqAh8/irIoWvKyja7Axe/R6CS++n1aF1SElYilU9TbuHAIG8KKX+5aDU1hPeBrU6eVSeTKNVcbd3R1ENl1fb5Wj07pnkiQAec4y32/hnhQcIcNxp2bov0YtvLdO2IpBOVoIVhZpOxAetPDDu8FWHKow4Z6rQmFnePRx6XPz/ptP4/5pNM9Kfvn2rbef/x0BmI/tTx3cRXVj0NYMgBLmoW72EXGNsAITFI4A4XwRvgIFhxkccIzYTrPFzDJZFiA1uQNxZQlZXSxry8dcSYu+1VkoktyBIob/2vYREmTzXtenOFdWwSWQsnY62zr7/STcAZPtnfF5s7Dmlp6DXaVxU7TKC0ZyAZbEQUfp/A5CIKFku+1CjTJzPuY6OXLJU78D4SCsXcpyIE58G+Qr8Ovgx0wJBdNwNG7+gL9l0bIiB9SXWgAAAABJRU5ErkJggg==\" class=\"ndarray_image_preview\" /><pre class=\"ndarray_raw_data\">array([[  0,   0,   0,   0,   0,   0,   0,   0,   0,  33, 163, 177,  94,\n",
              "         64,  44,  79, 162, 145,  13,   0,   0,   0,   0,   0,   0,   0,\n",
              "          0,   0],\n",
              "       [  0,   0,   0,   0,   0,   0,  28, 143, 231, 253, 225, 225, 254,\n",
              "        227, 236, 255, 229, 224, 253, 221, 136,  11,   0,   0,   0,   0,\n",
              "          0,   0],\n",
              "       [  0,   0,   0,   0,   0,  92, 234, 230, 219, 213, 209, 211, 214,\n",
              "        213, 218, 213, 209, 208, 209, 218, 231, 220,  72,   0,   0,   0,\n",
              "          0,   0],\n",
              "       [  0,   0,   0,   0,  23, 228, 215, 209, 213, 215, 210, 213, 210,\n",
              "        207, 207, 203, 208, 209, 209, 210, 204, 210, 223,  35,   0,   0,\n",
              "          0,   0],\n",
              "       [  0,   0,   0,   0, 169, 234, 213, 216, 215, 213, 213, 212, 210,\n",
              "        211, 209, 209, 209, 209, 208, 207, 213, 205, 220, 194,   0,   0,\n",
              "          0,   0],\n",
              "       [  0,   0,   0,   0, 239, 226, 222, 216, 214, 214, 213, 212, 211,\n",
              "        210, 209, 208, 208, 208, 209, 209, 207, 209, 210, 246,   0,   0,\n",
              "          0,   0],\n",
              "       [  0,   0,   0,  39, 231, 221, 228, 218, 215, 215, 214, 213, 212,\n",
              "        210, 209, 208, 208, 209, 208, 207, 205, 210, 212, 245,  44,   0,\n",
              "          0,   0],\n",
              "       [  0,   0,   0,  82, 232, 222, 231, 217, 215, 216, 214, 214, 214,\n",
              "        210, 208, 208, 207, 208, 208, 202, 205, 221, 211, 221,  83,   0,\n",
              "          0,   0],\n",
              "       [  0,   0,   0, 167, 242, 222, 234, 235, 211, 219, 215, 212, 210,\n",
              "        212, 211, 211, 209, 213, 212, 199, 227, 224, 211, 224, 173,   0,\n",
              "          0,   0],\n",
              "       [  0,   0,   0, 122, 188, 231, 252, 231, 222, 220, 219, 214, 211,\n",
              "        212, 210, 210, 207, 207, 216, 200, 230, 249, 222, 192, 129,   0,\n",
              "          0,   0],\n",
              "       [  0,   0,   0,   0,   0,  14, 100,  30, 243, 216, 223, 215, 211,\n",
              "        213, 212, 210, 211, 208, 207, 234,  44, 106,  41,   0,   0,   0,\n",
              "          0,   0],\n",
              "       [  0,   0,   0,   0,   0,   0,   0,   0, 246, 219, 221, 214, 209,\n",
              "        212, 211, 210, 211, 211, 205, 247,   0,   0,   0,   0,   0,   0,\n",
              "          0,   0],\n",
              "       [  0,   0,   0,   0,   0,   5,   0,   0, 236, 222, 216, 216, 209,\n",
              "        211, 211, 209, 210, 212, 205, 243,   8,   0,   3,   0,   0,   0,\n",
              "          0,   0],\n",
              "       [  0,   0,   0,   0,   0,   2,   0,   0, 240, 221, 216, 217, 209,\n",
              "        211, 211, 210, 210, 211, 205, 203,   9,   0,   2,   0,   0,   0,\n",
              "          0,   0],\n",
              "       [  0,   0,   0,   0,   0,   3,   0,   0, 205, 219, 216, 217, 208,\n",
              "        211, 211, 210, 209, 211, 207, 203,   5,   0,   3,   0,   0,   0,\n",
              "          0,   0],\n",
              "       [  0,   0,   0,   0,   0,   3,   0,   0, 210, 216, 218, 215, 209,\n",
              "        211, 211, 210, 210, 212, 209, 201,   6,   0,   3,   0,   0,   0,\n",
              "          0,   0],\n",
              "       [  0,   0,   0,   0,   0,   3,   0,   0, 210, 215, 219, 213, 210,\n",
              "        212, 211, 211, 212, 207, 213, 203,   6,   0,   3,   0,   0,   0,\n",
              "          0,   0],\n",
              "       [  0,   0,   0,   0,   0,   3,   0,   0, 200, 216, 216, 214, 210,\n",
              "        211, 211, 211, 212, 206, 213, 205,   0,   0,   3,   0,   0,   0,\n",
              "          0,   0],\n",
              "       [  0,   0,   0,   0,   0,   3,   0,   0, 201, 216, 213, 215, 209,\n",
              "        210, 211, 211, 212, 210, 209, 208,   1,   0,   3,   0,   0,   0,\n",
              "          0,   0],\n",
              "       [  0,   0,   0,   0,   0,   3,   0,   0, 208, 216, 214, 215, 210,\n",
              "        211, 211, 211, 210, 212, 208, 214,  10,   0,   3,   0,   0,   0,\n",
              "          0,   0],\n",
              "       [  0,   0,   0,   0,   0,   4,   0,  12, 213, 210, 217, 214, 211,\n",
              "        212, 211, 211, 211, 213, 206, 215,  35,   0,   4,   0,   0,   0,\n",
              "          0,   0],\n",
              "       [  0,   0,   0,   0,   0,   3,   0,  56, 220, 207, 218, 214, 210,\n",
              "        211, 211, 211, 211, 215, 207, 217,  78,   0,   3,   0,   0,   0,\n",
              "          0,   0],\n",
              "       [  0,   0,   0,   0,   0,   4,   0, 109, 224, 209, 218, 214, 211,\n",
              "        211, 211, 211, 210, 213, 210, 219, 110,   0,   1,   1,   0,   0,\n",
              "          0,   0],\n",
              "       [  0,   0,   0,   0,   0,   3,   0, 130, 226, 209, 215, 213, 212,\n",
              "        212, 212, 212, 213, 210, 211, 219, 155,   0,   0,   0,   0,   0,\n",
              "          0,   0],\n",
              "       [  0,   0,   0,   0,   0,   2,   0, 114, 229, 210, 215, 214, 212,\n",
              "        212, 213, 213, 213, 211, 208, 221, 190,   0,   0,   0,   0,   0,\n",
              "          0,   0],\n",
              "       [  0,   0,   0,   0,   0,   0,   0, 133, 225, 208, 210, 207, 206,\n",
              "        206, 207, 206, 207, 208, 207, 218, 197,   0,   0,   0,   0,   0,\n",
              "          0,   0],\n",
              "       [  0,   0,   0,   0,   0,   0,   0, 178, 228, 216, 240, 238, 239,\n",
              "        238, 238, 238, 238, 234, 214, 217, 219,   0,   0,   1,   0,   0,\n",
              "          0,   0],\n",
              "       [  0,   0,   0,   0,   0,   0,   0, 141, 187, 159, 148, 149, 146,\n",
              "        146, 147, 150, 152, 153, 164, 203, 176,   0,   0,   0,   0,   0,\n",
              "          0,   0]], dtype=uint8)</pre></div><script>\n",
              "      (() => {\n",
              "      const titles = ['show data', 'hide data'];\n",
              "      let index = 0\n",
              "      document.querySelector('#id-a6239cb9-0a3a-49b5-92a7-0844ced3c373 button').onclick = (e) => {\n",
              "        document.querySelector('#id-a6239cb9-0a3a-49b5-92a7-0844ced3c373').classList.toggle('show_array');\n",
              "        index = (++index) % 2;\n",
              "        document.querySelector('#id-a6239cb9-0a3a-49b5-92a7-0844ced3c373 button').textContent = titles[index];\n",
              "        e.preventDefault();\n",
              "        e.stopPropagation();\n",
              "      }\n",
              "      })();\n",
              "    </script>"
            ]
          },
          "metadata": {},
          "execution_count": 47
        }
      ],
      "source": [
        "# You can see each element in X data is 28x28 array where each value is the grayscale value of the pixel from 0-255 where black(255)/white(0)\n",
        "\n",
        "x_train[0]"
      ]
    },
    {
      "cell_type": "markdown",
      "metadata": {
        "id": "8BgoT0G1dHo9",
        "notebookgrader": {
          "id": "ace77245523a2068681be928a6287003e01df01c",
          "readonly": true
        }
      },
      "source": [
        "# Step 2"
      ]
    },
    {
      "cell_type": "markdown",
      "metadata": {
        "id": "xySKQCIOe0V0",
        "notebookgrader": {
          "id": "7b973a4e456fdc8615b389229be1362afa3f7c69",
          "readonly": true
        }
      },
      "source": [
        "## Step 2a - Your code\n",
        "\n",
        "In the cell below, normalize the X feature data to have values between 0 and 1 inclusive.  \n",
        "\n",
        "Save your normalized data as `x_train` and `x_test` (in other words, don't change the variable names)."
      ]
    },
    {
      "cell_type": "code",
      "execution_count": null,
      "metadata": {
        "id": "vW2yRVZ-g8tj",
        "notebookgrader": {
          "id": "a49bf96fc7782e735a574feae0bac7032a00ede3",
          "is_solution": true,
          "is_tests": false,
          "readonly": false
        }
      },
      "outputs": [],
      "source": [
        "# Normalize the x data to [0, 1]\n",
        "# Save your normalized data as x_train and x_test\n",
        "\n",
        "### YOUR SOLUTION HERE\n",
        "x_train = x_train / 255.0\n",
        "x_test = x_test / 255.0\n",
        "# x_train[10]\n"
      ]
    },
    {
      "cell_type": "code",
      "execution_count": null,
      "metadata": {
        "id": "NtEME25aYzTN",
        "notebookgrader": {
          "id": "6d6d57e30b81bebd169e15d542e5565fe6aa6518",
          "is_solution": false,
          "is_tests": false,
          "readonly": true
        }
      },
      "outputs": [],
      "source": [
        "# Non-graded feedback on your code\n",
        "# print(x_train[10][12][15])\n",
        "# print(y_train[10])\n",
        "# print(fashion_mnist_labels[y_train[10]])\n",
        "if x_train.shape != (500, 28, 28): print(\"The shape of x_train is incorrect.\")\n",
        "if y_train.shape != (500,): print(\"The shape of y_train is incorrect.\")\n",
        "if x_train[10][12][15] != 0.8588235294117647: print(\"x_train[10][12][15] has incorrect value.\")\n",
        "if y_train[10] != 1: print(\"y_train[10] has incorrect value.\")\n",
        "if fashion_mnist_labels[y_train[10]] != \"Trouser\": print(\"fashion_mnist_labels[y_train[10]] has incorrect value.\")"
      ]
    },
    {
      "cell_type": "markdown",
      "metadata": {
        "id": "PCKo1osHfXGL",
        "notebookgrader": {
          "id": "2a87e4655ac022c87fe5c94dd52434e4810aefec",
          "readonly": true
        }
      },
      "source": [
        "## Step 2b - Instructor grading code in the cell below"
      ]
    },
    {
      "cell_type": "code",
      "execution_count": null,
      "metadata": {
        "id": "AHILPp9x9N0r",
        "notebookgrader": {
          "id": "7beee06192f2e9eb0ec4e080ba9928de8e06f9b4",
          "is_solution": false,
          "is_tests": true,
          "points_earned": 5,
          "readonly": true,
          "test_points": 5
        },
        "colab": {
          "base_uri": "https://localhost:8080/"
        },
        "outputId": "d32ff62e-31a9-416c-a69d-45ef914e1dda"
      },
      "outputs": [
        {
          "output_type": "stream",
          "name": "stdout",
          "text": [
            "Beginning hidden tests...\n",
            "Hidden tests complete.\n"
          ]
        }
      ],
      "source": [
        "# Tests 5 points: Testing the data loading and normalization\n",
        "print (\"Beginning hidden tests...\")\n",
        "print(\"Hidden tests complete.\")"
      ]
    },
    {
      "cell_type": "markdown",
      "metadata": {
        "id": "3pDMGwf0fqna",
        "notebookgrader": {
          "id": "f0c2c4b715b514560c21022d10c714b92037e333",
          "readonly": true
        }
      },
      "source": [
        "# Step 3"
      ]
    },
    {
      "cell_type": "markdown",
      "metadata": {
        "id": "CJX7KHA8fscp",
        "notebookgrader": {
          "id": "893aa1d20ec5f4daadf6a552ded5094c6ce04feb",
          "readonly": true
        }
      },
      "source": [
        "## Step 3a - Your code\n",
        "\n",
        "Split the training data into training and validation sets using `train_test_split` such that the validation data is equal in size to the test data.\n",
        "\n",
        "The data sets should be called:\n",
        "* Training data: `x_train` and `y_train`\n",
        "* Validation data: `x_val` and `y_val`\n",
        "* Testing data: `x_test` and `y_test`\n",
        "\n",
        "IMPORTANT: For the purpose of reproducibility and grading, in `train_test_split` you must pass the argument `random_state = RANDOM_SEED`."
      ]
    },
    {
      "cell_type": "code",
      "execution_count": null,
      "metadata": {
        "id": "3ixUkWngf_DJ",
        "notebookgrader": {
          "id": "c1f318f636aa19b44a7c448344fdc8ce14f5e4d9",
          "is_solution": true,
          "is_tests": false,
          "readonly": false
        }
      },
      "outputs": [],
      "source": [
        "# Split the training data according to the instructions above\n",
        "# Make sure to pass random_state=RANDOM_SEED as an argument in train_test_split\n",
        "\n",
        "### YOUR SOLUTION HERE\n",
        "\n",
        "x_train, x_val, y_train, y_val = train_test_split(x_train, y_train, test_size=0.1666666, random_state=RANDOM_SEED)\n"
      ]
    },
    {
      "cell_type": "code",
      "execution_count": null,
      "metadata": {
        "id": "kEwlwb9TZcOT",
        "notebookgrader": {
          "id": "2b0c92b1e5acd708707b1b6cb992ff1018caa02e",
          "is_solution": false,
          "is_tests": false,
          "readonly": true
        }
      },
      "outputs": [],
      "source": [
        "# Non-graded feedback on your code\n",
        "# print(x_train.shape)\n",
        "# print(y_train.shape)\n",
        "# print(x_train[7][10][15])\n",
        "# print(y_train[7])\n",
        "if x_train.shape != (416, 28, 28): print(\"The shape of x_train is incorrect.\")\n",
        "if y_train.shape != (416,): print(\"The shape of y_train is incorrect.\")\n",
        "if x_train[7][10][15] != 0.9686274509803922: print(\"x_train[7][10][15] has incorrect value.\")\n",
        "if y_train[7] != 1: print(\"y_train[7] has incorrect value.\")"
      ]
    },
    {
      "cell_type": "markdown",
      "metadata": {
        "id": "SKfuQ8t3rgGE",
        "notebookgrader": {
          "id": "15c349f3e0150c73522f78e502ac6fec2b46f9a1",
          "readonly": true
        }
      },
      "source": [
        "## Step 3b - Instructor grading code in the cell below"
      ]
    },
    {
      "cell_type": "code",
      "execution_count": null,
      "metadata": {
        "id": "bQQR-AyzCGH3",
        "notebookgrader": {
          "id": "3a10223fd12ea4acd578bacf82ca396535d1300d",
          "is_solution": false,
          "is_tests": true,
          "points_earned": 5,
          "readonly": true,
          "test_points": 5
        },
        "colab": {
          "base_uri": "https://localhost:8080/"
        },
        "outputId": "d00692c3-eb83-4eaf-e7fb-3efe91a16775"
      },
      "outputs": [
        {
          "output_type": "stream",
          "name": "stdout",
          "text": [
            "Beginning hidden tests...\n",
            "Hidden tests complete.\n"
          ]
        }
      ],
      "source": [
        "# Tests 5 points: Testing the data splitting\n",
        "print (\"Beginning hidden tests...\")\n",
        "print(\"Hidden tests complete.\")"
      ]
    },
    {
      "cell_type": "markdown",
      "metadata": {
        "id": "BJK_hjKmfhWx",
        "notebookgrader": {
          "id": "fda1bb4dcd406361bd225f8f4c1d6dbe5950944a",
          "readonly": true
        }
      },
      "source": [
        "## Step 3c\n",
        "Run the code below to see the data splitting proportions and class counts for each data set."
      ]
    },
    {
      "cell_type": "code",
      "execution_count": null,
      "metadata": {
        "id": "k4L1yyMpuRlh",
        "notebookgrader": {
          "id": "d105b38da8d6537c3cd8ca0766312d8f37689b2f",
          "is_solution": false,
          "is_tests": false,
          "readonly": true
        },
        "colab": {
          "base_uri": "https://localhost:8080/"
        },
        "outputId": "fc95dbe4-9f44-4723-8107-4783a110f2cb"
      },
      "outputs": [
        {
          "output_type": "stream",
          "name": "stdout",
          "text": [
            "Training data proportion: 0.7135506003430532\n",
            "Validation data proportion: 0.14408233276157806\n",
            "Testing data proportion: 0.1423670668953688\n"
          ]
        }
      ],
      "source": [
        "# Run this cell to see train/val/test split by proportion\n",
        "\n",
        "total_data_size = x_train.shape[0] + x_val.shape[0] + x_test.shape[0]\n",
        "print(\"Training data proportion:\", x_train.shape[0]/total_data_size)\n",
        "print(\"Validation data proportion:\", x_val.shape[0]/total_data_size)\n",
        "print(\"Testing data proportion:\", x_test.shape[0]/total_data_size)"
      ]
    },
    {
      "cell_type": "code",
      "execution_count": null,
      "metadata": {
        "id": "_oaCIXhxgXrv",
        "notebookgrader": {
          "id": "d7f58cf5baf04f0a092186abe4480051c215b0cf",
          "is_solution": false,
          "is_tests": false,
          "readonly": true
        },
        "colab": {
          "base_uri": "https://localhost:8080/"
        },
        "outputId": "af4a1643-d4e3-466b-d9d3-5d7d6c69ca0b"
      },
      "outputs": [
        {
          "output_type": "stream",
          "name": "stdout",
          "text": [
            "Class counts in the training data:\n",
            "Class 0: 54 samples\n",
            "Class 1: 36 samples\n",
            "Class 2: 46 samples\n",
            "Class 3: 30 samples\n",
            "Class 4: 44 samples\n",
            "Class 5: 48 samples\n",
            "Class 6: 42 samples\n",
            "Class 7: 38 samples\n",
            "Class 8: 37 samples\n",
            "Class 9: 41 samples\n",
            "\n",
            "Class counts in the validation data:\n",
            "Class 0: 8 samples\n",
            "Class 1: 8 samples\n",
            "Class 2: 7 samples\n",
            "Class 3: 6 samples\n",
            "Class 4: 11 samples\n",
            "Class 5: 10 samples\n",
            "Class 6: 6 samples\n",
            "Class 7: 10 samples\n",
            "Class 8: 8 samples\n",
            "Class 9: 10 samples\n",
            "\n",
            "Class counts in the test data:\n",
            "Class 0: 9 samples\n",
            "Class 1: 8 samples\n",
            "Class 2: 8 samples\n",
            "Class 3: 12 samples\n",
            "Class 4: 6 samples\n",
            "Class 5: 6 samples\n",
            "Class 6: 10 samples\n",
            "Class 7: 12 samples\n",
            "Class 8: 8 samples\n",
            "Class 9: 4 samples\n"
          ]
        }
      ],
      "source": [
        "# Count the number of occurrences of each class in y_train and y_test\n",
        "train_class_counts = np.bincount(y_train)\n",
        "val_class_counts = np.bincount(y_val)\n",
        "test_class_counts = np.bincount(y_test)\n",
        "\n",
        "# Print the counts for the training data\n",
        "print(\"Class counts in the training data:\")\n",
        "for i in range(len(train_class_counts)):\n",
        "    print(f\"Class {i}: {train_class_counts[i]} samples\")\n",
        "\n",
        "# Print the counts for the validation data\n",
        "print(\"\\nClass counts in the validation data:\")\n",
        "for i in range(len(val_class_counts)):\n",
        "    print(f\"Class {i}: {val_class_counts[i]} samples\")\n",
        "\n",
        "# Print the counts for the test data\n",
        "print(\"\\nClass counts in the test data:\")\n",
        "for i in range(len(test_class_counts)):\n",
        "    print(f\"Class {i}: {test_class_counts[i]} samples\")"
      ]
    },
    {
      "cell_type": "markdown",
      "metadata": {
        "id": "RGlMtE0_rrQ8",
        "notebookgrader": {
          "id": "94f8344246382f24a8a2bdd9c36755174e5d104a",
          "readonly": true
        }
      },
      "source": [
        "# Step 4"
      ]
    },
    {
      "cell_type": "markdown",
      "metadata": {
        "id": "-KeVCPsNaZhH",
        "notebookgrader": {
          "id": "6defe88ebc4efb632754a9fe32275a5f1a0741d5",
          "readonly": true
        }
      },
      "source": [
        "## Step 4a - Your code\n",
        "\n",
        "Build and compile a sequential neural network model with the following:\n",
        "1. Define the input shape\n",
        "2. A layer that flattens the data\n",
        "3. A dense layer with 32 nodes that uses RELU activation\n",
        "4. A dropout layer that only uses 60% of the nodes each pass\n",
        "5. A dense layer with 16 nodes that uses RELU activation\n",
        "6. A dropout layer that only uses 70% of the nodes each pass\n",
        "7. A dense output layer that uses Softmax activation to classify among the 10 classes\n",
        "\n",
        "Save your model the provided variable called `model`."
      ]
    },
    {
      "cell_type": "code",
      "execution_count": null,
      "metadata": {
        "id": "L0PG09ZFU6uk",
        "notebookgrader": {
          "id": "ad5245ca475777fb29e7772ab4bdec358b985497",
          "is_solution": true,
          "is_tests": false,
          "readonly": false
        },
        "colab": {
          "base_uri": "https://localhost:8080/",
          "height": 376
        },
        "outputId": "a99d8771-d2ae-4940-de28-155a259d45ec"
      },
      "outputs": [
        {
          "output_type": "stream",
          "name": "stderr",
          "text": [
            "/usr/local/lib/python3.11/dist-packages/keras/src/layers/reshaping/flatten.py:37: UserWarning: Do not pass an `input_shape`/`input_dim` argument to a layer. When using Sequential models, prefer using an `Input(shape)` object as the first layer in the model instead.\n",
            "  super().__init__(**kwargs)\n"
          ]
        },
        {
          "output_type": "display_data",
          "data": {
            "text/plain": [
              "\u001b[1mModel: \"sequential_2\"\u001b[0m\n"
            ],
            "text/html": [
              "<pre style=\"white-space:pre;overflow-x:auto;line-height:normal;font-family:Menlo,'DejaVu Sans Mono',consolas,'Courier New',monospace\"><span style=\"font-weight: bold\">Model: \"sequential_2\"</span>\n",
              "</pre>\n"
            ]
          },
          "metadata": {}
        },
        {
          "output_type": "display_data",
          "data": {
            "text/plain": [
              "┏━━━━━━━━━━━━━━━━━━━━━━━━━━━━━━━━━━━━━━┳━━━━━━━━━━━━━━━━━━━━━━━━━━━━━┳━━━━━━━━━━━━━━━━━┓\n",
              "┃\u001b[1m \u001b[0m\u001b[1mLayer (type)                        \u001b[0m\u001b[1m \u001b[0m┃\u001b[1m \u001b[0m\u001b[1mOutput Shape               \u001b[0m\u001b[1m \u001b[0m┃\u001b[1m \u001b[0m\u001b[1m        Param #\u001b[0m\u001b[1m \u001b[0m┃\n",
              "┡━━━━━━━━━━━━━━━━━━━━━━━━━━━━━━━━━━━━━━╇━━━━━━━━━━━━━━━━━━━━━━━━━━━━━╇━━━━━━━━━━━━━━━━━┩\n",
              "│ flatten_2 (\u001b[38;5;33mFlatten\u001b[0m)                  │ (\u001b[38;5;45mNone\u001b[0m, \u001b[38;5;34m784\u001b[0m)                 │               \u001b[38;5;34m0\u001b[0m │\n",
              "├──────────────────────────────────────┼─────────────────────────────┼─────────────────┤\n",
              "│ dense_6 (\u001b[38;5;33mDense\u001b[0m)                      │ (\u001b[38;5;45mNone\u001b[0m, \u001b[38;5;34m64\u001b[0m)                  │          \u001b[38;5;34m50,240\u001b[0m │\n",
              "├──────────────────────────────────────┼─────────────────────────────┼─────────────────┤\n",
              "│ dropout_4 (\u001b[38;5;33mDropout\u001b[0m)                  │ (\u001b[38;5;45mNone\u001b[0m, \u001b[38;5;34m64\u001b[0m)                  │               \u001b[38;5;34m0\u001b[0m │\n",
              "├──────────────────────────────────────┼─────────────────────────────┼─────────────────┤\n",
              "│ dense_7 (\u001b[38;5;33mDense\u001b[0m)                      │ (\u001b[38;5;45mNone\u001b[0m, \u001b[38;5;34m32\u001b[0m)                  │           \u001b[38;5;34m2,080\u001b[0m │\n",
              "├──────────────────────────────────────┼─────────────────────────────┼─────────────────┤\n",
              "│ dropout_5 (\u001b[38;5;33mDropout\u001b[0m)                  │ (\u001b[38;5;45mNone\u001b[0m, \u001b[38;5;34m32\u001b[0m)                  │               \u001b[38;5;34m0\u001b[0m │\n",
              "├──────────────────────────────────────┼─────────────────────────────┼─────────────────┤\n",
              "│ dense_8 (\u001b[38;5;33mDense\u001b[0m)                      │ (\u001b[38;5;45mNone\u001b[0m, \u001b[38;5;34m10\u001b[0m)                  │             \u001b[38;5;34m330\u001b[0m │\n",
              "└──────────────────────────────────────┴─────────────────────────────┴─────────────────┘\n"
            ],
            "text/html": [
              "<pre style=\"white-space:pre;overflow-x:auto;line-height:normal;font-family:Menlo,'DejaVu Sans Mono',consolas,'Courier New',monospace\">┏━━━━━━━━━━━━━━━━━━━━━━━━━━━━━━━━━━━━━━┳━━━━━━━━━━━━━━━━━━━━━━━━━━━━━┳━━━━━━━━━━━━━━━━━┓\n",
              "┃<span style=\"font-weight: bold\"> Layer (type)                         </span>┃<span style=\"font-weight: bold\"> Output Shape                </span>┃<span style=\"font-weight: bold\">         Param # </span>┃\n",
              "┡━━━━━━━━━━━━━━━━━━━━━━━━━━━━━━━━━━━━━━╇━━━━━━━━━━━━━━━━━━━━━━━━━━━━━╇━━━━━━━━━━━━━━━━━┩\n",
              "│ flatten_2 (<span style=\"color: #0087ff; text-decoration-color: #0087ff\">Flatten</span>)                  │ (<span style=\"color: #00d7ff; text-decoration-color: #00d7ff\">None</span>, <span style=\"color: #00af00; text-decoration-color: #00af00\">784</span>)                 │               <span style=\"color: #00af00; text-decoration-color: #00af00\">0</span> │\n",
              "├──────────────────────────────────────┼─────────────────────────────┼─────────────────┤\n",
              "│ dense_6 (<span style=\"color: #0087ff; text-decoration-color: #0087ff\">Dense</span>)                      │ (<span style=\"color: #00d7ff; text-decoration-color: #00d7ff\">None</span>, <span style=\"color: #00af00; text-decoration-color: #00af00\">64</span>)                  │          <span style=\"color: #00af00; text-decoration-color: #00af00\">50,240</span> │\n",
              "├──────────────────────────────────────┼─────────────────────────────┼─────────────────┤\n",
              "│ dropout_4 (<span style=\"color: #0087ff; text-decoration-color: #0087ff\">Dropout</span>)                  │ (<span style=\"color: #00d7ff; text-decoration-color: #00d7ff\">None</span>, <span style=\"color: #00af00; text-decoration-color: #00af00\">64</span>)                  │               <span style=\"color: #00af00; text-decoration-color: #00af00\">0</span> │\n",
              "├──────────────────────────────────────┼─────────────────────────────┼─────────────────┤\n",
              "│ dense_7 (<span style=\"color: #0087ff; text-decoration-color: #0087ff\">Dense</span>)                      │ (<span style=\"color: #00d7ff; text-decoration-color: #00d7ff\">None</span>, <span style=\"color: #00af00; text-decoration-color: #00af00\">32</span>)                  │           <span style=\"color: #00af00; text-decoration-color: #00af00\">2,080</span> │\n",
              "├──────────────────────────────────────┼─────────────────────────────┼─────────────────┤\n",
              "│ dropout_5 (<span style=\"color: #0087ff; text-decoration-color: #0087ff\">Dropout</span>)                  │ (<span style=\"color: #00d7ff; text-decoration-color: #00d7ff\">None</span>, <span style=\"color: #00af00; text-decoration-color: #00af00\">32</span>)                  │               <span style=\"color: #00af00; text-decoration-color: #00af00\">0</span> │\n",
              "├──────────────────────────────────────┼─────────────────────────────┼─────────────────┤\n",
              "│ dense_8 (<span style=\"color: #0087ff; text-decoration-color: #0087ff\">Dense</span>)                      │ (<span style=\"color: #00d7ff; text-decoration-color: #00d7ff\">None</span>, <span style=\"color: #00af00; text-decoration-color: #00af00\">10</span>)                  │             <span style=\"color: #00af00; text-decoration-color: #00af00\">330</span> │\n",
              "└──────────────────────────────────────┴─────────────────────────────┴─────────────────┘\n",
              "</pre>\n"
            ]
          },
          "metadata": {}
        },
        {
          "output_type": "display_data",
          "data": {
            "text/plain": [
              "\u001b[1m Total params: \u001b[0m\u001b[38;5;34m52,650\u001b[0m (205.66 KB)\n"
            ],
            "text/html": [
              "<pre style=\"white-space:pre;overflow-x:auto;line-height:normal;font-family:Menlo,'DejaVu Sans Mono',consolas,'Courier New',monospace\"><span style=\"font-weight: bold\"> Total params: </span><span style=\"color: #00af00; text-decoration-color: #00af00\">52,650</span> (205.66 KB)\n",
              "</pre>\n"
            ]
          },
          "metadata": {}
        },
        {
          "output_type": "display_data",
          "data": {
            "text/plain": [
              "\u001b[1m Trainable params: \u001b[0m\u001b[38;5;34m52,650\u001b[0m (205.66 KB)\n"
            ],
            "text/html": [
              "<pre style=\"white-space:pre;overflow-x:auto;line-height:normal;font-family:Menlo,'DejaVu Sans Mono',consolas,'Courier New',monospace\"><span style=\"font-weight: bold\"> Trainable params: </span><span style=\"color: #00af00; text-decoration-color: #00af00\">52,650</span> (205.66 KB)\n",
              "</pre>\n"
            ]
          },
          "metadata": {}
        },
        {
          "output_type": "display_data",
          "data": {
            "text/plain": [
              "\u001b[1m Non-trainable params: \u001b[0m\u001b[38;5;34m0\u001b[0m (0.00 B)\n"
            ],
            "text/html": [
              "<pre style=\"white-space:pre;overflow-x:auto;line-height:normal;font-family:Menlo,'DejaVu Sans Mono',consolas,'Courier New',monospace\"><span style=\"font-weight: bold\"> Non-trainable params: </span><span style=\"color: #00af00; text-decoration-color: #00af00\">0</span> (0.00 B)\n",
              "</pre>\n"
            ]
          },
          "metadata": {}
        }
      ],
      "source": [
        "# Build your model according to the instructions above using keras\n",
        "\n",
        "#  The variable name of your NN model should be model\n",
        "model = None\n",
        "\n",
        "### YOUR SOLUTION HERE\n",
        "model = keras.Sequential([\n",
        "    keras.layers.Flatten(input_shape=(28, 28)),\n",
        "    keras.layers.Dense(64, activation='relu'),\n",
        "    keras.layers.Dropout(0.3),\n",
        "    keras.layers.Dense(32, activation='relu'),\n",
        "    keras.layers.Dropout(0.1),\n",
        "    keras.layers.Dense(10, activation='softmax')\n",
        "])\n",
        "### YOUR SOLUTON ABOVE HERE\n",
        "\n",
        "# For reproducibility for grading, save initial weights\n",
        "initial_weights = model.get_weights()\n",
        "# total number of parameters in model\n",
        "total_params = model.count_params()\n",
        "# total number of trainable parameters in model\n",
        "trainable_params = np.sum([np.prod(v.shape) for v in model.trainable_variables])\n",
        "# See a summary of your model's architecture\n",
        "model.summary()"
      ]
    },
    {
      "cell_type": "code",
      "execution_count": null,
      "metadata": {
        "id": "GzUo6SWia1xo",
        "notebookgrader": {
          "id": "0bffa6a9cf69b4dea82b05b1d81109cf50666174",
          "is_solution": false,
          "is_tests": false,
          "readonly": true
        },
        "colab": {
          "base_uri": "https://localhost:8080/"
        },
        "outputId": "086133e6-0533-49d9-d69a-2e3294925b66"
      },
      "outputs": [
        {
          "output_type": "stream",
          "name": "stdout",
          "text": [
            "The number of trainable parameters in the model is incorrect.\n",
            "The number of nodes in the first hidden layer is incorrect.\n",
            "The dropout rate in the first dropout layer is incorrect.\n"
          ]
        }
      ],
      "source": [
        "# Non-graded feedback on your code\n",
        "if trainable_params != 25818: print(\"The number of trainable parameters in the model is incorrect.\")\n",
        "if type(model.layers[0]) != keras.layers.Flatten: print(\"The first layer of the model should be a flatten layer.\")\n",
        "if type(model.layers[1]) != keras.layers.Dense: print(\"The second layer of the model should be a dense layer.\")\n",
        "if model.input_shape != (None, 28, 28): print(\"The input shape of the model is incorrect.\")\n",
        "if model.output_shape != (None, 10): print(\"The output shape of the model is incorrect.\")\n",
        "if model.layers[1].units != 32: print(\"The number of nodes in the first hidden layer is incorrect.\")\n",
        "if model.layers[2].rate != 0.4: print(\"The dropout rate in the first dropout layer is incorrect.\")\n",
        "if model.layers[1].activation.__name__ != 'relu': print(\"The activation function in the first hidden layer is incorrect.\")"
      ]
    },
    {
      "cell_type": "markdown",
      "metadata": {
        "id": "PkfWh3KEtuD-",
        "notebookgrader": {
          "id": "3a23bb35615c7f324919f5ced3d29b7e85194fbd",
          "readonly": true
        }
      },
      "source": [
        "## Step 4b - Instructor grading code in the cell below"
      ]
    },
    {
      "cell_type": "code",
      "execution_count": null,
      "metadata": {
        "id": "9ETNDo3NFTN5",
        "notebookgrader": {
          "id": "f489dd40fc9ab46b6d62ca7ae0dbece8cf3e5a27",
          "is_solution": false,
          "is_tests": true,
          "points_earned": 15,
          "readonly": true,
          "test_points": 15
        },
        "colab": {
          "base_uri": "https://localhost:8080/"
        },
        "outputId": "65e385b4-1999-419b-fac8-5586eece6e88"
      },
      "outputs": [
        {
          "output_type": "stream",
          "name": "stdout",
          "text": [
            "Beginning hidden tests...\n",
            "Hidden tests complete.\n"
          ]
        }
      ],
      "source": [
        "# Tests 15 points: Testing the model build\n",
        "print (\"Beginning hidden tests...\")\n",
        "print(\"Hidden tests complete.\")"
      ]
    },
    {
      "cell_type": "markdown",
      "metadata": {
        "id": "dAziTdxju6ur",
        "notebookgrader": {
          "id": "fb69270b1551c77c3015613d84524d72c163515e",
          "readonly": true
        }
      },
      "source": [
        "## Step 4c - Your code\n",
        "\n",
        "Compile your model according to the following:\n",
        "* Use the ADAM optimizer\n",
        "* Use sparse categorical crossentropy as your loss function\n",
        "* Use sparse categorical accuracy as your evaluation metric"
      ]
    },
    {
      "cell_type": "code",
      "execution_count": null,
      "metadata": {
        "id": "i41QgH9zINUU",
        "notebookgrader": {
          "id": "c03aaecebb1fefa1cbb99a9d04e2286407cb18ec",
          "is_solution": true,
          "is_tests": false,
          "readonly": false
        }
      },
      "outputs": [],
      "source": [
        "# Compile your model according to the instructions above\n",
        "\n",
        "### YOUR SOLUTION HERE\n",
        "model.compile(optimizer='adam',\n",
        "              loss='sparse_categorical_crossentropy',\n",
        "              metrics=['sparse_categorical_accuracy'])"
      ]
    },
    {
      "cell_type": "code",
      "execution_count": null,
      "metadata": {
        "id": "_Jtbya2NbfJe",
        "notebookgrader": {
          "id": "0b20dae6175366b0e21e1c1fdbd313da1e32fd3c",
          "is_solution": false,
          "is_tests": false,
          "readonly": true
        }
      },
      "outputs": [],
      "source": [
        "# Non-graded feedback on your code\n",
        "if model.loss != 'sparse_categorical_crossentropy': print(\"The loss function is incorrect.\")"
      ]
    },
    {
      "cell_type": "markdown",
      "metadata": {
        "id": "4vJLoZbMwA8Y",
        "notebookgrader": {
          "id": "e49c0082514b78fd4f8893cc28c5cae967c4068e",
          "readonly": true
        }
      },
      "source": [
        "## Step 4d - Instructor grading code in the cell below"
      ]
    },
    {
      "cell_type": "code",
      "execution_count": null,
      "metadata": {
        "id": "EcP3dwBBIljE",
        "notebookgrader": {
          "id": "398d65050284e8d00770ba7a09feebafbc32e8e0",
          "is_solution": false,
          "is_tests": true,
          "points_earned": 10,
          "readonly": true,
          "test_points": 10
        },
        "colab": {
          "base_uri": "https://localhost:8080/"
        },
        "outputId": "2cb0e72f-3012-40fe-e896-66854e44e82f"
      },
      "outputs": [
        {
          "output_type": "stream",
          "name": "stdout",
          "text": [
            "Beginning hidden tests...\n",
            "Hidden tests complete.\n"
          ]
        }
      ],
      "source": [
        "# Tests 10 points: Testing the compiled neural net\n",
        "print (\"Beginning hidden tests...\")\n",
        "print(\"Hidden tests complete.\")"
      ]
    },
    {
      "cell_type": "markdown",
      "metadata": {
        "id": "8rJ-sFgSwHah",
        "notebookgrader": {
          "id": "e795936a3a66628249c7597f440335cd598bcb9e",
          "readonly": true
        }
      },
      "source": [
        "# Step 5"
      ]
    },
    {
      "cell_type": "markdown",
      "metadata": {
        "id": "C-O-P8tEwJWQ",
        "notebookgrader": {
          "id": "a0348981a9a9f78f6d6fe7d842d7695d667a5e1e",
          "readonly": true
        }
      },
      "source": [
        "## Step 5a - Your code\n",
        "\n",
        "Train the neural network `model` such that\n",
        "*  Save the training history in a variable called `history`\n",
        "*  For validation data, use `x_val` and `y_val`\n",
        "*  Train the number of epochs defined in the constant `EPOCHS`\n",
        "*  Use a batch size of 32\n",
        "\n",
        "Important: Make sure you only train for `epochs = EPOCHS` in order to reduce compute demand on the grading server."
      ]
    },
    {
      "cell_type": "code",
      "execution_count": null,
      "metadata": {
        "id": "HufdgJgPcICq",
        "notebookgrader": {
          "id": "b46c7af92a665fccba32b7adbfeacc4fc47670d8",
          "is_solution": true,
          "is_tests": false,
          "readonly": false
        },
        "colab": {
          "base_uri": "https://localhost:8080/"
        },
        "outputId": "64549f4a-318c-4d4f-c98a-d07f7c35c5aa"
      },
      "outputs": [
        {
          "output_type": "stream",
          "name": "stdout",
          "text": [
            "Epoch 1/20\n",
            "\u001b[1m13/13\u001b[0m \u001b[32m━━━━━━━━━━━━━━━━━━━━\u001b[0m\u001b[37m\u001b[0m \u001b[1m0s\u001b[0m 12ms/step - loss: 2.3801 - sparse_categorical_accuracy: 0.0896 - val_loss: 2.0565 - val_sparse_categorical_accuracy: 0.2500\n",
            "Epoch 2/20\n",
            "\u001b[1m13/13\u001b[0m \u001b[32m━━━━━━━━━━━━━━━━━━━━\u001b[0m\u001b[37m\u001b[0m \u001b[1m0s\u001b[0m 10ms/step - loss: 2.0626 - sparse_categorical_accuracy: 0.2515 - val_loss: 1.7525 - val_sparse_categorical_accuracy: 0.5476\n",
            "Epoch 3/20\n",
            "\u001b[1m13/13\u001b[0m \u001b[32m━━━━━━━━━━━━━━━━━━━━\u001b[0m\u001b[37m\u001b[0m \u001b[1m0s\u001b[0m 10ms/step - loss: 1.7555 - sparse_categorical_accuracy: 0.3985 - val_loss: 1.4358 - val_sparse_categorical_accuracy: 0.6071\n",
            "Epoch 4/20\n",
            "\u001b[1m13/13\u001b[0m \u001b[32m━━━━━━━━━━━━━━━━━━━━\u001b[0m\u001b[37m\u001b[0m \u001b[1m0s\u001b[0m 10ms/step - loss: 1.5550 - sparse_categorical_accuracy: 0.4920 - val_loss: 1.1666 - val_sparse_categorical_accuracy: 0.6548\n",
            "Epoch 5/20\n",
            "\u001b[1m13/13\u001b[0m \u001b[32m━━━━━━━━━━━━━━━━━━━━\u001b[0m\u001b[37m\u001b[0m \u001b[1m0s\u001b[0m 9ms/step - loss: 1.3056 - sparse_categorical_accuracy: 0.5189 - val_loss: 1.1094 - val_sparse_categorical_accuracy: 0.6429\n",
            "Epoch 6/20\n",
            "\u001b[1m13/13\u001b[0m \u001b[32m━━━━━━━━━━━━━━━━━━━━\u001b[0m\u001b[37m\u001b[0m \u001b[1m0s\u001b[0m 12ms/step - loss: 1.1495 - sparse_categorical_accuracy: 0.5683 - val_loss: 0.9561 - val_sparse_categorical_accuracy: 0.7143\n",
            "Epoch 7/20\n",
            "\u001b[1m13/13\u001b[0m \u001b[32m━━━━━━━━━━━━━━━━━━━━\u001b[0m\u001b[37m\u001b[0m \u001b[1m0s\u001b[0m 13ms/step - loss: 1.1152 - sparse_categorical_accuracy: 0.5932 - val_loss: 0.9429 - val_sparse_categorical_accuracy: 0.6786\n",
            "Epoch 8/20\n",
            "\u001b[1m13/13\u001b[0m \u001b[32m━━━━━━━━━━━━━━━━━━━━\u001b[0m\u001b[37m\u001b[0m \u001b[1m0s\u001b[0m 11ms/step - loss: 1.0270 - sparse_categorical_accuracy: 0.6090 - val_loss: 0.8688 - val_sparse_categorical_accuracy: 0.7143\n",
            "Epoch 9/20\n",
            "\u001b[1m13/13\u001b[0m \u001b[32m━━━━━━━━━━━━━━━━━━━━\u001b[0m\u001b[37m\u001b[0m \u001b[1m0s\u001b[0m 16ms/step - loss: 0.9772 - sparse_categorical_accuracy: 0.6487 - val_loss: 0.9198 - val_sparse_categorical_accuracy: 0.6190\n",
            "Epoch 10/20\n",
            "\u001b[1m13/13\u001b[0m \u001b[32m━━━━━━━━━━━━━━━━━━━━\u001b[0m\u001b[37m\u001b[0m \u001b[1m0s\u001b[0m 16ms/step - loss: 0.9504 - sparse_categorical_accuracy: 0.6480 - val_loss: 0.8173 - val_sparse_categorical_accuracy: 0.7024\n",
            "Epoch 11/20\n",
            "\u001b[1m13/13\u001b[0m \u001b[32m━━━━━━━━━━━━━━━━━━━━\u001b[0m\u001b[37m\u001b[0m \u001b[1m0s\u001b[0m 18ms/step - loss: 0.8815 - sparse_categorical_accuracy: 0.7140 - val_loss: 0.8289 - val_sparse_categorical_accuracy: 0.6548\n",
            "Epoch 12/20\n",
            "\u001b[1m13/13\u001b[0m \u001b[32m━━━━━━━━━━━━━━━━━━━━\u001b[0m\u001b[37m\u001b[0m \u001b[1m0s\u001b[0m 15ms/step - loss: 0.7901 - sparse_categorical_accuracy: 0.7078 - val_loss: 0.8122 - val_sparse_categorical_accuracy: 0.6667\n",
            "Epoch 13/20\n",
            "\u001b[1m13/13\u001b[0m \u001b[32m━━━━━━━━━━━━━━━━━━━━\u001b[0m\u001b[37m\u001b[0m \u001b[1m0s\u001b[0m 15ms/step - loss: 0.7984 - sparse_categorical_accuracy: 0.7238 - val_loss: 0.7964 - val_sparse_categorical_accuracy: 0.6786\n",
            "Epoch 14/20\n",
            "\u001b[1m13/13\u001b[0m \u001b[32m━━━━━━━━━━━━━━━━━━━━\u001b[0m\u001b[37m\u001b[0m \u001b[1m0s\u001b[0m 17ms/step - loss: 0.8036 - sparse_categorical_accuracy: 0.6678 - val_loss: 0.7686 - val_sparse_categorical_accuracy: 0.6667\n",
            "Epoch 15/20\n",
            "\u001b[1m13/13\u001b[0m \u001b[32m━━━━━━━━━━━━━━━━━━━━\u001b[0m\u001b[37m\u001b[0m \u001b[1m0s\u001b[0m 16ms/step - loss: 0.7958 - sparse_categorical_accuracy: 0.7100 - val_loss: 0.7891 - val_sparse_categorical_accuracy: 0.6548\n",
            "Epoch 16/20\n",
            "\u001b[1m13/13\u001b[0m \u001b[32m━━━━━━━━━━━━━━━━━━━━\u001b[0m\u001b[37m\u001b[0m \u001b[1m0s\u001b[0m 15ms/step - loss: 0.7250 - sparse_categorical_accuracy: 0.7478 - val_loss: 0.7503 - val_sparse_categorical_accuracy: 0.6786\n",
            "Epoch 17/20\n",
            "\u001b[1m13/13\u001b[0m \u001b[32m━━━━━━━━━━━━━━━━━━━━\u001b[0m\u001b[37m\u001b[0m \u001b[1m0s\u001b[0m 16ms/step - loss: 0.7120 - sparse_categorical_accuracy: 0.7642 - val_loss: 0.7257 - val_sparse_categorical_accuracy: 0.6667\n",
            "Epoch 18/20\n",
            "\u001b[1m13/13\u001b[0m \u001b[32m━━━━━━━━━━━━━━━━━━━━\u001b[0m\u001b[37m\u001b[0m \u001b[1m0s\u001b[0m 9ms/step - loss: 0.6374 - sparse_categorical_accuracy: 0.7749 - val_loss: 0.7216 - val_sparse_categorical_accuracy: 0.6786\n",
            "Epoch 19/20\n",
            "\u001b[1m13/13\u001b[0m \u001b[32m━━━━━━━━━━━━━━━━━━━━\u001b[0m\u001b[37m\u001b[0m \u001b[1m0s\u001b[0m 12ms/step - loss: 0.7067 - sparse_categorical_accuracy: 0.7452 - val_loss: 0.7096 - val_sparse_categorical_accuracy: 0.6786\n",
            "Epoch 20/20\n",
            "\u001b[1m13/13\u001b[0m \u001b[32m━━━━━━━━━━━━━━━━━━━━\u001b[0m\u001b[37m\u001b[0m \u001b[1m0s\u001b[0m 10ms/step - loss: 0.6171 - sparse_categorical_accuracy: 0.7841 - val_loss: 0.7147 - val_sparse_categorical_accuracy: 0.6786\n"
          ]
        }
      ],
      "source": [
        "# Train your model according to the instructions above\n",
        "\n",
        "# Before calling model.fit(), reset the weights so that use same starting point every time\n",
        "model.set_weights(initial_weights)\n",
        "\n",
        "# So we don't overload server with compute requests\n",
        "EPOCHS = 20\n",
        "\n",
        "### YOUR SOLUTION HERE\n",
        "history = model.fit(x_train, y_train, epochs=EPOCHS, batch_size=32, validation_data=(x_val, y_val))"
      ]
    },
    {
      "cell_type": "code",
      "execution_count": null,
      "metadata": {
        "id": "FmaZIrxsbyW-",
        "notebookgrader": {
          "id": "b40d6de27ed3f9b63d18dbb185a2928c734cb9c1",
          "is_solution": false,
          "is_tests": false,
          "readonly": true
        }
      },
      "outputs": [],
      "source": [
        "# Non-graded feedback on your code\n",
        "if history.params['epochs'] != EPOCHS: print(\"The number of epochs is incorrect.\")"
      ]
    },
    {
      "cell_type": "markdown",
      "metadata": {
        "id": "WIQmhV_Yw_G-",
        "notebookgrader": {
          "id": "28221e12799c3c7714fb37b789e20bf578474c9d",
          "readonly": true
        }
      },
      "source": [
        "## Step 5b - Instructor grading code in the cell below"
      ]
    },
    {
      "cell_type": "code",
      "execution_count": null,
      "metadata": {
        "id": "02t06ql3wDiA",
        "notebookgrader": {
          "id": "3f72501c3be5337c8fb3060c543fbd5d6922850a",
          "is_solution": false,
          "is_tests": true,
          "points_earned": 5,
          "readonly": true,
          "test_points": 5
        },
        "colab": {
          "base_uri": "https://localhost:8080/"
        },
        "outputId": "60c9b9c6-65ab-4fb6-8cbb-d692988edf1e"
      },
      "outputs": [
        {
          "output_type": "stream",
          "name": "stdout",
          "text": [
            "Beginning hidden tests...\n",
            "Hidden tests complete.\n"
          ]
        }
      ],
      "source": [
        "# Tests 5 points: Testing model training\n",
        "print (\"Beginning hidden tests...\")\n",
        "print(\"Hidden tests complete.\")"
      ]
    },
    {
      "cell_type": "markdown",
      "metadata": {
        "id": "F54gqVcmxIMd",
        "notebookgrader": {
          "id": "354ba80f3925deb751fef956cde06d697a057db3",
          "readonly": true
        }
      },
      "source": [
        "## Step 5c\n",
        "Run the cell below and examine the training plots."
      ]
    },
    {
      "cell_type": "code",
      "execution_count": null,
      "metadata": {
        "id": "dboILUhzw8H7",
        "notebookgrader": {
          "id": "68a2afaa07155df058c3c6d872106af4e60223de",
          "is_solution": false,
          "is_tests": false,
          "readonly": true
        },
        "colab": {
          "base_uri": "https://localhost:8080/",
          "height": 410
        },
        "outputId": "6dcd55b3-69a4-4c50-afac-b2303759f0d6"
      },
      "outputs": [
        {
          "output_type": "display_data",
          "data": {
            "text/plain": [
              "<Figure size 1200x400 with 2 Axes>"
            ],
            "image/png": "[encoded data removed]"
          },
          "metadata": {}
        }
      ],
      "source": [
        "# Plot learning curves\n",
        "plt.figure(figsize=(12, 4))\n",
        "plt.subplot(1, 2, 1)\n",
        "plt.plot(history.history['loss'], label='Training Loss')\n",
        "plt.plot(history.history['val_loss'], label='Validation Loss')\n",
        "plt.title('Learning Curves - Loss')\n",
        "plt.xlabel('Epochs')\n",
        "plt.ylabel('Loss')\n",
        "plt.legend()\n",
        "plt.grid(True)\n",
        "\n",
        "plt.subplot(1, 2, 2)\n",
        "plt.plot(history.history['sparse_categorical_accuracy'], label='Training Accuracy')\n",
        "plt.plot(history.history['val_sparse_categorical_accuracy'], label='Validation Accuracy')\n",
        "plt.title('Learning Curves - Accuracy')\n",
        "plt.xlabel('Epochs')\n",
        "plt.ylabel('Accuracy')\n",
        "plt.legend()\n",
        "plt.grid(True)\n",
        "\n",
        "plt.show()"
      ]
    },
    {
      "cell_type": "markdown",
      "metadata": {
        "id": "HiwYFlcRxGLF",
        "notebookgrader": {
          "id": "e36cd900f37106750dd09dfea60ffc7e4ec0f842",
          "readonly": true
        }
      },
      "source": [
        "# Step 6"
      ]
    },
    {
      "cell_type": "markdown",
      "metadata": {
        "id": "eD90Zwaga-zV",
        "notebookgrader": {
          "id": "49919b83421d8e1920d55d1b6d1a9253f6ce4a64",
          "readonly": true
        }
      },
      "source": [
        "## Step 6a - Your code\n",
        "Model evaluation\n",
        "\n",
        "To perform the model evaluation, do the following:\n",
        "1. Have the model make predictions using the test data.\n",
        "2. Evaluate the predictions using sparse categorical accuracy.\n",
        "Save the value of sparse categorical accuracy to the variable\n",
        "`sca_metric`.\n",
        "3. Convert the predictions (each prediction is a vector of the probability for each class option) to class labels (each prediction is an integer representing the predicted class).\n",
        "4. Evaluate the class label predictions using a weighted F1 score.\n",
        "Save the value of the weighted F1-score to the variable\n",
        "`f1_metric`.\n",
        "5. Print the values of `sca_metric` and `f1_metric`."
      ]
    },
    {
      "cell_type": "code",
      "execution_count": null,
      "metadata": {
        "id": "SmiExvsGVAo2",
        "notebookgrader": {
          "id": "8d7a123743b9794091ba0d92f8422e10af865c91",
          "is_solution": true,
          "is_tests": false,
          "readonly": false
        },
        "colab": {
          "base_uri": "https://localhost:8080/"
        },
        "outputId": "a77d40e8-9bfe-45ef-927e-4b8539b113ba"
      },
      "outputs": [
        {
          "output_type": "stream",
          "name": "stdout",
          "text": [
            "\u001b[1m3/3\u001b[0m \u001b[32m━━━━━━━━━━━━━━━━━━━━\u001b[0m\u001b[37m\u001b[0m \u001b[1m0s\u001b[0m 14ms/step - loss: 0.7063 - sparse_categorical_accuracy: 0.7404\n"
          ]
        },
        {
          "output_type": "stream",
          "name": "stderr",
          "text": [
            "WARNING:tensorflow:5 out of the last 7 calls to <function TensorFlowTrainer.make_predict_function.<locals>.one_step_on_data_distributed at 0x7dcea2e74fe0> triggered tf.function retracing. Tracing is expensive and the excessive number of tracings could be due to (1) creating @tf.function repeatedly in a loop, (2) passing tensors with different shapes, (3) passing Python objects instead of tensors. For (1), please define your @tf.function outside of the loop. For (2), @tf.function has reduce_retracing=True option that can avoid unnecessary retracing. For (3), please refer to https://www.tensorflow.org/guide/function#controlling_retracing and https://www.tensorflow.org/api_docs/python/tf/function for  more details.\n"
          ]
        },
        {
          "output_type": "stream",
          "name": "stdout",
          "text": [
            "\r\u001b[1m1/3\u001b[0m \u001b[32m━━━━━━\u001b[0m\u001b[37m━━━━━━━━━━━━━━\u001b[0m \u001b[1m0s\u001b[0m 63ms/step"
          ]
        },
        {
          "output_type": "stream",
          "name": "stderr",
          "text": [
            "WARNING:tensorflow:6 out of the last 9 calls to <function TensorFlowTrainer.make_predict_function.<locals>.one_step_on_data_distributed at 0x7dcea2e74fe0> triggered tf.function retracing. Tracing is expensive and the excessive number of tracings could be due to (1) creating @tf.function repeatedly in a loop, (2) passing tensors with different shapes, (3) passing Python objects instead of tensors. For (1), please define your @tf.function outside of the loop. For (2), @tf.function has reduce_retracing=True option that can avoid unnecessary retracing. For (3), please refer to https://www.tensorflow.org/guide/function#controlling_retracing and https://www.tensorflow.org/api_docs/python/tf/function for  more details.\n"
          ]
        },
        {
          "output_type": "stream",
          "name": "stdout",
          "text": [
            "\u001b[1m3/3\u001b[0m \u001b[32m━━━━━━━━━━━━━━━━━━━━\u001b[0m\u001b[37m\u001b[0m \u001b[1m0s\u001b[0m 38ms/step\n",
            "Sparse Categorical Accuracy: 0.7228915691375732\n",
            "Weighted F1-score: 0.7098999084639858\n"
          ]
        }
      ],
      "source": [
        "# Perform the instructions above\n",
        "\n",
        "### YOUR SOLUTION HERE\n",
        "sca_metric = model.evaluate(x_test, y_test)[1]\n",
        "y_pred = np.argmax(model.predict(x_test), axis=1)\n",
        "f1_metric = f1_score(y_test, y_pred, average='weighted')\n",
        "print(\"Sparse Categorical Accuracy:\", sca_metric)\n",
        "print(\"Weighted F1-score:\", f1_metric)"
      ]
    },
    {
      "cell_type": "code",
      "execution_count": null,
      "metadata": {
        "id": "YgNx1X1RcIru",
        "notebookgrader": {
          "id": "1e14ee893a7b6327bd94644f4c95c0c42500e95c",
          "is_solution": false,
          "is_tests": false,
          "readonly": true
        },
        "colab": {
          "base_uri": "https://localhost:8080/"
        },
        "outputId": "e56f52e8-90ba-4e1b-8dae-e47315df61db"
      },
      "outputs": [
        {
          "output_type": "stream",
          "name": "stdout",
          "text": [
            "y_pred[5] has incorrect value.\n"
          ]
        }
      ],
      "source": [
        "# Non-graded feedback on your code\n",
        "if y_pred[5] != 5: print(\"y_pred[5] has incorrect value.\")"
      ]
    },
    {
      "cell_type": "markdown",
      "metadata": {
        "id": "p34MuK4jzAF6",
        "notebookgrader": {
          "id": "358c4860788394fd95aa2e4c6361589597ded2fb",
          "readonly": true
        }
      },
      "source": [
        "## Step 6b - Instructor grading code in the cell below"
      ]
    },
    {
      "cell_type": "code",
      "execution_count": null,
      "metadata": {
        "id": "dgdwOIe_yOpU",
        "notebookgrader": {
          "id": "ffbd8eedbadab4c28353db7d6edbae5eda56f437",
          "is_solution": false,
          "is_tests": true,
          "points_earned": 10,
          "readonly": true,
          "test_points": 10
        },
        "colab": {
          "base_uri": "https://localhost:8080/"
        },
        "outputId": "ee780df3-ecb1-4b33-ea24-7cdb8d1dd1a7"
      },
      "outputs": [
        {
          "output_type": "stream",
          "name": "stdout",
          "text": [
            "Beginning hidden tests...\n",
            "Hidden tests complete.\n"
          ]
        }
      ],
      "source": [
        "# Tests 10 points: Testing model predictions and evaluation metrics\n",
        "print (\"Beginning hidden tests...\")\n",
        "print(\"Hidden tests complete.\")"
      ]
    }
  ],
  "metadata": {
    "colab": {
      "provenance": [],
      "include_colab_link": true
    },
    "kernelspec": {
      "display_name": "Python 3",
      "name": "python3"
    },
    "language_info": {
      "name": "python"
    },
    "notebookgrader": {
      "total_points": 50
    }
  },
  "nbformat": 4,
  "nbformat_minor": 0
}