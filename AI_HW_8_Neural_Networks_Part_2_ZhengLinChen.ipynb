{
  "cells": [
    {
      "cell_type": "markdown",
      "metadata": {
        "id": "view-in-github",
        "colab_type": "text"
      },
      "source": [
        "<a href=\"https://colab.research.google.com/github/zhenglinchen1096496/DBU-Python/blob/main/AI_HW_8_Neural_Networks_Part_2_ZhengLinChen.ipynb\" target=\"_parent\"><img src=\"https://colab.research.google.com/assets/colab-badge.svg\" alt=\"Open In Colab\"/></a>"
      ]
    },
    {
      "cell_type": "markdown",
      "metadata": {
        "id": "AkPOJZJbRHgQ",
        "notebookgrader": {
          "id": "5b11667f0a5132c0edaefcc362b25535ab76dc7c",
          "readonly": true
        }
      },
      "source": [
        "###NOTE:\n",
        "The NotebookGrader server will only allow 1 minute of compute for training.  As such, for Part 1, which is about learning the process, we are going to make a small model, train it for only a few epochs, and reduce the number of images in the training set.  For Part 2, you will make a larger model that you will train on the Google Colab servers for many epochs, and then you will save and load this trained model into a notebook for the grading of Part 2."
      ]
    },
    {
      "cell_type": "markdown",
      "metadata": {
        "id": "6UI_cvs3d86D",
        "notebookgrader": {
          "id": "25328cb4c402091e0498a655dfbce79baba3455f",
          "readonly": true
        }
      },
      "source": [
        "#Instructions\n",
        "\n",
        "In this notebook, you will complete code only in cells below the comment `### YOUR SOLUTION HERE`.  You will add your relevant code in cells below the comment, and no where else.\n",
        "\n",
        "For example, you would complete the code cell below as follows:\n",
        "```\n",
        "# Write code to print \"Hello\"\n",
        "### YOUR SOLUTION HERE\n",
        "print(\"Hello\")\n",
        "```\n",
        "\n",
        "Once you have completed your code, you can test your code by running the test cell which contains a comment that looks like this:\n",
        "```\n",
        "# Tests 5 points: Printing \"Hello\"\n",
        "```\n",
        "\n",
        "**Do not change any parts of this notebook aside from adding code below the cells in the notebook with `### YOUR SOLUTION HERE`.**  Changing unauthorized parts of the notebook could result in a zero for the assignment.\n",
        "\n",
        "In this notebook, proceed step by step.  Do not move on to the next section until you have successfully completed all of the prior sections.\n",
        "\n",
        "You can see a video demo of this tool at the following link:\n",
        "\n",
        "https://youtu.be/yvLWbpgnspM?si=oeUEICnxrC0Ysbjb&t=143"
      ]
    },
    {
      "cell_type": "markdown",
      "metadata": {
        "id": "TzNu4KPTeGX5",
        "notebookgrader": {
          "id": "d1364bbef416261e2168403981e79959993f662a",
          "readonly": true
        }
      },
      "source": [
        "# Step 1"
      ]
    },
    {
      "cell_type": "markdown",
      "metadata": {
        "id": "Gidiu-lBIZ0D",
        "notebookgrader": {
          "id": "3c5c582146eb35834a10e0233101c328cdad3ade",
          "readonly": true
        }
      },
      "source": [
        "Run the cells below."
      ]
    },
    {
      "cell_type": "code",
      "execution_count": null,
      "metadata": {
        "id": "MXz7fS8uByEF",
        "notebookgrader": {
          "id": "891c7e33ab90515270c0cd64605eff3961b3b68f",
          "is_solution": false,
          "is_tests": false,
          "readonly": true
        }
      },
      "outputs": [],
      "source": [
        "# Import necessary libraries\n",
        "import numpy as np\n",
        "import matplotlib.pyplot as plt\n",
        "import seaborn as sns\n",
        "import tensorflow as tf\n",
        "from tensorflow import keras\n",
        "from sklearn.metrics import classification_report, confusion_matrix, f1_score, accuracy_score\n",
        "from sklearn.model_selection import train_test_split\n",
        "import random\n",
        "import time  # Import the time module\n",
        "from keras import regularizers\n",
        "\n",
        "\n",
        "# Set random seed for reproducibility\n",
        "RANDOM_SEED = 23\n",
        "np.random.seed(RANDOM_SEED)\n",
        "random.seed(RANDOM_SEED)\n",
        "tf.random.set_seed(RANDOM_SEED)\n"
      ]
    },
    {
      "cell_type": "code",
      "execution_count": null,
      "metadata": {
        "id": "gPzbpxa_Ue1E",
        "notebookgrader": {
          "id": "431feda7c4b5277ce5bd34f4e5550f42d96ba5c0",
          "is_solution": false,
          "is_tests": false,
          "readonly": true
        },
        "colab": {
          "base_uri": "https://localhost:8080/"
        },
        "outputId": "c944a23b-0e33-4137-ffb9-de6ae794bfeb"
      },
      "outputs": [
        {
          "output_type": "stream",
          "name": "stdout",
          "text": [
            "Downloading data from https://storage.googleapis.com/tensorflow/tf-keras-datasets/train-labels-idx1-ubyte.gz\n",
            "\u001b[1m29515/29515\u001b[0m \u001b[32m━━━━━━━━━━━━━━━━━━━━\u001b[0m\u001b[37m\u001b[0m \u001b[1m0s\u001b[0m 0us/step\n",
            "Downloading data from https://storage.googleapis.com/tensorflow/tf-keras-datasets/train-images-idx3-ubyte.gz\n",
            "\u001b[1m26421880/26421880\u001b[0m \u001b[32m━━━━━━━━━━━━━━━━━━━━\u001b[0m\u001b[37m\u001b[0m \u001b[1m2s\u001b[0m 0us/step\n",
            "Downloading data from https://storage.googleapis.com/tensorflow/tf-keras-datasets/t10k-labels-idx1-ubyte.gz\n",
            "\u001b[1m5148/5148\u001b[0m \u001b[32m━━━━━━━━━━━━━━━━━━━━\u001b[0m\u001b[37m\u001b[0m \u001b[1m0s\u001b[0m 1us/step\n",
            "Downloading data from https://storage.googleapis.com/tensorflow/tf-keras-datasets/t10k-images-idx3-ubyte.gz\n",
            "\u001b[1m4422102/4422102\u001b[0m \u001b[32m━━━━━━━━━━━━━━━━━━━━\u001b[0m\u001b[37m\u001b[0m \u001b[1m1s\u001b[0m 0us/step\n"
          ]
        }
      ],
      "source": [
        "# Load the MNIST dataset\n",
        "(x_train, y_train), (x_test, y_test) = tf.keras.datasets.fashion_mnist.load_data()\n"
      ]
    },
    {
      "cell_type": "code",
      "execution_count": null,
      "metadata": {
        "id": "a_iB0wWSMd_Y",
        "notebookgrader": {
          "id": "17571de8517827fe6de79b88e8e7de98e003e56a",
          "is_solution": false,
          "is_tests": false,
          "readonly": true
        }
      },
      "outputs": [],
      "source": [
        "# Define a dictionary that maps target values to the corresponding MNIST Fashion clothing category names\n",
        "fashion_mnist_labels = {\n",
        "    0: \"T-shirt/top\",\n",
        "    1: \"Trouser\",\n",
        "    2: \"Pullover\",\n",
        "    3: \"Dress\",\n",
        "    4: \"Coat\",\n",
        "    5: \"Sandal\",\n",
        "    6: \"Shirt\",\n",
        "    7: \"Sneaker\",\n",
        "    8: \"Bag\",\n",
        "    9: \"Ankle boot\"\n",
        "}\n"
      ]
    },
    {
      "cell_type": "code",
      "execution_count": null,
      "metadata": {
        "id": "sJWP2qyTgHHc",
        "notebookgrader": {
          "id": "bcb5ff3207c47c9bfc5d44de1377534857570cae",
          "is_solution": false,
          "is_tests": false,
          "readonly": true
        },
        "colab": {
          "base_uri": "https://localhost:8080/"
        },
        "outputId": "d2207f74-5a4d-4949-de3c-abb0e972144b"
      },
      "outputs": [
        {
          "output_type": "stream",
          "name": "stdout",
          "text": [
            "TRAINNG DATA\n",
            "(60000, 28, 28)\n",
            "(60000,)\n",
            "\n",
            "TESTING DATA\n",
            "(10000, 28, 28)\n",
            "(10000,)\n",
            "\n",
            " Testing to Training ratio = 0.16666666666666666\n"
          ]
        }
      ],
      "source": [
        "#  Show the shape of our downloaded data\n",
        "\n",
        "print(\"TRAINNG DATA\")\n",
        "# Can see that in x data we have 60,000 28x28 pixel images\n",
        "print(x_train.shape)\n",
        "# Can see that we have one label for each of the 60,000 images\n",
        "print(y_train.shape)\n",
        "\n",
        "print(\"\\nTESTING DATA\")\n",
        "# Can see that in x data we have 10,000 28x28 pixel images\n",
        "print(x_test.shape)\n",
        "# Can see that we have one label for each of the 10,000 images\n",
        "print(y_test.shape)\n",
        "\n",
        "print('\\n Testing to Training ratio =', x_test.shape[0]/x_train.shape[0])\n"
      ]
    },
    {
      "cell_type": "code",
      "execution_count": null,
      "metadata": {
        "id": "Ja0be39Ag_sL",
        "notebookgrader": {
          "id": "e4851371f48465c8aabd2d46c408a1f9757d8fe9",
          "is_solution": false,
          "is_tests": false,
          "readonly": true
        },
        "colab": {
          "base_uri": "https://localhost:8080/",
          "height": 68
        },
        "outputId": "ac9e3809-2bfa-401a-8d37-e6bb865b9923"
      },
      "outputs": [
        {
          "output_type": "execute_result",
          "data": {
            "text/plain": [
              "array([[  0,   0,   0,   0,   0,   0,   0,   0,   0,   0,   0,   0,   0,\n",
              "          0,   0,   0,   0,   0,   0,   0,   0,   0,   0,   0,   0,   0,\n",
              "          0,   0],\n",
              "       [  0,   0,   0,   0,   0,   0,   0,   0,   0,   0,   0,   0,   0,\n",
              "          0,   0,   0,   0,   0,   0,   0,   0,   0,   0,   0,   0,   0,\n",
              "          0,   0],\n",
              "       [  0,   0,   0,   0,   0,   0,   0,   0,   0,   0,   0,   0,   0,\n",
              "          0,   0,   0,   0,   0,   0,   0,   0,   0,   0,   0,   0,   0,\n",
              "          0,   0],\n",
              "       [  0,   0,   0,   0,   0,   0,   0,   0,   0,   0,   0,   0,   1,\n",
              "          0,   0,  13,  73,   0,   0,   1,   4,   0,   0,   0,   0,   1,\n",
              "          1,   0],\n",
              "       [  0,   0,   0,   0,   0,   0,   0,   0,   0,   0,   0,   0,   3,\n",
              "          0,  36, 136, 127,  62,  54,   0,   0,   0,   1,   3,   4,   0,\n",
              "          0,   3],\n",
              "       [  0,   0,   0,   0,   0,   0,   0,   0,   0,   0,   0,   0,   6,\n",
              "          0, 102, 204, 176, 134, 144, 123,  23,   0,   0,   0,   0,  12,\n",
              "         10,   0],\n",
              "       [  0,   0,   0,   0,   0,   0,   0,   0,   0,   0,   0,   0,   0,\n",
              "          0, 155, 236, 207, 178, 107, 156, 161, 109,  64,  23,  77, 130,\n",
              "         72,  15],\n",
              "       [  0,   0,   0,   0,   0,   0,   0,   0,   0,   0,   0,   1,   0,\n",
              "         69, 207, 223, 218, 216, 216, 163, 127, 121, 122, 146, 141,  88,\n",
              "        172,  66],\n",
              "       [  0,   0,   0,   0,   0,   0,   0,   0,   0,   1,   1,   1,   0,\n",
              "        200, 232, 232, 233, 229, 223, 223, 215, 213, 164, 127, 123, 196,\n",
              "        229,   0],\n",
              "       [  0,   0,   0,   0,   0,   0,   0,   0,   0,   0,   0,   0,   0,\n",
              "        183, 225, 216, 223, 228, 235, 227, 224, 222, 224, 221, 223, 245,\n",
              "        173,   0],\n",
              "       [  0,   0,   0,   0,   0,   0,   0,   0,   0,   0,   0,   0,   0,\n",
              "        193, 228, 218, 213, 198, 180, 212, 210, 211, 213, 223, 220, 243,\n",
              "        202,   0],\n",
              "       [  0,   0,   0,   0,   0,   0,   0,   0,   0,   1,   3,   0,  12,\n",
              "        219, 220, 212, 218, 192, 169, 227, 208, 218, 224, 212, 226, 197,\n",
              "        209,  52],\n",
              "       [  0,   0,   0,   0,   0,   0,   0,   0,   0,   0,   6,   0,  99,\n",
              "        244, 222, 220, 218, 203, 198, 221, 215, 213, 222, 220, 245, 119,\n",
              "        167,  56],\n",
              "       [  0,   0,   0,   0,   0,   0,   0,   0,   0,   4,   0,   0,  55,\n",
              "        236, 228, 230, 228, 240, 232, 213, 218, 223, 234, 217, 217, 209,\n",
              "         92,   0],\n",
              "       [  0,   0,   1,   4,   6,   7,   2,   0,   0,   0,   0,   0, 237,\n",
              "        226, 217, 223, 222, 219, 222, 221, 216, 223, 229, 215, 218, 255,\n",
              "         77,   0],\n",
              "       [  0,   3,   0,   0,   0,   0,   0,   0,   0,  62, 145, 204, 228,\n",
              "        207, 213, 221, 218, 208, 211, 218, 224, 223, 219, 215, 224, 244,\n",
              "        159,   0],\n",
              "       [  0,   0,   0,   0,  18,  44,  82, 107, 189, 228, 220, 222, 217,\n",
              "        226, 200, 205, 211, 230, 224, 234, 176, 188, 250, 248, 233, 238,\n",
              "        215,   0],\n",
              "       [  0,  57, 187, 208, 224, 221, 224, 208, 204, 214, 208, 209, 200,\n",
              "        159, 245, 193, 206, 223, 255, 255, 221, 234, 221, 211, 220, 232,\n",
              "        246,   0],\n",
              "       [  3, 202, 228, 224, 221, 211, 211, 214, 205, 205, 205, 220, 240,\n",
              "         80, 150, 255, 229, 221, 188, 154, 191, 210, 204, 209, 222, 228,\n",
              "        225,   0],\n",
              "       [ 98, 233, 198, 210, 222, 229, 229, 234, 249, 220, 194, 215, 217,\n",
              "        241,  65,  73, 106, 117, 168, 219, 221, 215, 217, 223, 223, 224,\n",
              "        229,  29],\n",
              "       [ 75, 204, 212, 204, 193, 205, 211, 225, 216, 185, 197, 206, 198,\n",
              "        213, 240, 195, 227, 245, 239, 223, 218, 212, 209, 222, 220, 221,\n",
              "        230,  67],\n",
              "       [ 48, 203, 183, 194, 213, 197, 185, 190, 194, 192, 202, 214, 219,\n",
              "        221, 220, 236, 225, 216, 199, 206, 186, 181, 177, 172, 181, 205,\n",
              "        206, 115],\n",
              "       [  0, 122, 219, 193, 179, 171, 183, 196, 204, 210, 213, 207, 211,\n",
              "        210, 200, 196, 194, 191, 195, 191, 198, 192, 176, 156, 167, 177,\n",
              "        210,  92],\n",
              "       [  0,   0,  74, 189, 212, 191, 175, 172, 175, 181, 185, 188, 189,\n",
              "        188, 193, 198, 204, 209, 210, 210, 211, 188, 188, 194, 192, 216,\n",
              "        170,   0],\n",
              "       [  2,   0,   0,   0,  66, 200, 222, 237, 239, 242, 246, 243, 244,\n",
              "        221, 220, 193, 191, 179, 182, 182, 181, 176, 166, 168,  99,  58,\n",
              "          0,   0],\n",
              "       [  0,   0,   0,   0,   0,   0,   0,  40,  61,  44,  72,  41,  35,\n",
              "          0,   0,   0,   0,   0,   0,   0,   0,   0,   0,   0,   0,   0,\n",
              "          0,   0],\n",
              "       [  0,   0,   0,   0,   0,   0,   0,   0,   0,   0,   0,   0,   0,\n",
              "          0,   0,   0,   0,   0,   0,   0,   0,   0,   0,   0,   0,   0,\n",
              "          0,   0],\n",
              "       [  0,   0,   0,   0,   0,   0,   0,   0,   0,   0,   0,   0,   0,\n",
              "          0,   0,   0,   0,   0,   0,   0,   0,   0,   0,   0,   0,   0,\n",
              "          0,   0]], dtype=uint8)"
            ],
            "text/html": [
              "<style>\n",
              "      .ndarray_repr .ndarray_raw_data {\n",
              "        display: none;\n",
              "      }\n",
              "      .ndarray_repr.show_array .ndarray_raw_data {\n",
              "        display: block;\n",
              "      }\n",
              "      .ndarray_repr.show_array .ndarray_image_preview {\n",
              "        display: none;\n",
              "      }\n",
              "      </style>\n",
              "      <div id=\"id-1002c23c-1bba-403e-9b52-cb7ecfa285ae\" class=\"ndarray_repr\"><pre>ndarray (28, 28) <button style=\"padding: 0 2px;\">show data</button></pre><img src=\"data:image/png;base64,iVBORw0KGgoAAAANSUhEUgAAABwAAAAcCAAAAABXZoBIAAACBUlEQVR4nLXSz0tUURQH8O+597373rx545g6NmNJY6TlJgozEsKFZGCrkDBoVdGmdf9BiwJ3bVr1PwhBUbQfJQcKjWZRTsjo0KDpDPV+eN+997WK0Z2bvtsPfM+Bc4D/HwJycwBZAEAE6zAyfe5RFMQfFYiRAj+CXM/c2HK82VetVMM34RGUmCxz9v7yYnW9dnWyskyHR6azi72Jwep3ScVk9c7LLhKQrpRBSiI2n76puZFT3doUwH4pcmw/zpjrU2zw3dFt4XEWdvbKhpinzTBYt5bDH4qlLYO8cbKBWHOudDHluFtiLrLD0kmM2//6q9VFS+JLLDxv9GzMPV9v3XuzYgHEGSUGCngbRCLd4W6CxPCLHTDwVMkDA0y/qEa/lFFBoF2EEME8CAD6hsZK8+djlmSatuiXXsWfNh27NU6Yelro1bytPElRbaGaO1FGPfc7zPg9HvHlIaVD8AjID9y/+bgZ/6iP9ks7J/QZevh8w/cd2PlGs8CKt92R7MQEk0yA7GtWq9ETN3zRs7fpR7FaWi/3yXaipW1IjFnbaSM70N7dsRzbzbHd8aCx7+wmKskUO5esz0sPmvXYF67gBzoNfxptxb5stxM10iLg1pOTO23NhcUptW1hE6gFYYprC8QMMPNsMM+4pamVbps/HGkSsg+1Cv4d+0Jh//Sm3DjGix4rfwFoJNh2/0cDFgAAAABJRU5ErkJggg==\" class=\"ndarray_image_preview\" /><pre class=\"ndarray_raw_data\">array([[  0,   0,   0,   0,   0,   0,   0,   0,   0,   0,   0,   0,   0,\n",
              "          0,   0,   0,   0,   0,   0,   0,   0,   0,   0,   0,   0,   0,\n",
              "          0,   0],\n",
              "       [  0,   0,   0,   0,   0,   0,   0,   0,   0,   0,   0,   0,   0,\n",
              "          0,   0,   0,   0,   0,   0,   0,   0,   0,   0,   0,   0,   0,\n",
              "          0,   0],\n",
              "       [  0,   0,   0,   0,   0,   0,   0,   0,   0,   0,   0,   0,   0,\n",
              "          0,   0,   0,   0,   0,   0,   0,   0,   0,   0,   0,   0,   0,\n",
              "          0,   0],\n",
              "       [  0,   0,   0,   0,   0,   0,   0,   0,   0,   0,   0,   0,   1,\n",
              "          0,   0,  13,  73,   0,   0,   1,   4,   0,   0,   0,   0,   1,\n",
              "          1,   0],\n",
              "       [  0,   0,   0,   0,   0,   0,   0,   0,   0,   0,   0,   0,   3,\n",
              "          0,  36, 136, 127,  62,  54,   0,   0,   0,   1,   3,   4,   0,\n",
              "          0,   3],\n",
              "       [  0,   0,   0,   0,   0,   0,   0,   0,   0,   0,   0,   0,   6,\n",
              "          0, 102, 204, 176, 134, 144, 123,  23,   0,   0,   0,   0,  12,\n",
              "         10,   0],\n",
              "       [  0,   0,   0,   0,   0,   0,   0,   0,   0,   0,   0,   0,   0,\n",
              "          0, 155, 236, 207, 178, 107, 156, 161, 109,  64,  23,  77, 130,\n",
              "         72,  15],\n",
              "       [  0,   0,   0,   0,   0,   0,   0,   0,   0,   0,   0,   1,   0,\n",
              "         69, 207, 223, 218, 216, 216, 163, 127, 121, 122, 146, 141,  88,\n",
              "        172,  66],\n",
              "       [  0,   0,   0,   0,   0,   0,   0,   0,   0,   1,   1,   1,   0,\n",
              "        200, 232, 232, 233, 229, 223, 223, 215, 213, 164, 127, 123, 196,\n",
              "        229,   0],\n",
              "       [  0,   0,   0,   0,   0,   0,   0,   0,   0,   0,   0,   0,   0,\n",
              "        183, 225, 216, 223, 228, 235, 227, 224, 222, 224, 221, 223, 245,\n",
              "        173,   0],\n",
              "       [  0,   0,   0,   0,   0,   0,   0,   0,   0,   0,   0,   0,   0,\n",
              "        193, 228, 218, 213, 198, 180, 212, 210, 211, 213, 223, 220, 243,\n",
              "        202,   0],\n",
              "       [  0,   0,   0,   0,   0,   0,   0,   0,   0,   1,   3,   0,  12,\n",
              "        219, 220, 212, 218, 192, 169, 227, 208, 218, 224, 212, 226, 197,\n",
              "        209,  52],\n",
              "       [  0,   0,   0,   0,   0,   0,   0,   0,   0,   0,   6,   0,  99,\n",
              "        244, 222, 220, 218, 203, 198, 221, 215, 213, 222, 220, 245, 119,\n",
              "        167,  56],\n",
              "       [  0,   0,   0,   0,   0,   0,   0,   0,   0,   4,   0,   0,  55,\n",
              "        236, 228, 230, 228, 240, 232, 213, 218, 223, 234, 217, 217, 209,\n",
              "         92,   0],\n",
              "       [  0,   0,   1,   4,   6,   7,   2,   0,   0,   0,   0,   0, 237,\n",
              "        226, 217, 223, 222, 219, 222, 221, 216, 223, 229, 215, 218, 255,\n",
              "         77,   0],\n",
              "       [  0,   3,   0,   0,   0,   0,   0,   0,   0,  62, 145, 204, 228,\n",
              "        207, 213, 221, 218, 208, 211, 218, 224, 223, 219, 215, 224, 244,\n",
              "        159,   0],\n",
              "       [  0,   0,   0,   0,  18,  44,  82, 107, 189, 228, 220, 222, 217,\n",
              "        226, 200, 205, 211, 230, 224, 234, 176, 188, 250, 248, 233, 238,\n",
              "        215,   0],\n",
              "       [  0,  57, 187, 208, 224, 221, 224, 208, 204, 214, 208, 209, 200,\n",
              "        159, 245, 193, 206, 223, 255, 255, 221, 234, 221, 211, 220, 232,\n",
              "        246,   0],\n",
              "       [  3, 202, 228, 224, 221, 211, 211, 214, 205, 205, 205, 220, 240,\n",
              "         80, 150, 255, 229, 221, 188, 154, 191, 210, 204, 209, 222, 228,\n",
              "        225,   0],\n",
              "       [ 98, 233, 198, 210, 222, 229, 229, 234, 249, 220, 194, 215, 217,\n",
              "        241,  65,  73, 106, 117, 168, 219, 221, 215, 217, 223, 223, 224,\n",
              "        229,  29],\n",
              "       [ 75, 204, 212, 204, 193, 205, 211, 225, 216, 185, 197, 206, 198,\n",
              "        213, 240, 195, 227, 245, 239, 223, 218, 212, 209, 222, 220, 221,\n",
              "        230,  67],\n",
              "       [ 48, 203, 183, 194, 213, 197, 185, 190, 194, 192, 202, 214, 219,\n",
              "        221, 220, 236, 225, 216, 199, 206, 186, 181, 177, 172, 181, 205,\n",
              "        206, 115],\n",
              "       [  0, 122, 219, 193, 179, 171, 183, 196, 204, 210, 213, 207, 211,\n",
              "        210, 200, 196, 194, 191, 195, 191, 198, 192, 176, 156, 167, 177,\n",
              "        210,  92],\n",
              "       [  0,   0,  74, 189, 212, 191, 175, 172, 175, 181, 185, 188, 189,\n",
              "        188, 193, 198, 204, 209, 210, 210, 211, 188, 188, 194, 192, 216,\n",
              "        170,   0],\n",
              "       [  2,   0,   0,   0,  66, 200, 222, 237, 239, 242, 246, 243, 244,\n",
              "        221, 220, 193, 191, 179, 182, 182, 181, 176, 166, 168,  99,  58,\n",
              "          0,   0],\n",
              "       [  0,   0,   0,   0,   0,   0,   0,  40,  61,  44,  72,  41,  35,\n",
              "          0,   0,   0,   0,   0,   0,   0,   0,   0,   0,   0,   0,   0,\n",
              "          0,   0],\n",
              "       [  0,   0,   0,   0,   0,   0,   0,   0,   0,   0,   0,   0,   0,\n",
              "          0,   0,   0,   0,   0,   0,   0,   0,   0,   0,   0,   0,   0,\n",
              "          0,   0],\n",
              "       [  0,   0,   0,   0,   0,   0,   0,   0,   0,   0,   0,   0,   0,\n",
              "          0,   0,   0,   0,   0,   0,   0,   0,   0,   0,   0,   0,   0,\n",
              "          0,   0]], dtype=uint8)</pre></div><script>\n",
              "      (() => {\n",
              "      const titles = ['show data', 'hide data'];\n",
              "      let index = 0\n",
              "      document.querySelector('#id-1002c23c-1bba-403e-9b52-cb7ecfa285ae button').onclick = (e) => {\n",
              "        document.querySelector('#id-1002c23c-1bba-403e-9b52-cb7ecfa285ae').classList.toggle('show_array');\n",
              "        index = (++index) % 2;\n",
              "        document.querySelector('#id-1002c23c-1bba-403e-9b52-cb7ecfa285ae button').textContent = titles[index];\n",
              "        e.preventDefault();\n",
              "        e.stopPropagation();\n",
              "      }\n",
              "      })();\n",
              "    </script>"
            ]
          },
          "metadata": {},
          "execution_count": 5
        }
      ],
      "source": [
        "# You can see each element in X data is 28x28 array where each value is the grayscale value of the pixel from 0-255 where black(255)/white(0)\n",
        "\n",
        "x_train[0]"
      ]
    },
    {
      "cell_type": "markdown",
      "metadata": {
        "id": "8BgoT0G1dHo9",
        "notebookgrader": {
          "id": "ace77245523a2068681be928a6287003e01df01c",
          "readonly": true
        }
      },
      "source": [
        "# Step 2"
      ]
    },
    {
      "cell_type": "markdown",
      "metadata": {
        "id": "xySKQCIOe0V0",
        "notebookgrader": {
          "id": "7b973a4e456fdc8615b389229be1362afa3f7c69",
          "readonly": true
        }
      },
      "source": [
        "## Step 2a - Your code\n",
        "\n",
        "In the cell below, normalize the X feature data to have values between 0 and 1 inclusive.  \n",
        "\n",
        "Save your normalized data as `x_train` and `x_test` (in other words, don't change the variable names)."
      ]
    },
    {
      "cell_type": "code",
      "execution_count": null,
      "metadata": {
        "id": "vW2yRVZ-g8tj",
        "notebookgrader": {
          "id": "a49bf96fc7782e735a574feae0bac7032a00ede3",
          "is_solution": true,
          "is_tests": false,
          "readonly": false
        },
        "colab": {
          "base_uri": "https://localhost:8080/"
        },
        "outputId": "c95852ec-6a6c-48a4-f626-a028acf34259"
      },
      "outputs": [
        {
          "output_type": "stream",
          "name": "stdout",
          "text": [
            "(60000, 28, 28)\n"
          ]
        }
      ],
      "source": [
        "# Normalize the x data to [0, 1]\n",
        "# Save your normalized data as x_train and x_test\n",
        "\n",
        "### YOUR SOLUTION HERE\n",
        "x_train = x_train / 255.0\n",
        "x_test = x_test / 255.0\n",
        "print(x_train.shape)\n",
        "\n"
      ]
    },
    {
      "cell_type": "markdown",
      "metadata": {
        "id": "3pDMGwf0fqna",
        "notebookgrader": {
          "id": "f0c2c4b715b514560c21022d10c714b92037e333",
          "readonly": true
        }
      },
      "source": [
        "# Step 3"
      ]
    },
    {
      "cell_type": "markdown",
      "metadata": {
        "id": "CJX7KHA8fscp",
        "notebookgrader": {
          "id": "893aa1d20ec5f4daadf6a552ded5094c6ce04feb",
          "readonly": true
        }
      },
      "source": [
        "## Step 3a - Your code\n",
        "\n",
        "Split the training data into training and validation sets using `train_test_split` such that the validation data is equal in size to the test data.\n",
        "\n",
        "The data sets should be called:\n",
        "* Training data: `x_train` and `y_train`\n",
        "* Validation data: `x_val` and `y_val`\n",
        "* Testing data: `x_test` and `y_test`\n",
        "\n",
        "IMPORTANT: For the purpose of reproducibility and grading, in `train_test_split` you must pass the argument `random_state = RANDOM_SEED`."
      ]
    },
    {
      "cell_type": "code",
      "execution_count": null,
      "metadata": {
        "id": "3ixUkWngf_DJ",
        "notebookgrader": {
          "id": "c1f318f636aa19b44a7c448344fdc8ce14f5e4d9",
          "is_solution": true,
          "is_tests": false,
          "readonly": false
        },
        "colab": {
          "base_uri": "https://localhost:8080/"
        },
        "outputId": "eca582ec-a3d8-4cae-d96e-4818a0ecefb4"
      },
      "outputs": [
        {
          "output_type": "stream",
          "name": "stdout",
          "text": [
            "(50000, 28, 28)\n",
            "(50000,)\n",
            "(10000, 28, 28)\n",
            "(10000, 28, 28)\n",
            "\n",
            " Validation to Training ratio = 0.2\n",
            "\n",
            " Testing to Training ratio = 0.2\n"
          ]
        }
      ],
      "source": [
        "# Split the training data according to the instructions above\n",
        "# Make sure to pass random_state=RANDOM_SEED as an argument in train_test_split\n",
        "\n",
        "### YOUR SOLUTION HERE\n",
        "validation_size = x_test.shape[0]\n",
        "test_size = validation_size / x_train.shape[0]\n",
        "\n",
        "x_train, x_val, y_train, y_val = train_test_split(x_train, y_train, test_size=0.1666666, random_state=RANDOM_SEED)\n",
        "print(x_train.shape)\n",
        "print(y_train.shape)\n",
        "print(x_test.shape)\n",
        "print(x_val.shape)\n",
        "print('\\n Validation to Training ratio =', x_val.shape[0]/x_train.shape[0])\n",
        "print('\\n Testing to Training ratio =', x_test.shape[0]/x_train.shape[0])\n"
      ]
    },
    {
      "cell_type": "markdown",
      "metadata": {
        "id": "BJK_hjKmfhWx",
        "notebookgrader": {
          "id": "fda1bb4dcd406361bd225f8f4c1d6dbe5950944a",
          "readonly": true
        }
      },
      "source": [
        "## Step 3b\n",
        "Run the code below to see the data splitting proportions and class counts for each data set."
      ]
    },
    {
      "cell_type": "code",
      "execution_count": null,
      "metadata": {
        "id": "k4L1yyMpuRlh",
        "notebookgrader": {
          "id": "d105b38da8d6537c3cd8ca0766312d8f37689b2f",
          "is_solution": false,
          "is_tests": false,
          "readonly": true
        },
        "colab": {
          "base_uri": "https://localhost:8080/"
        },
        "outputId": "b15aac46-cd7e-4435-891f-3553da43c724"
      },
      "outputs": [
        {
          "output_type": "stream",
          "name": "stdout",
          "text": [
            "Training data proportion: 0.7142857142857143\n",
            "Validation data proportion: 0.14285714285714285\n",
            "Testing data proportion: 0.14285714285714285\n"
          ]
        }
      ],
      "source": [
        "# Run this cell to see train/val/test split by proportion\n",
        "\n",
        "total_data_size = x_train.shape[0] + x_val.shape[0] + x_test.shape[0]\n",
        "print(\"Training data proportion:\", x_train.shape[0]/total_data_size)\n",
        "print(\"Validation data proportion:\", x_val.shape[0]/total_data_size)\n",
        "print(\"Testing data proportion:\", x_test.shape[0]/total_data_size)"
      ]
    },
    {
      "cell_type": "code",
      "execution_count": null,
      "metadata": {
        "id": "_oaCIXhxgXrv",
        "notebookgrader": {
          "id": "d7f58cf5baf04f0a092186abe4480051c215b0cf",
          "is_solution": false,
          "is_tests": false,
          "readonly": true
        },
        "colab": {
          "base_uri": "https://localhost:8080/"
        },
        "outputId": "0837f8ac-cc2c-421d-d9bd-31f1e82f9678"
      },
      "outputs": [
        {
          "output_type": "stream",
          "name": "stdout",
          "text": [
            "Class counts in the training data:\n",
            "Class 0: 4940 samples\n",
            "Class 1: 5006 samples\n",
            "Class 2: 4961 samples\n",
            "Class 3: 4999 samples\n",
            "Class 4: 5045 samples\n",
            "Class 5: 4985 samples\n",
            "Class 6: 5004 samples\n",
            "Class 7: 5010 samples\n",
            "Class 8: 5016 samples\n",
            "Class 9: 5034 samples\n",
            "\n",
            "Class counts in the validation data:\n",
            "Class 0: 1060 samples\n",
            "Class 1: 994 samples\n",
            "Class 2: 1039 samples\n",
            "Class 3: 1001 samples\n",
            "Class 4: 955 samples\n",
            "Class 5: 1015 samples\n",
            "Class 6: 996 samples\n",
            "Class 7: 990 samples\n",
            "Class 8: 984 samples\n",
            "Class 9: 966 samples\n",
            "\n",
            "Class counts in the test data:\n",
            "Class 0: 1000 samples\n",
            "Class 1: 1000 samples\n",
            "Class 2: 1000 samples\n",
            "Class 3: 1000 samples\n",
            "Class 4: 1000 samples\n",
            "Class 5: 1000 samples\n",
            "Class 6: 1000 samples\n",
            "Class 7: 1000 samples\n",
            "Class 8: 1000 samples\n",
            "Class 9: 1000 samples\n"
          ]
        }
      ],
      "source": [
        "# Count the number of occurrences of each class in y_train and y_test\n",
        "train_class_counts = np.bincount(y_train)\n",
        "val_class_counts = np.bincount(y_val)\n",
        "test_class_counts = np.bincount(y_test)\n",
        "\n",
        "# Print the counts for the training data\n",
        "print(\"Class counts in the training data:\")\n",
        "for i in range(len(train_class_counts)):\n",
        "    print(f\"Class {i}: {train_class_counts[i]} samples\")\n",
        "\n",
        "# Print the counts for the validation data\n",
        "print(\"\\nClass counts in the validation data:\")\n",
        "for i in range(len(val_class_counts)):\n",
        "    print(f\"Class {i}: {val_class_counts[i]} samples\")\n",
        "\n",
        "# Print the counts for the test data\n",
        "print(\"\\nClass counts in the test data:\")\n",
        "for i in range(len(test_class_counts)):\n",
        "    print(f\"Class {i}: {test_class_counts[i]} samples\")"
      ]
    },
    {
      "cell_type": "markdown",
      "metadata": {
        "id": "RGlMtE0_rrQ8",
        "notebookgrader": {
          "id": "94f8344246382f24a8a2bdd9c36755174e5d104a",
          "readonly": true
        }
      },
      "source": [
        "# Step 4"
      ]
    },
    {
      "cell_type": "markdown",
      "metadata": {
        "id": "-KeVCPsNaZhH",
        "notebookgrader": {
          "id": "6defe88ebc4efb632754a9fe32275a5f1a0741d5",
          "readonly": true
        }
      },
      "source": [
        "## Step 4a - Your code\n",
        "\n",
        "Build and compile a sequential neural network model with the following:\n",
        "1. Define the input shape\n",
        "2. A layer that flattens the data\n",
        "3. A dense layer with 32 nodes that uses RELU activation\n",
        "4. A dropout layer that only uses 60% of the nodes each pass\n",
        "5. A dense layer with 16 nodes that uses RELU activation\n",
        "6. A dropout layer that only uses 70% of the nodes each pass\n",
        "7. A dense output layer that uses Softmax activation to classify among the 10 classes\n",
        "\n",
        "Save your model the provided variable called `model`."
      ]
    },
    {
      "cell_type": "code",
      "execution_count": null,
      "metadata": {
        "id": "L0PG09ZFU6uk",
        "notebookgrader": {
          "id": "ad5245ca475777fb29e7772ab4bdec358b985497",
          "is_solution": true,
          "is_tests": false,
          "readonly": false
        },
        "colab": {
          "base_uri": "https://localhost:8080/",
          "height": 504
        },
        "outputId": "fdeb7607-5ba9-4d29-b119-b7f334b0d872"
      },
      "outputs": [
        {
          "output_type": "stream",
          "name": "stderr",
          "text": [
            "/usr/local/lib/python3.11/dist-packages/keras/src/layers/reshaping/flatten.py:37: UserWarning: Do not pass an `input_shape`/`input_dim` argument to a layer. When using Sequential models, prefer using an `Input(shape)` object as the first layer in the model instead.\n",
            "  super().__init__(**kwargs)\n"
          ]
        },
        {
          "output_type": "display_data",
          "data": {
            "text/plain": [
              "\u001b[1mModel: \"sequential\"\u001b[0m\n"
            ],
            "text/html": [
              "<pre style=\"white-space:pre;overflow-x:auto;line-height:normal;font-family:Menlo,'DejaVu Sans Mono',consolas,'Courier New',monospace\"><span style=\"font-weight: bold\">Model: \"sequential\"</span>\n",
              "</pre>\n"
            ]
          },
          "metadata": {}
        },
        {
          "output_type": "display_data",
          "data": {
            "text/plain": [
              "┏━━━━━━━━━━━━━━━━━━━━━━━━━━━━━━━━━━━━━━┳━━━━━━━━━━━━━━━━━━━━━━━━━━━━━┳━━━━━━━━━━━━━━━━━┓\n",
              "┃\u001b[1m \u001b[0m\u001b[1mLayer (type)                        \u001b[0m\u001b[1m \u001b[0m┃\u001b[1m \u001b[0m\u001b[1mOutput Shape               \u001b[0m\u001b[1m \u001b[0m┃\u001b[1m \u001b[0m\u001b[1m        Param #\u001b[0m\u001b[1m \u001b[0m┃\n",
              "┡━━━━━━━━━━━━━━━━━━━━━━━━━━━━━━━━━━━━━━╇━━━━━━━━━━━━━━━━━━━━━━━━━━━━━╇━━━━━━━━━━━━━━━━━┩\n",
              "│ flatten (\u001b[38;5;33mFlatten\u001b[0m)                    │ (\u001b[38;5;45mNone\u001b[0m, \u001b[38;5;34m784\u001b[0m)                 │               \u001b[38;5;34m0\u001b[0m │\n",
              "├──────────────────────────────────────┼─────────────────────────────┼─────────────────┤\n",
              "│ dense (\u001b[38;5;33mDense\u001b[0m)                        │ (\u001b[38;5;45mNone\u001b[0m, \u001b[38;5;34m512\u001b[0m)                 │         \u001b[38;5;34m401,920\u001b[0m │\n",
              "├──────────────────────────────────────┼─────────────────────────────┼─────────────────┤\n",
              "│ dropout (\u001b[38;5;33mDropout\u001b[0m)                    │ (\u001b[38;5;45mNone\u001b[0m, \u001b[38;5;34m512\u001b[0m)                 │               \u001b[38;5;34m0\u001b[0m │\n",
              "├──────────────────────────────────────┼─────────────────────────────┼─────────────────┤\n",
              "│ dense_1 (\u001b[38;5;33mDense\u001b[0m)                      │ (\u001b[38;5;45mNone\u001b[0m, \u001b[38;5;34m256\u001b[0m)                 │         \u001b[38;5;34m131,328\u001b[0m │\n",
              "├──────────────────────────────────────┼─────────────────────────────┼─────────────────┤\n",
              "│ dropout_1 (\u001b[38;5;33mDropout\u001b[0m)                  │ (\u001b[38;5;45mNone\u001b[0m, \u001b[38;5;34m256\u001b[0m)                 │               \u001b[38;5;34m0\u001b[0m │\n",
              "├──────────────────────────────────────┼─────────────────────────────┼─────────────────┤\n",
              "│ dense_2 (\u001b[38;5;33mDense\u001b[0m)                      │ (\u001b[38;5;45mNone\u001b[0m, \u001b[38;5;34m128\u001b[0m)                 │          \u001b[38;5;34m32,896\u001b[0m │\n",
              "├──────────────────────────────────────┼─────────────────────────────┼─────────────────┤\n",
              "│ dropout_2 (\u001b[38;5;33mDropout\u001b[0m)                  │ (\u001b[38;5;45mNone\u001b[0m, \u001b[38;5;34m128\u001b[0m)                 │               \u001b[38;5;34m0\u001b[0m │\n",
              "├──────────────────────────────────────┼─────────────────────────────┼─────────────────┤\n",
              "│ dense_3 (\u001b[38;5;33mDense\u001b[0m)                      │ (\u001b[38;5;45mNone\u001b[0m, \u001b[38;5;34m64\u001b[0m)                  │           \u001b[38;5;34m8,256\u001b[0m │\n",
              "├──────────────────────────────────────┼─────────────────────────────┼─────────────────┤\n",
              "│ dropout_3 (\u001b[38;5;33mDropout\u001b[0m)                  │ (\u001b[38;5;45mNone\u001b[0m, \u001b[38;5;34m64\u001b[0m)                  │               \u001b[38;5;34m0\u001b[0m │\n",
              "├──────────────────────────────────────┼─────────────────────────────┼─────────────────┤\n",
              "│ dense_4 (\u001b[38;5;33mDense\u001b[0m)                      │ (\u001b[38;5;45mNone\u001b[0m, \u001b[38;5;34m10\u001b[0m)                  │             \u001b[38;5;34m650\u001b[0m │\n",
              "└──────────────────────────────────────┴─────────────────────────────┴─────────────────┘\n"
            ],
            "text/html": [
              "<pre style=\"white-space:pre;overflow-x:auto;line-height:normal;font-family:Menlo,'DejaVu Sans Mono',consolas,'Courier New',monospace\">┏━━━━━━━━━━━━━━━━━━━━━━━━━━━━━━━━━━━━━━┳━━━━━━━━━━━━━━━━━━━━━━━━━━━━━┳━━━━━━━━━━━━━━━━━┓\n",
              "┃<span style=\"font-weight: bold\"> Layer (type)                         </span>┃<span style=\"font-weight: bold\"> Output Shape                </span>┃<span style=\"font-weight: bold\">         Param # </span>┃\n",
              "┡━━━━━━━━━━━━━━━━━━━━━━━━━━━━━━━━━━━━━━╇━━━━━━━━━━━━━━━━━━━━━━━━━━━━━╇━━━━━━━━━━━━━━━━━┩\n",
              "│ flatten (<span style=\"color: #0087ff; text-decoration-color: #0087ff\">Flatten</span>)                    │ (<span style=\"color: #00d7ff; text-decoration-color: #00d7ff\">None</span>, <span style=\"color: #00af00; text-decoration-color: #00af00\">784</span>)                 │               <span style=\"color: #00af00; text-decoration-color: #00af00\">0</span> │\n",
              "├──────────────────────────────────────┼─────────────────────────────┼─────────────────┤\n",
              "│ dense (<span style=\"color: #0087ff; text-decoration-color: #0087ff\">Dense</span>)                        │ (<span style=\"color: #00d7ff; text-decoration-color: #00d7ff\">None</span>, <span style=\"color: #00af00; text-decoration-color: #00af00\">512</span>)                 │         <span style=\"color: #00af00; text-decoration-color: #00af00\">401,920</span> │\n",
              "├──────────────────────────────────────┼─────────────────────────────┼─────────────────┤\n",
              "│ dropout (<span style=\"color: #0087ff; text-decoration-color: #0087ff\">Dropout</span>)                    │ (<span style=\"color: #00d7ff; text-decoration-color: #00d7ff\">None</span>, <span style=\"color: #00af00; text-decoration-color: #00af00\">512</span>)                 │               <span style=\"color: #00af00; text-decoration-color: #00af00\">0</span> │\n",
              "├──────────────────────────────────────┼─────────────────────────────┼─────────────────┤\n",
              "│ dense_1 (<span style=\"color: #0087ff; text-decoration-color: #0087ff\">Dense</span>)                      │ (<span style=\"color: #00d7ff; text-decoration-color: #00d7ff\">None</span>, <span style=\"color: #00af00; text-decoration-color: #00af00\">256</span>)                 │         <span style=\"color: #00af00; text-decoration-color: #00af00\">131,328</span> │\n",
              "├──────────────────────────────────────┼─────────────────────────────┼─────────────────┤\n",
              "│ dropout_1 (<span style=\"color: #0087ff; text-decoration-color: #0087ff\">Dropout</span>)                  │ (<span style=\"color: #00d7ff; text-decoration-color: #00d7ff\">None</span>, <span style=\"color: #00af00; text-decoration-color: #00af00\">256</span>)                 │               <span style=\"color: #00af00; text-decoration-color: #00af00\">0</span> │\n",
              "├──────────────────────────────────────┼─────────────────────────────┼─────────────────┤\n",
              "│ dense_2 (<span style=\"color: #0087ff; text-decoration-color: #0087ff\">Dense</span>)                      │ (<span style=\"color: #00d7ff; text-decoration-color: #00d7ff\">None</span>, <span style=\"color: #00af00; text-decoration-color: #00af00\">128</span>)                 │          <span style=\"color: #00af00; text-decoration-color: #00af00\">32,896</span> │\n",
              "├──────────────────────────────────────┼─────────────────────────────┼─────────────────┤\n",
              "│ dropout_2 (<span style=\"color: #0087ff; text-decoration-color: #0087ff\">Dropout</span>)                  │ (<span style=\"color: #00d7ff; text-decoration-color: #00d7ff\">None</span>, <span style=\"color: #00af00; text-decoration-color: #00af00\">128</span>)                 │               <span style=\"color: #00af00; text-decoration-color: #00af00\">0</span> │\n",
              "├──────────────────────────────────────┼─────────────────────────────┼─────────────────┤\n",
              "│ dense_3 (<span style=\"color: #0087ff; text-decoration-color: #0087ff\">Dense</span>)                      │ (<span style=\"color: #00d7ff; text-decoration-color: #00d7ff\">None</span>, <span style=\"color: #00af00; text-decoration-color: #00af00\">64</span>)                  │           <span style=\"color: #00af00; text-decoration-color: #00af00\">8,256</span> │\n",
              "├──────────────────────────────────────┼─────────────────────────────┼─────────────────┤\n",
              "│ dropout_3 (<span style=\"color: #0087ff; text-decoration-color: #0087ff\">Dropout</span>)                  │ (<span style=\"color: #00d7ff; text-decoration-color: #00d7ff\">None</span>, <span style=\"color: #00af00; text-decoration-color: #00af00\">64</span>)                  │               <span style=\"color: #00af00; text-decoration-color: #00af00\">0</span> │\n",
              "├──────────────────────────────────────┼─────────────────────────────┼─────────────────┤\n",
              "│ dense_4 (<span style=\"color: #0087ff; text-decoration-color: #0087ff\">Dense</span>)                      │ (<span style=\"color: #00d7ff; text-decoration-color: #00d7ff\">None</span>, <span style=\"color: #00af00; text-decoration-color: #00af00\">10</span>)                  │             <span style=\"color: #00af00; text-decoration-color: #00af00\">650</span> │\n",
              "└──────────────────────────────────────┴─────────────────────────────┴─────────────────┘\n",
              "</pre>\n"
            ]
          },
          "metadata": {}
        },
        {
          "output_type": "display_data",
          "data": {
            "text/plain": [
              "\u001b[1m Total params: \u001b[0m\u001b[38;5;34m575,050\u001b[0m (2.19 MB)\n"
            ],
            "text/html": [
              "<pre style=\"white-space:pre;overflow-x:auto;line-height:normal;font-family:Menlo,'DejaVu Sans Mono',consolas,'Courier New',monospace\"><span style=\"font-weight: bold\"> Total params: </span><span style=\"color: #00af00; text-decoration-color: #00af00\">575,050</span> (2.19 MB)\n",
              "</pre>\n"
            ]
          },
          "metadata": {}
        },
        {
          "output_type": "display_data",
          "data": {
            "text/plain": [
              "\u001b[1m Trainable params: \u001b[0m\u001b[38;5;34m575,050\u001b[0m (2.19 MB)\n"
            ],
            "text/html": [
              "<pre style=\"white-space:pre;overflow-x:auto;line-height:normal;font-family:Menlo,'DejaVu Sans Mono',consolas,'Courier New',monospace\"><span style=\"font-weight: bold\"> Trainable params: </span><span style=\"color: #00af00; text-decoration-color: #00af00\">575,050</span> (2.19 MB)\n",
              "</pre>\n"
            ]
          },
          "metadata": {}
        },
        {
          "output_type": "display_data",
          "data": {
            "text/plain": [
              "\u001b[1m Non-trainable params: \u001b[0m\u001b[38;5;34m0\u001b[0m (0.00 B)\n"
            ],
            "text/html": [
              "<pre style=\"white-space:pre;overflow-x:auto;line-height:normal;font-family:Menlo,'DejaVu Sans Mono',consolas,'Courier New',monospace\"><span style=\"font-weight: bold\"> Non-trainable params: </span><span style=\"color: #00af00; text-decoration-color: #00af00\">0</span> (0.00 B)\n",
              "</pre>\n"
            ]
          },
          "metadata": {}
        }
      ],
      "source": [
        "# Build your model according to the instructions above using keras\n",
        "\n",
        "#  The variable name of your NN model should be model\n",
        "model = None\n",
        "\n",
        "### YOUR SOLUTION HERE\n",
        "model = keras.Sequential([\n",
        "    keras.layers.Flatten(input_shape=(28, 28)),\n",
        "    keras.layers.Dense(512, activation='relu'),\n",
        "    keras.layers.Dropout(0.3),\n",
        "    keras.layers.Dense(256, activation='tanh'),\n",
        "    keras.layers.Dropout(0.1),\n",
        "    keras.layers.Dense(128, activation='sigmoid'),\n",
        "    keras.layers.Dropout(0.05),\n",
        "    keras.layers.Dense(64, activation='relu'),\n",
        "    keras.layers.Dropout(0.05),\n",
        "    keras.layers.Dense(10, activation='softmax')\n",
        "])\n",
        "### YOUR SOLUTON ABOVE HERE\n",
        "\n",
        "# model = keras.Sequential([\n",
        "#     keras.layers.Flatten(input_shape=(28, 28)),\n",
        "#     keras.layers.Dense(512, activation='sigmoid'),\n",
        "#     keras.layers.Dropout(0.3),\n",
        "#     keras.layers.Dense(256, activation='tanh'),\n",
        "#     keras.layers.Dropout(0.1),\n",
        "#     keras.layers.Dense(128, activation='relu'),\n",
        "#     keras.layers.Dropout(0.05),\n",
        "#     keras.layers.Dense(64, activation='relu'),\n",
        "#     keras.layers.Dropout(0.05),\n",
        "#     keras.layers.Dense(10, activation='softmax')\n",
        "# ])\n",
        "\n",
        "# For reproducibility for grading, save initial weights\n",
        "initial_weights = model.get_weights()\n",
        "# total number of parameters in model\n",
        "total_params = model.count_params()\n",
        "# total number of trainable parameters in model\n",
        "trainable_params = np.sum([np.prod(v.shape) for v in model.trainable_variables])\n",
        "# See a summary of your model's architecture\n",
        "model.summary()"
      ]
    },
    {
      "cell_type": "code",
      "execution_count": null,
      "metadata": {
        "id": "GzUo6SWia1xo",
        "notebookgrader": {
          "id": "0bffa6a9cf69b4dea82b05b1d81109cf50666174",
          "is_solution": false,
          "is_tests": false,
          "readonly": true
        },
        "colab": {
          "base_uri": "https://localhost:8080/"
        },
        "outputId": "e5f433fb-7bae-4404-cea5-0b21312405e1"
      },
      "outputs": [
        {
          "output_type": "stream",
          "name": "stdout",
          "text": [
            "The number of trainable parameters in the model is incorrect.\n",
            "The number of nodes in the first hidden layer is incorrect.\n",
            "The dropout rate in the first dropout layer is incorrect.\n"
          ]
        }
      ],
      "source": [
        "# Non-graded feedback on your code\n",
        "if trainable_params != 25818: print(\"The number of trainable parameters in the model is incorrect.\")\n",
        "if type(model.layers[0]) != keras.layers.Flatten: print(\"The first layer of the model should be a flatten layer.\")\n",
        "if type(model.layers[1]) != keras.layers.Dense: print(\"The second layer of the model should be a dense layer.\")\n",
        "if model.input_shape != (None, 28, 28): print(\"The input shape of the model is incorrect.\")\n",
        "if model.output_shape != (None, 10): print(\"The output shape of the model is incorrect.\")\n",
        "if model.layers[1].units != 32: print(\"The number of nodes in the first hidden layer is incorrect.\")\n",
        "if model.layers[2].rate != 0.4: print(\"The dropout rate in the first dropout layer is incorrect.\")\n",
        "if model.layers[1].activation.__name__ != 'relu': print(\"The activation function in the first hidden layer is incorrect.\")"
      ]
    },
    {
      "cell_type": "markdown",
      "metadata": {
        "id": "dAziTdxju6ur",
        "notebookgrader": {
          "id": "fb69270b1551c77c3015613d84524d72c163515e",
          "readonly": true
        }
      },
      "source": [
        "## Step 4b - Your code\n",
        "\n",
        "Compile your model according to the following:\n",
        "* Use the ADAM optimizer\n",
        "* Use sparse categorical crossentropy as your loss function\n",
        "* Use sparse categorical accuracy as your evaluation metric"
      ]
    },
    {
      "cell_type": "code",
      "execution_count": null,
      "metadata": {
        "id": "i41QgH9zINUU",
        "notebookgrader": {
          "id": "c03aaecebb1fefa1cbb99a9d04e2286407cb18ec",
          "is_solution": true,
          "is_tests": false,
          "readonly": false
        }
      },
      "outputs": [],
      "source": [
        "# Compile your model according to the instructions above\n",
        "\n",
        "### YOUR SOLUTION HERE\n",
        "model.compile(optimizer='adam',\n",
        "              loss='sparse_categorical_crossentropy',\n",
        "              metrics=['sparse_categorical_accuracy'])"
      ]
    },
    {
      "cell_type": "code",
      "execution_count": null,
      "metadata": {
        "id": "_Jtbya2NbfJe",
        "notebookgrader": {
          "id": "0b20dae6175366b0e21e1c1fdbd313da1e32fd3c",
          "is_solution": false,
          "is_tests": false,
          "readonly": true
        }
      },
      "outputs": [],
      "source": [
        "# Non-graded feedback on your code\n",
        "if model.loss != 'sparse_categorical_crossentropy': print(\"The loss function is incorrect.\")"
      ]
    },
    {
      "cell_type": "markdown",
      "metadata": {
        "id": "8rJ-sFgSwHah",
        "notebookgrader": {
          "id": "e795936a3a66628249c7597f440335cd598bcb9e",
          "readonly": true
        }
      },
      "source": [
        "# Step 5"
      ]
    },
    {
      "cell_type": "markdown",
      "metadata": {
        "id": "C-O-P8tEwJWQ",
        "notebookgrader": {
          "id": "a0348981a9a9f78f6d6fe7d842d7695d667a5e1e",
          "readonly": true
        }
      },
      "source": [
        "## Step 5a - Your code\n",
        "\n",
        "Train the neural network `model` such that\n",
        "*  Save the training history in a variable called `history`\n",
        "*  For validation data, use `x_val` and `y_val`\n",
        "*  Train the number of epochs defined in the constant `EPOCHS`\n",
        "*  Use a batch size of 32\n",
        "\n",
        "Important: Make sure you only train for `epochs = EPOCHS` in order to reduce compute demand on the grading server."
      ]
    },
    {
      "cell_type": "code",
      "execution_count": null,
      "metadata": {
        "id": "HufdgJgPcICq",
        "notebookgrader": {
          "id": "b46c7af92a665fccba32b7adbfeacc4fc47670d8",
          "is_solution": true,
          "is_tests": false,
          "readonly": false
        },
        "colab": {
          "base_uri": "https://localhost:8080/"
        },
        "outputId": "9b3f3432-5947-46c9-f6d9-90afffd3468a"
      },
      "outputs": [
        {
          "output_type": "stream",
          "name": "stdout",
          "text": [
            "Epoch 1/30\n",
            "\u001b[1m1563/1563\u001b[0m \u001b[32m━━━━━━━━━━━━━━━━━━━━\u001b[0m\u001b[37m\u001b[0m \u001b[1m19s\u001b[0m 12ms/step - loss: 0.7525 - sparse_categorical_accuracy: 0.7168 - val_loss: 0.4237 - val_sparse_categorical_accuracy: 0.8447\n",
            "Epoch 2/30\n",
            "\u001b[1m1563/1563\u001b[0m \u001b[32m━━━━━━━━━━━━━━━━━━━━\u001b[0m\u001b[37m\u001b[0m \u001b[1m16s\u001b[0m 10ms/step - loss: 0.4327 - sparse_categorical_accuracy: 0.8430 - val_loss: 0.3698 - val_sparse_categorical_accuracy: 0.8618\n",
            "Epoch 3/30\n",
            "\u001b[1m1563/1563\u001b[0m \u001b[32m━━━━━━━━━━━━━━━━━━━━\u001b[0m\u001b[37m\u001b[0m \u001b[1m16s\u001b[0m 10ms/step - loss: 0.3899 - sparse_categorical_accuracy: 0.8570 - val_loss: 0.3592 - val_sparse_categorical_accuracy: 0.8655\n",
            "Epoch 4/30\n",
            "\u001b[1m1563/1563\u001b[0m \u001b[32m━━━━━━━━━━━━━━━━━━━━\u001b[0m\u001b[37m\u001b[0m \u001b[1m20s\u001b[0m 10ms/step - loss: 0.3685 - sparse_categorical_accuracy: 0.8660 - val_loss: 0.3398 - val_sparse_categorical_accuracy: 0.8754\n",
            "Epoch 5/30\n",
            "\u001b[1m1563/1563\u001b[0m \u001b[32m━━━━━━━━━━━━━━━━━━━━\u001b[0m\u001b[37m\u001b[0m \u001b[1m21s\u001b[0m 11ms/step - loss: 0.3514 - sparse_categorical_accuracy: 0.8724 - val_loss: 0.3259 - val_sparse_categorical_accuracy: 0.8805\n",
            "Epoch 6/30\n",
            "\u001b[1m1563/1563\u001b[0m \u001b[32m━━━━━━━━━━━━━━━━━━━━\u001b[0m\u001b[37m\u001b[0m \u001b[1m16s\u001b[0m 10ms/step - loss: 0.3360 - sparse_categorical_accuracy: 0.8748 - val_loss: 0.3351 - val_sparse_categorical_accuracy: 0.8793\n",
            "Epoch 7/30\n",
            "\u001b[1m1563/1563\u001b[0m \u001b[32m━━━━━━━━━━━━━━━━━━━━\u001b[0m\u001b[37m\u001b[0m \u001b[1m16s\u001b[0m 10ms/step - loss: 0.3253 - sparse_categorical_accuracy: 0.8819 - val_loss: 0.3298 - val_sparse_categorical_accuracy: 0.8784\n",
            "Epoch 8/30\n",
            "\u001b[1m1563/1563\u001b[0m \u001b[32m━━━━━━━━━━━━━━━━━━━━\u001b[0m\u001b[37m\u001b[0m \u001b[1m16s\u001b[0m 10ms/step - loss: 0.3171 - sparse_categorical_accuracy: 0.8820 - val_loss: 0.3227 - val_sparse_categorical_accuracy: 0.8818\n",
            "Epoch 9/30\n",
            "\u001b[1m1563/1563\u001b[0m \u001b[32m━━━━━━━━━━━━━━━━━━━━\u001b[0m\u001b[37m\u001b[0m \u001b[1m21s\u001b[0m 10ms/step - loss: 0.3087 - sparse_categorical_accuracy: 0.8862 - val_loss: 0.3095 - val_sparse_categorical_accuracy: 0.8837\n",
            "Epoch 10/30\n",
            "\u001b[1m1563/1563\u001b[0m \u001b[32m━━━━━━━━━━━━━━━━━━━━\u001b[0m\u001b[37m\u001b[0m \u001b[1m17s\u001b[0m 11ms/step - loss: 0.2993 - sparse_categorical_accuracy: 0.8876 - val_loss: 0.3149 - val_sparse_categorical_accuracy: 0.8838\n",
            "Epoch 11/30\n",
            "\u001b[1m1563/1563\u001b[0m \u001b[32m━━━━━━━━━━━━━━━━━━━━\u001b[0m\u001b[37m\u001b[0m \u001b[1m20s\u001b[0m 10ms/step - loss: 0.2925 - sparse_categorical_accuracy: 0.8932 - val_loss: 0.3113 - val_sparse_categorical_accuracy: 0.8880\n",
            "Epoch 12/30\n",
            "\u001b[1m1563/1563\u001b[0m \u001b[32m━━━━━━━━━━━━━━━━━━━━\u001b[0m\u001b[37m\u001b[0m \u001b[1m21s\u001b[0m 11ms/step - loss: 0.2874 - sparse_categorical_accuracy: 0.8922 - val_loss: 0.3041 - val_sparse_categorical_accuracy: 0.8903\n",
            "Epoch 13/30\n",
            "\u001b[1m1563/1563\u001b[0m \u001b[32m━━━━━━━━━━━━━━━━━━━━\u001b[0m\u001b[37m\u001b[0m \u001b[1m20s\u001b[0m 10ms/step - loss: 0.2831 - sparse_categorical_accuracy: 0.8962 - val_loss: 0.3057 - val_sparse_categorical_accuracy: 0.8883\n",
            "Epoch 14/30\n",
            "\u001b[1m1563/1563\u001b[0m \u001b[32m━━━━━━━━━━━━━━━━━━━━\u001b[0m\u001b[37m\u001b[0m \u001b[1m17s\u001b[0m 11ms/step - loss: 0.2794 - sparse_categorical_accuracy: 0.8972 - val_loss: 0.3141 - val_sparse_categorical_accuracy: 0.8890\n",
            "Epoch 15/30\n",
            "\u001b[1m1563/1563\u001b[0m \u001b[32m━━━━━━━━━━━━━━━━━━━━\u001b[0m\u001b[37m\u001b[0m \u001b[1m16s\u001b[0m 10ms/step - loss: 0.2746 - sparse_categorical_accuracy: 0.8984 - val_loss: 0.3059 - val_sparse_categorical_accuracy: 0.8923\n",
            "Epoch 16/30\n",
            "\u001b[1m1563/1563\u001b[0m \u001b[32m━━━━━━━━━━━━━━━━━━━━\u001b[0m\u001b[37m\u001b[0m \u001b[1m22s\u001b[0m 11ms/step - loss: 0.2714 - sparse_categorical_accuracy: 0.8995 - val_loss: 0.3027 - val_sparse_categorical_accuracy: 0.8913\n",
            "Epoch 17/30\n",
            "\u001b[1m1563/1563\u001b[0m \u001b[32m━━━━━━━━━━━━━━━━━━━━\u001b[0m\u001b[37m\u001b[0m \u001b[1m16s\u001b[0m 10ms/step - loss: 0.2647 - sparse_categorical_accuracy: 0.8993 - val_loss: 0.2976 - val_sparse_categorical_accuracy: 0.8954\n",
            "Epoch 18/30\n",
            "\u001b[1m1563/1563\u001b[0m \u001b[32m━━━━━━━━━━━━━━━━━━━━\u001b[0m\u001b[37m\u001b[0m \u001b[1m16s\u001b[0m 10ms/step - loss: 0.2608 - sparse_categorical_accuracy: 0.9027 - val_loss: 0.3019 - val_sparse_categorical_accuracy: 0.8959\n",
            "Epoch 19/30\n",
            "\u001b[1m1563/1563\u001b[0m \u001b[32m━━━━━━━━━━━━━━━━━━━━\u001b[0m\u001b[37m\u001b[0m \u001b[1m16s\u001b[0m 10ms/step - loss: 0.2551 - sparse_categorical_accuracy: 0.9050 - val_loss: 0.3046 - val_sparse_categorical_accuracy: 0.8917\n",
            "Epoch 20/30\n",
            "\u001b[1m1563/1563\u001b[0m \u001b[32m━━━━━━━━━━━━━━━━━━━━\u001b[0m\u001b[37m\u001b[0m \u001b[1m20s\u001b[0m 10ms/step - loss: 0.2558 - sparse_categorical_accuracy: 0.9036 - val_loss: 0.3055 - val_sparse_categorical_accuracy: 0.8937\n",
            "Epoch 21/30\n",
            "\u001b[1m1563/1563\u001b[0m \u001b[32m━━━━━━━━━━━━━━━━━━━━\u001b[0m\u001b[37m\u001b[0m \u001b[1m21s\u001b[0m 11ms/step - loss: 0.2546 - sparse_categorical_accuracy: 0.9039 - val_loss: 0.2999 - val_sparse_categorical_accuracy: 0.8968\n",
            "Epoch 22/30\n",
            "\u001b[1m1563/1563\u001b[0m \u001b[32m━━━━━━━━━━━━━━━━━━━━\u001b[0m\u001b[37m\u001b[0m \u001b[1m21s\u001b[0m 11ms/step - loss: 0.2462 - sparse_categorical_accuracy: 0.9077 - val_loss: 0.3008 - val_sparse_categorical_accuracy: 0.8959\n",
            "Epoch 23/30\n",
            "\u001b[1m1563/1563\u001b[0m \u001b[32m━━━━━━━━━━━━━━━━━━━━\u001b[0m\u001b[37m\u001b[0m \u001b[1m19s\u001b[0m 10ms/step - loss: 0.2470 - sparse_categorical_accuracy: 0.9086 - val_loss: 0.3073 - val_sparse_categorical_accuracy: 0.8931\n",
            "Epoch 24/30\n",
            "\u001b[1m1563/1563\u001b[0m \u001b[32m━━━━━━━━━━━━━━━━━━━━\u001b[0m\u001b[37m\u001b[0m \u001b[1m21s\u001b[0m 11ms/step - loss: 0.2424 - sparse_categorical_accuracy: 0.9087 - val_loss: 0.2970 - val_sparse_categorical_accuracy: 0.8974\n",
            "Epoch 25/30\n",
            "\u001b[1m1563/1563\u001b[0m \u001b[32m━━━━━━━━━━━━━━━━━━━━\u001b[0m\u001b[37m\u001b[0m \u001b[1m19s\u001b[0m 12ms/step - loss: 0.2408 - sparse_categorical_accuracy: 0.9095 - val_loss: 0.3114 - val_sparse_categorical_accuracy: 0.8918\n",
            "Epoch 26/30\n",
            "\u001b[1m1563/1563\u001b[0m \u001b[32m━━━━━━━━━━━━━━━━━━━━\u001b[0m\u001b[37m\u001b[0m \u001b[1m16s\u001b[0m 10ms/step - loss: 0.2380 - sparse_categorical_accuracy: 0.9098 - val_loss: 0.3011 - val_sparse_categorical_accuracy: 0.8959\n",
            "Epoch 27/30\n",
            "\u001b[1m1563/1563\u001b[0m \u001b[32m━━━━━━━━━━━━━━━━━━━━\u001b[0m\u001b[37m\u001b[0m \u001b[1m21s\u001b[0m 10ms/step - loss: 0.2362 - sparse_categorical_accuracy: 0.9110 - val_loss: 0.3017 - val_sparse_categorical_accuracy: 0.8979\n",
            "Epoch 28/30\n",
            "\u001b[1m1563/1563\u001b[0m \u001b[32m━━━━━━━━━━━━━━━━━━━━\u001b[0m\u001b[37m\u001b[0m \u001b[1m21s\u001b[0m 10ms/step - loss: 0.2336 - sparse_categorical_accuracy: 0.9125 - val_loss: 0.3031 - val_sparse_categorical_accuracy: 0.8989\n",
            "Epoch 29/30\n",
            "\u001b[1m1563/1563\u001b[0m \u001b[32m━━━━━━━━━━━━━━━━━━━━\u001b[0m\u001b[37m\u001b[0m \u001b[1m15s\u001b[0m 10ms/step - loss: 0.2317 - sparse_categorical_accuracy: 0.9147 - val_loss: 0.3005 - val_sparse_categorical_accuracy: 0.8970\n",
            "Epoch 30/30\n",
            "\u001b[1m1563/1563\u001b[0m \u001b[32m━━━━━━━━━━━━━━━━━━━━\u001b[0m\u001b[37m\u001b[0m \u001b[1m16s\u001b[0m 10ms/step - loss: 0.2266 - sparse_categorical_accuracy: 0.9149 - val_loss: 0.3009 - val_sparse_categorical_accuracy: 0.8961\n",
            "Training Time: 0.00 seconds\n"
          ]
        }
      ],
      "source": [
        "# Train your model according to the instructions above\n",
        "\n",
        "# Before calling model.fit(), reset the weights so that use same starting point every time\n",
        "model.set_weights(initial_weights)\n",
        "\n",
        "# So we don't overload server with compute requests\n",
        "EPOCHS = 30\n",
        "\n",
        "### YOUR SOLUTION HERE\n",
        "history = model.fit(x_train, y_train, epochs=EPOCHS, batch_size=32, validation_data=(x_val, y_val))\n",
        "\n",
        "# Start the timer\n",
        "start_time = time.time()\n",
        "\n",
        "# Stop the timer\n",
        "end_time = time.time()\n",
        "\n",
        "# Calculate training time\n",
        "training_time = end_time - start_time\n",
        "\n",
        "# Print the training time\n",
        "print(\"Training Time: {:.2f} seconds\".format(training_time))"
      ]
    },
    {
      "cell_type": "code",
      "execution_count": null,
      "metadata": {
        "id": "FmaZIrxsbyW-",
        "notebookgrader": {
          "id": "b40d6de27ed3f9b63d18dbb185a2928c734cb9c1",
          "is_solution": false,
          "is_tests": false,
          "readonly": true
        }
      },
      "outputs": [],
      "source": [
        "# Non-graded feedback on your code\n",
        "if history.params['epochs'] != EPOCHS: print(\"The number of epochs is incorrect.\")"
      ]
    },
    {
      "cell_type": "markdown",
      "metadata": {
        "id": "F54gqVcmxIMd",
        "notebookgrader": {
          "id": "354ba80f3925deb751fef956cde06d697a057db3",
          "readonly": true
        }
      },
      "source": [
        "## Step 5b\n",
        "Run the cell below and examine the training plots."
      ]
    },
    {
      "cell_type": "code",
      "execution_count": null,
      "metadata": {
        "id": "dboILUhzw8H7",
        "notebookgrader": {
          "id": "68a2afaa07155df058c3c6d872106af4e60223de",
          "is_solution": false,
          "is_tests": false,
          "readonly": true
        },
        "colab": {
          "base_uri": "https://localhost:8080/",
          "height": 410
        },
        "outputId": "5de13999-b5c2-494b-ae30-56deaf79db02"
      },
      "outputs": [
        {
          "output_type": "display_data",
          "data": {
            "text/plain": [
              "<Figure size 1200x400 with 2 Axes>"
            ],
            "image/png": "[encoded data removed]"
          },
          "metadata": {}
        }
      ],
      "source": [
        "# Plot learning curves\n",
        "plt.figure(figsize=(12, 4))\n",
        "plt.subplot(1, 2, 1)\n",
        "plt.plot(history.history['loss'], label='Training Loss')\n",
        "plt.plot(history.history['val_loss'], label='Validation Loss')\n",
        "plt.title('Learning Curves - Loss')\n",
        "plt.xlabel('Epochs')\n",
        "plt.ylabel('Loss')\n",
        "plt.legend()\n",
        "plt.grid(True)\n",
        "\n",
        "plt.subplot(1, 2, 2)\n",
        "plt.plot(history.history['sparse_categorical_accuracy'], label='Training Accuracy')\n",
        "plt.plot(history.history['val_sparse_categorical_accuracy'], label='Validation Accuracy')\n",
        "plt.title('Learning Curves - Accuracy')\n",
        "plt.xlabel('Epochs')\n",
        "plt.ylabel('Accuracy')\n",
        "plt.legend()\n",
        "plt.grid(True)\n",
        "\n",
        "plt.show()"
      ]
    },
    {
      "cell_type": "markdown",
      "metadata": {
        "id": "HiwYFlcRxGLF",
        "notebookgrader": {
          "id": "e36cd900f37106750dd09dfea60ffc7e4ec0f842",
          "readonly": true
        }
      },
      "source": [
        "# Step 6"
      ]
    },
    {
      "cell_type": "markdown",
      "metadata": {
        "id": "eD90Zwaga-zV",
        "notebookgrader": {
          "id": "49919b83421d8e1920d55d1b6d1a9253f6ce4a64",
          "readonly": true
        }
      },
      "source": [
        "## Step 6a - Your code\n",
        "Model evaluation\n",
        "\n",
        "To perform the model evaluation, do the following:\n",
        "1. Have the model make predictions using the test data.\n",
        "2. Evaluate the predictions using sparse categorical accuracy.\n",
        "Save the value of sparse categorical accuracy to the variable\n",
        "`sca_metric`.\n",
        "3. Convert the predictions (each prediction is a vector of the probability for each class option) to class labels (each prediction is an integer representing the predicted class).\n",
        "4. Evaluate the class label predictions using a weighted F1 score.\n",
        "Save the value of the weighted F1-score to the variable\n",
        "`f1_metric`.\n",
        "5. Print the values of `sca_metric` and `f1_metric`."
      ]
    },
    {
      "cell_type": "code",
      "execution_count": null,
      "metadata": {
        "id": "SmiExvsGVAo2",
        "notebookgrader": {
          "id": "8d7a123743b9794091ba0d92f8422e10af865c91",
          "is_solution": true,
          "is_tests": false,
          "readonly": false
        },
        "colab": {
          "base_uri": "https://localhost:8080/"
        },
        "outputId": "51d18595-428e-416a-9681-94bfbc53e54b"
      },
      "outputs": [
        {
          "output_type": "stream",
          "name": "stdout",
          "text": [
            "\u001b[1m313/313\u001b[0m \u001b[32m━━━━━━━━━━━━━━━━━━━━\u001b[0m\u001b[37m\u001b[0m \u001b[1m1s\u001b[0m 4ms/step - loss: 0.3236 - sparse_categorical_accuracy: 0.8867\n",
            "\u001b[1m313/313\u001b[0m \u001b[32m━━━━━━━━━━━━━━━━━━━━\u001b[0m\u001b[37m\u001b[0m \u001b[1m1s\u001b[0m 2ms/step\n",
            "Sparse Categorical Accuracy: 0.887499988079071\n",
            "Weighted F1-score: 0.8881881987478819\n",
            "1\n"
          ]
        }
      ],
      "source": [
        "# Perform the instructions above\n",
        "\n",
        "### YOUR SOLUTION HERE\n",
        "sca_metric = model.evaluate(x_test, y_test)[1]\n",
        "y_pred = np.argmax(model.predict(x_test), axis=1)\n",
        "f1_metric = f1_score(y_test, y_pred, average='weighted')\n",
        "print(\"Sparse Categorical Accuracy:\", sca_metric)\n",
        "print(\"Weighted F1-score:\", f1_metric)\n",
        "print(y_pred[5])"
      ]
    },
    {
      "cell_type": "markdown",
      "source": [
        "#Evaluation"
      ],
      "metadata": {
        "id": "H5o8OVn0fyoi"
      }
    },
    {
      "cell_type": "code",
      "source": [
        "# Have model make predictions on test data\n",
        "y_pred = model.predict(x_test)\n",
        "\n",
        "# Convert predictions to class labels\n",
        "y_pred = np.argmax(y_pred, axis=1)\n",
        "\n",
        "print(y_pred)"
      ],
      "metadata": {
        "colab": {
          "base_uri": "https://localhost:8080/"
        },
        "id": "zYamGESffenx",
        "outputId": "0c835927-3a9a-4243-b301-3c34b14d4b09"
      },
      "execution_count": null,
      "outputs": [
        {
          "output_type": "stream",
          "name": "stdout",
          "text": [
            "\u001b[1m313/313\u001b[0m \u001b[32m━━━━━━━━━━━━━━━━━━━━\u001b[0m\u001b[37m\u001b[0m \u001b[1m1s\u001b[0m 2ms/step\n",
            "[9 2 1 ... 8 1 5]\n"
          ]
        }
      ]
    },
    {
      "cell_type": "code",
      "source": [
        "# Print classification report\n",
        "print(\"\\nClassification Report:\\n\", classification_report(y_test, y_pred), '\\n\\n')\n",
        "\n",
        "# Make confusion matrix\n",
        "conf_matrix = confusion_matrix(y_test, y_pred)\n",
        "\n",
        "# Plot the confusion matrix\n",
        "plt.figure(figsize=(8, 6))\n",
        "sns.heatmap(conf_matrix, annot=True, fmt='d', cmap='Blues', cbar=False,\n",
        "            xticklabels=range(10), yticklabels=range(10))\n",
        "plt.xlabel('Predicted')\n",
        "plt.ylabel('Actual')\n",
        "plt.title('Confusion Matrix')\n",
        "plt.show()"
      ],
      "metadata": {
        "colab": {
          "base_uri": "https://localhost:8080/",
          "height": 929
        },
        "id": "wetnnn7wfnoF",
        "outputId": "8c2a994f-6b58-4270-d109-7d4208a055b5"
      },
      "execution_count": null,
      "outputs": [
        {
          "output_type": "stream",
          "name": "stdout",
          "text": [
            "\n",
            "Classification Report:\n",
            "               precision    recall  f1-score   support\n",
            "\n",
            "           0       0.87      0.81      0.84      1000\n",
            "           1       0.99      0.98      0.98      1000\n",
            "           2       0.85      0.74      0.79      1000\n",
            "           3       0.87      0.90      0.89      1000\n",
            "           4       0.79      0.82      0.80      1000\n",
            "           5       0.97      0.96      0.97      1000\n",
            "           6       0.67      0.76      0.71      1000\n",
            "           7       0.96      0.96      0.96      1000\n",
            "           8       0.98      0.97      0.98      1000\n",
            "           9       0.95      0.97      0.96      1000\n",
            "\n",
            "    accuracy                           0.89     10000\n",
            "   macro avg       0.89      0.89      0.89     10000\n",
            "weighted avg       0.89      0.89      0.89     10000\n",
            " \n",
            "\n",
            "\n"
          ]
        },
        {
          "output_type": "display_data",
          "data": {
            "text/plain": [
              "<Figure size 800x600 with 1 Axes>"
            ],
            "image/png": "[encoded data removed]"
          },
          "metadata": {}
        }
      ]
    }
  ],
  "metadata": {
    "colab": {
      "provenance": [],
      "include_colab_link": true
    },
    "kernelspec": {
      "display_name": "Python 3",
      "name": "python3"
    },
    "language_info": {
      "name": "python"
    },
    "notebookgrader": {
      "total_points": 50
    }
  },
  "nbformat": 4,
  "nbformat_minor": 0
}