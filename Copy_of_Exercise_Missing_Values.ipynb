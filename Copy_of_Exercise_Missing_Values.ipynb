{
  "metadata": {
    "kernelspec": {
      "display_name": "Python 3",
      "language": "python",
      "name": "python3"
    },
    "language_info": {
      "name": "python",
      "version": "3.10.12",
      "mimetype": "text/x-python",
      "codemirror_mode": {
        "name": "ipython",
        "version": 3
      },
      "pygments_lexer": "ipython3",
      "nbconvert_exporter": "python",
      "file_extension": ".py"
    },
    "kaggle": {
      "accelerator": "none",
      "dataSources": [
        {
          "sourceId": 10211,
          "databundleVersionId": 111096,
          "sourceType": "competition"
        }
      ],
      "isInternetEnabled": false,
      "language": "python",
      "sourceType": "notebook",
      "isGpuEnabled": false
    },
    "colab": {
      "provenance": [],
      "include_colab_link": true
    }
  },
  "nbformat_minor": 0,
  "nbformat": 4,
  "cells": [
    {
      "cell_type": "markdown",
      "metadata": {
        "id": "view-in-github",
        "colab_type": "text"
      },
      "source": [
        "<a href=\"https://colab.research.google.com/github/zhenglinchen1096496/DBU-Python/blob/main/Copy_of_Exercise_Missing_Values.ipynb\" target=\"_parent\"><img src=\"https://colab.research.google.com/assets/colab-badge.svg\" alt=\"Open In Colab\"/></a>"
      ]
    },
    {
      "source": [
        "# IMPORTANT: SOME KAGGLE DATA SOURCES ARE PRIVATE\n",
        "# RUN THIS CELL IN ORDER TO IMPORT YOUR KAGGLE DATA SOURCES.\n",
        "import kagglehub\n",
        "kagglehub.login()\n"
      ],
      "metadata": {
        "id": "sXV4szbYRgIO"
      },
      "cell_type": "code",
      "outputs": [],
      "execution_count": null
    },
    {
      "source": [
        "# IMPORTANT: RUN THIS CELL IN ORDER TO IMPORT YOUR KAGGLE DATA SOURCES,\n",
        "# THEN FEEL FREE TO DELETE THIS CELL.\n",
        "# NOTE: THIS NOTEBOOK ENVIRONMENT DIFFERS FROM KAGGLE'S PYTHON\n",
        "# ENVIRONMENT SO THERE MAY BE MISSING LIBRARIES USED BY YOUR\n",
        "# NOTEBOOK.\n",
        "\n",
        "home_data_for_ml_course_path = kagglehub.competition_download('home-data-for-ml-course')\n",
        "\n",
        "print('Data source import complete.')\n"
      ],
      "metadata": {
        "id": "pGOuKgnGRgIS"
      },
      "cell_type": "code",
      "outputs": [],
      "execution_count": null
    },
    {
      "cell_type": "markdown",
      "source": [
        "**This notebook is an exercise in the [Intermediate Machine Learning](https://www.kaggle.com/learn/intermediate-machine-learning) course.  You can reference the tutorial at [this link](https://www.kaggle.com/alexisbcook/missing-values).**\n",
        "\n",
        "---\n"
      ],
      "metadata": {
        "id": "1AghojtvRgIT"
      }
    },
    {
      "cell_type": "markdown",
      "source": [
        "Now it's your turn to test your new knowledge of **missing values** handling. You'll probably find it makes a big difference.\n",
        "\n",
        "# Setup\n",
        "\n",
        "The questions will give you feedback on your work. Run the following cell to set up the feedback system."
      ],
      "metadata": {
        "id": "GYS11Z7JRgIV"
      }
    },
    {
      "cell_type": "code",
      "source": [
        "# Set up code checking\n",
        "import os\n",
        "if not os.path.exists(\"../input/train.csv\"):\n",
        "    os.symlink(\"../input/home-data-for-ml-course/train.csv\", \"../input/train.csv\")\n",
        "    os.symlink(\"../input/home-data-for-ml-course/test.csv\", \"../input/test.csv\")\n",
        "from learntools.core import binder\n",
        "binder.bind(globals())\n",
        "from learntools.ml_intermediate.ex2 import *\n",
        "print(\"Setup Complete\")"
      ],
      "metadata": {
        "trusted": true,
        "execution": {
          "iopub.status.busy": "2025-03-06T15:49:13.60321Z",
          "iopub.execute_input": "2025-03-06T15:49:13.603784Z",
          "iopub.status.idle": "2025-03-06T15:49:13.611166Z",
          "shell.execute_reply.started": "2025-03-06T15:49:13.60374Z",
          "shell.execute_reply": "2025-03-06T15:49:13.609987Z"
        },
        "id": "NlQvMvw8RgIV"
      },
      "outputs": [],
      "execution_count": null
    },
    {
      "cell_type": "markdown",
      "source": [
        "In this exercise, you will work with data from the [Housing Prices Competition for Kaggle Learn Users](https://www.kaggle.com/c/home-data-for-ml-course).\n",
        "\n",
        "![Ames Housing dataset image](https://storage.googleapis.com/kaggle-media/learn/images/lTJVG4e.png)\n",
        "\n",
        "Run the next code cell without changes to load the training and validation sets in `X_train`, `X_valid`, `y_train`, and `y_valid`.  The test set is loaded in `X_test`."
      ],
      "metadata": {
        "id": "6IN7PXHwRgIW"
      }
    },
    {
      "cell_type": "code",
      "source": [
        "import pandas as pd\n",
        "from sklearn.model_selection import train_test_split\n",
        "\n",
        "# Read the data\n",
        "X_full = pd.read_csv('../input/train.csv', index_col='Id')\n",
        "X_test_full = pd.read_csv('../input/test.csv', index_col='Id')\n",
        "\n",
        "# Remove rows with missing target, separate target from predictors\n",
        "X_full.dropna(axis=0, subset=['SalePrice'], inplace=True)\n",
        "y = X_full.SalePrice\n",
        "X_full.drop(['SalePrice'], axis=1, inplace=True)\n",
        "\n",
        "# To keep things simple, we'll use only numerical predictors\n",
        "X = X_full.select_dtypes(exclude=['object'])\n",
        "X_test = X_test_full.select_dtypes(exclude=['object'])\n",
        "\n",
        "# Break off validation set from training data\n",
        "X_train, X_valid, y_train, y_valid = train_test_split(X, y, train_size=0.8, test_size=0.2,\n",
        "                                                      random_state=0)"
      ],
      "metadata": {
        "trusted": true,
        "execution": {
          "iopub.status.busy": "2025-03-06T15:49:13.612849Z",
          "iopub.execute_input": "2025-03-06T15:49:13.61322Z",
          "iopub.status.idle": "2025-03-06T15:49:13.678373Z",
          "shell.execute_reply.started": "2025-03-06T15:49:13.613183Z",
          "shell.execute_reply": "2025-03-06T15:49:13.677267Z"
        },
        "id": "JkFHDxNKRgIW"
      },
      "outputs": [],
      "execution_count": null
    },
    {
      "cell_type": "markdown",
      "source": [
        "Use the next code cell to print the first five rows of the data."
      ],
      "metadata": {
        "id": "oyN5otugRgIX"
      }
    },
    {
      "cell_type": "code",
      "source": [
        "X_train.head()"
      ],
      "metadata": {
        "trusted": true,
        "execution": {
          "iopub.status.busy": "2025-03-06T15:49:13.680373Z",
          "iopub.execute_input": "2025-03-06T15:49:13.680899Z",
          "iopub.status.idle": "2025-03-06T15:49:13.702331Z",
          "shell.execute_reply.started": "2025-03-06T15:49:13.680859Z",
          "shell.execute_reply": "2025-03-06T15:49:13.70085Z"
        },
        "id": "P4ITOCLyRgIY"
      },
      "outputs": [],
      "execution_count": null
    },
    {
      "cell_type": "markdown",
      "source": [
        "You can already see a few missing values in the first several rows.  In the next step, you'll obtain a more comprehensive understanding of the missing values in the dataset.\n",
        "\n",
        "# Step 1: Preliminary investigation\n",
        "\n",
        "Run the code cell below without changes."
      ],
      "metadata": {
        "id": "dlVoNqpQRgIY"
      }
    },
    {
      "cell_type": "code",
      "source": [
        "# Shape of training data (num_rows, num_columns)\n",
        "print(X_train.shape)\n",
        "\n",
        "# Number of missing values in each column of training data\n",
        "missing_val_count_by_column = (X_train.isnull().sum())\n",
        "print(missing_val_count_by_column[missing_val_count_by_column > 0])"
      ],
      "metadata": {
        "trusted": true,
        "execution": {
          "iopub.status.busy": "2025-03-06T15:49:13.703997Z",
          "iopub.execute_input": "2025-03-06T15:49:13.704362Z",
          "iopub.status.idle": "2025-03-06T15:49:13.720358Z",
          "shell.execute_reply.started": "2025-03-06T15:49:13.704323Z",
          "shell.execute_reply": "2025-03-06T15:49:13.719287Z"
        },
        "id": "Vbn609CORgIZ"
      },
      "outputs": [],
      "execution_count": null
    },
    {
      "cell_type": "markdown",
      "source": [
        "### Part A\n",
        "\n",
        "Use the above output to answer the questions below."
      ],
      "metadata": {
        "id": "-uThZAe0RgIZ"
      }
    },
    {
      "cell_type": "code",
      "source": [
        "# Fill in the line below: How many rows are in the training data?\n",
        "num_rows = 1168\n",
        "\n",
        "# Fill in the line below: How many columns in the training data\n",
        "# have missing values?\n",
        "num_cols_with_missing = 3\n",
        "\n",
        "# Fill in the line below: How many missing entries are contained in\n",
        "# all of the training data?\n",
        "tot_missing = 276\n",
        "\n",
        "# Check your answers\n",
        "step_1.a.check()"
      ],
      "metadata": {
        "trusted": true,
        "execution": {
          "iopub.status.busy": "2025-03-06T15:49:13.721422Z",
          "iopub.execute_input": "2025-03-06T15:49:13.7218Z",
          "iopub.status.idle": "2025-03-06T15:49:13.739858Z",
          "shell.execute_reply.started": "2025-03-06T15:49:13.721761Z",
          "shell.execute_reply": "2025-03-06T15:49:13.738542Z"
        },
        "id": "_mpEzHORRgIZ"
      },
      "outputs": [],
      "execution_count": null
    },
    {
      "cell_type": "code",
      "source": [
        "# Lines below will give you a hint or solution code\n",
        "#step_1.a.hint()\n",
        "#step_1.a.solution()"
      ],
      "metadata": {
        "trusted": true,
        "execution": {
          "iopub.status.busy": "2025-03-06T15:49:13.741038Z",
          "iopub.execute_input": "2025-03-06T15:49:13.741387Z",
          "iopub.status.idle": "2025-03-06T15:49:13.752607Z",
          "shell.execute_reply.started": "2025-03-06T15:49:13.74135Z",
          "shell.execute_reply": "2025-03-06T15:49:13.751408Z"
        },
        "id": "OZ95uuAZRgIa"
      },
      "outputs": [],
      "execution_count": null
    },
    {
      "cell_type": "markdown",
      "source": [
        "### Part B\n",
        "Considering your answers above, what do you think is likely the best approach to dealing with the missing values?"
      ],
      "metadata": {
        "id": "Gp8mwFlxRgIa"
      }
    },
    {
      "cell_type": "code",
      "source": [
        "# Imputation\n",
        "step_1.b.check()"
      ],
      "metadata": {
        "trusted": true,
        "execution": {
          "iopub.status.busy": "2025-03-06T15:49:13.753856Z",
          "iopub.execute_input": "2025-03-06T15:49:13.754294Z",
          "iopub.status.idle": "2025-03-06T15:49:13.77094Z",
          "shell.execute_reply.started": "2025-03-06T15:49:13.75425Z",
          "shell.execute_reply": "2025-03-06T15:49:13.769703Z"
        },
        "id": "l9f2414JRgIa"
      },
      "outputs": [],
      "execution_count": null
    },
    {
      "cell_type": "code",
      "source": [
        "#step_1.b.hint()"
      ],
      "metadata": {
        "trusted": true,
        "execution": {
          "iopub.status.busy": "2025-03-06T15:49:13.774055Z",
          "iopub.execute_input": "2025-03-06T15:49:13.774426Z",
          "iopub.status.idle": "2025-03-06T15:49:13.784677Z",
          "shell.execute_reply.started": "2025-03-06T15:49:13.774394Z",
          "shell.execute_reply": "2025-03-06T15:49:13.783598Z"
        },
        "id": "-Gsmmu3DRgIa"
      },
      "outputs": [],
      "execution_count": null
    },
    {
      "cell_type": "markdown",
      "source": [
        "To compare different approaches to dealing with missing values, you'll use the same `score_dataset()` function from the tutorial.  This function reports the [mean absolute error](https://en.wikipedia.org/wiki/Mean_absolute_error) (MAE) from a random forest model."
      ],
      "metadata": {
        "id": "581wjEluRgIa"
      }
    },
    {
      "cell_type": "code",
      "source": [
        "from sklearn.ensemble import RandomForestRegressor\n",
        "from sklearn.metrics import mean_absolute_error\n",
        "\n",
        "# Function for comparing different approaches\n",
        "def score_dataset(X_train, X_valid, y_train, y_valid):\n",
        "    model = RandomForestRegressor(n_estimators=100, random_state=0)\n",
        "    model.fit(X_train, y_train)\n",
        "    preds = model.predict(X_valid)\n",
        "    return mean_absolute_error(y_valid, preds)"
      ],
      "metadata": {
        "trusted": true,
        "execution": {
          "iopub.status.busy": "2025-03-06T15:49:13.78628Z",
          "iopub.execute_input": "2025-03-06T15:49:13.786597Z",
          "iopub.status.idle": "2025-03-06T15:49:13.796726Z",
          "shell.execute_reply.started": "2025-03-06T15:49:13.78657Z",
          "shell.execute_reply": "2025-03-06T15:49:13.795561Z"
        },
        "id": "y74V4-1ARgIb"
      },
      "outputs": [],
      "execution_count": null
    },
    {
      "cell_type": "markdown",
      "source": [
        "# Step 2: Drop columns with missing values\n",
        "\n",
        "In this step, you'll preprocess the data in `X_train` and `X_valid` to remove columns with missing values.  Set the preprocessed DataFrames to `reduced_X_train` and `reduced_X_valid`, respectively.  "
      ],
      "metadata": {
        "id": "TAwBUVtBRgIb"
      }
    },
    {
      "cell_type": "code",
      "source": [
        "# Fill in the line below: get names of columns with missing values\n",
        "cols_with_missing = [col for col in X_train.columns\n",
        "                     if X_train[col].isnull().any()]\n",
        "\n",
        "# Fill in the lines below: drop columns in training and validation data\n",
        "reduced_X_train = X_train.drop(cols_with_missing, axis=1)\n",
        "reduced_X_valid = X_valid.drop(cols_with_missing, axis=1)\n",
        "\n",
        "# Check your answers\n",
        "step_2.check()"
      ],
      "metadata": {
        "trusted": true,
        "execution": {
          "iopub.status.busy": "2025-03-06T15:49:13.797883Z",
          "iopub.execute_input": "2025-03-06T15:49:13.798273Z",
          "iopub.status.idle": "2025-03-06T15:49:13.832661Z",
          "shell.execute_reply.started": "2025-03-06T15:49:13.798237Z",
          "shell.execute_reply": "2025-03-06T15:49:13.83159Z"
        },
        "id": "poKl7-_0RgIb"
      },
      "outputs": [],
      "execution_count": null
    },
    {
      "cell_type": "code",
      "source": [
        "# Lines below will give you a hint or solution code\n",
        "#step_2.hint()\n",
        "#step_2.solution()"
      ],
      "metadata": {
        "trusted": true,
        "execution": {
          "iopub.status.busy": "2025-03-06T15:49:13.833815Z",
          "iopub.execute_input": "2025-03-06T15:49:13.834128Z",
          "iopub.status.idle": "2025-03-06T15:49:13.838243Z",
          "shell.execute_reply.started": "2025-03-06T15:49:13.834103Z",
          "shell.execute_reply": "2025-03-06T15:49:13.836991Z"
        },
        "id": "oepvK7vURgIb"
      },
      "outputs": [],
      "execution_count": null
    },
    {
      "cell_type": "markdown",
      "source": [
        "Run the next code cell without changes to obtain the MAE for this approach."
      ],
      "metadata": {
        "id": "YjM2PjyTRgIc"
      }
    },
    {
      "cell_type": "code",
      "source": [
        "print(\"MAE (Drop columns with missing values):\")\n",
        "print(score_dataset(reduced_X_train, reduced_X_valid, y_train, y_valid))"
      ],
      "metadata": {
        "trusted": true,
        "execution": {
          "iopub.status.busy": "2025-03-06T15:49:13.839323Z",
          "iopub.execute_input": "2025-03-06T15:49:13.839724Z",
          "iopub.status.idle": "2025-03-06T15:49:15.109068Z",
          "shell.execute_reply.started": "2025-03-06T15:49:13.839694Z",
          "shell.execute_reply": "2025-03-06T15:49:15.10772Z"
        },
        "id": "aZJkIOZwRgIc"
      },
      "outputs": [],
      "execution_count": null
    },
    {
      "cell_type": "markdown",
      "source": [
        "# Step 3: Imputation\n",
        "\n",
        "### Part A\n",
        "\n",
        "Use the next code cell to impute missing values with the mean value along each column.  Set the preprocessed DataFrames to `imputed_X_train` and `imputed_X_valid`.  Make sure that the column names match those in `X_train` and `X_valid`."
      ],
      "metadata": {
        "id": "ZJ0yRgSaRgIc"
      }
    },
    {
      "cell_type": "code",
      "source": [
        "from sklearn.impute import SimpleImputer\n",
        "\n",
        "# Fill in the lines below: imputation\n",
        "my_imputer = SimpleImputer()\n",
        "imputed_X_train = pd.DataFrame(my_imputer.fit_transform(X_train))\n",
        "imputed_X_valid = pd.DataFrame(my_imputer.transform(X_valid))\n",
        "\n",
        "# Fill in the lines below: imputation removed column names; put them back\n",
        "imputed_X_train.columns = X_train.columns\n",
        "imputed_X_valid.columns = X_valid.columns\n",
        "\n",
        "# Check your answers\n",
        "step_3.a.check()"
      ],
      "metadata": {
        "trusted": true,
        "execution": {
          "iopub.status.busy": "2025-03-06T15:49:15.110197Z",
          "iopub.execute_input": "2025-03-06T15:49:15.110491Z",
          "iopub.status.idle": "2025-03-06T15:49:15.136764Z",
          "shell.execute_reply.started": "2025-03-06T15:49:15.110468Z",
          "shell.execute_reply": "2025-03-06T15:49:15.135842Z"
        },
        "id": "SWHsrMF6RgIc"
      },
      "outputs": [],
      "execution_count": null
    },
    {
      "cell_type": "code",
      "source": [
        "# Lines below will give you a hint or solution code\n",
        "#step_3.a.hint()\n",
        "#step_3.a.solution()"
      ],
      "metadata": {
        "trusted": true,
        "execution": {
          "iopub.status.busy": "2025-03-06T15:49:15.137857Z",
          "iopub.execute_input": "2025-03-06T15:49:15.138244Z",
          "iopub.status.idle": "2025-03-06T15:49:15.142372Z",
          "shell.execute_reply.started": "2025-03-06T15:49:15.138207Z",
          "shell.execute_reply": "2025-03-06T15:49:15.141337Z"
        },
        "id": "MHeASGizRgIc"
      },
      "outputs": [],
      "execution_count": null
    },
    {
      "cell_type": "markdown",
      "source": [
        "Run the next code cell without changes to obtain the MAE for this approach."
      ],
      "metadata": {
        "id": "LEiY2AXDRgId"
      }
    },
    {
      "cell_type": "code",
      "source": [
        "print(\"MAE (Imputation):\")\n",
        "print(score_dataset(imputed_X_train, imputed_X_valid, y_train, y_valid))"
      ],
      "metadata": {
        "trusted": true,
        "execution": {
          "iopub.status.busy": "2025-03-06T15:49:15.143296Z",
          "iopub.execute_input": "2025-03-06T15:49:15.143579Z",
          "iopub.status.idle": "2025-03-06T15:49:16.539998Z",
          "shell.execute_reply.started": "2025-03-06T15:49:15.143532Z",
          "shell.execute_reply": "2025-03-06T15:49:16.53892Z"
        },
        "id": "tQ86vVUfRgId"
      },
      "outputs": [],
      "execution_count": null
    },
    {
      "cell_type": "markdown",
      "source": [
        "### Part B\n",
        "\n",
        "Compare the MAE from each approach.  Does anything surprise you about the results?  Why do you think one approach performed better than the other?"
      ],
      "metadata": {
        "id": "YZanXrsBRgId"
      }
    },
    {
      "cell_type": "code",
      "source": [
        "# I was surprised Imputation was worse than Drop columns with missing values.\n",
        "# I think the reason is the missing values imputing with the mean value along each column\n",
        "# is not a good method and it increases the error.\n",
        "step_3.b.check()"
      ],
      "metadata": {
        "trusted": true,
        "execution": {
          "iopub.status.busy": "2025-03-06T15:49:16.541062Z",
          "iopub.execute_input": "2025-03-06T15:49:16.541433Z",
          "iopub.status.idle": "2025-03-06T15:49:16.549722Z",
          "shell.execute_reply.started": "2025-03-06T15:49:16.541394Z",
          "shell.execute_reply": "2025-03-06T15:49:16.548337Z"
        },
        "id": "JgwbF-qHRgId"
      },
      "outputs": [],
      "execution_count": null
    },
    {
      "cell_type": "code",
      "source": [
        "#step_3.b.hint()"
      ],
      "metadata": {
        "trusted": true,
        "execution": {
          "iopub.status.busy": "2025-03-06T15:49:16.550824Z",
          "iopub.execute_input": "2025-03-06T15:49:16.551101Z",
          "iopub.status.idle": "2025-03-06T15:49:16.564274Z",
          "shell.execute_reply.started": "2025-03-06T15:49:16.551079Z",
          "shell.execute_reply": "2025-03-06T15:49:16.563053Z"
        },
        "id": "JmAtoSeJRgId"
      },
      "outputs": [],
      "execution_count": null
    },
    {
      "cell_type": "markdown",
      "source": [
        "# Step 4: Generate test predictions\n",
        "\n",
        "In this final step, you'll use any approach of your choosing to deal with missing values.  Once you've preprocessed the training and validation features, you'll train and evaluate a random forest model.  Then, you'll preprocess the test data before generating predictions that can be submitted to the competition!\n",
        "\n",
        "### Part A\n",
        "\n",
        "Use the next code cell to preprocess the training and validation data.  Set the preprocessed DataFrames to `final_X_train` and `final_X_valid`.  **You can use any approach of your choosing here!**  in order for this step to be marked as correct, you need only ensure:\n",
        "- the preprocessed DataFrames have the same number of columns,\n",
        "- the preprocessed DataFrames have no missing values,\n",
        "- `final_X_train` and `y_train` have the same number of rows, and\n",
        "- `final_X_valid` and `y_valid` have the same number of rows."
      ],
      "metadata": {
        "id": "1TQMHrRERgIe"
      }
    },
    {
      "cell_type": "code",
      "source": [
        "\n",
        "# Imputation using median strategy\n",
        "my_imputer = SimpleImputer(strategy='median')\n",
        "final_X_train = pd.DataFrame(my_imputer.fit_transform(X_train))\n",
        "final_X_valid = pd.DataFrame(my_imputer.transform(X_valid))\n",
        "\n",
        "final_X_train.columns = X_train.columns\n",
        "final_X_valid.columns = X_valid.columns\n",
        "\n",
        "\n",
        "\n",
        "# Check your answers\n",
        "step_4.a.check()"
      ],
      "metadata": {
        "trusted": true,
        "execution": {
          "iopub.status.busy": "2025-03-06T15:49:16.566956Z",
          "iopub.execute_input": "2025-03-06T15:49:16.567351Z",
          "iopub.status.idle": "2025-03-06T15:49:16.602009Z",
          "shell.execute_reply.started": "2025-03-06T15:49:16.567307Z",
          "shell.execute_reply": "2025-03-06T15:49:16.600936Z"
        },
        "id": "CWExVCKDRgIe"
      },
      "outputs": [],
      "execution_count": null
    },
    {
      "cell_type": "code",
      "source": [
        "# Lines below will give you a hint or solution code\n",
        "#step_4.a.hint()\n",
        "#step_4.a.solution()"
      ],
      "metadata": {
        "trusted": true,
        "execution": {
          "iopub.status.busy": "2025-03-06T15:49:16.603233Z",
          "iopub.execute_input": "2025-03-06T15:49:16.603555Z",
          "iopub.status.idle": "2025-03-06T15:49:16.607874Z",
          "shell.execute_reply.started": "2025-03-06T15:49:16.603519Z",
          "shell.execute_reply": "2025-03-06T15:49:16.606806Z"
        },
        "id": "amHcfBYlRgIe"
      },
      "outputs": [],
      "execution_count": null
    },
    {
      "cell_type": "markdown",
      "source": [
        "Run the next code cell to train and evaluate a random forest model.  (*Note that we don't use the `score_dataset()` function above, because we will soon use the trained model to generate test predictions!*)"
      ],
      "metadata": {
        "id": "foEs-ey5RgIe"
      }
    },
    {
      "cell_type": "code",
      "source": [
        "# Define and fit model\n",
        "model = RandomForestRegressor(n_estimators=100, random_state=0)\n",
        "model.fit(final_X_train, y_train)\n",
        "\n",
        "# Get validation predictions and MAE\n",
        "preds_valid = model.predict(final_X_valid)\n",
        "print(\"MAE (Imputation Median):\")\n",
        "print(mean_absolute_error(y_valid, preds_valid))"
      ],
      "metadata": {
        "trusted": true,
        "execution": {
          "iopub.status.busy": "2025-03-06T15:49:16.608828Z",
          "iopub.execute_input": "2025-03-06T15:49:16.609116Z",
          "iopub.status.idle": "2025-03-06T15:49:18.023358Z",
          "shell.execute_reply.started": "2025-03-06T15:49:16.60909Z",
          "shell.execute_reply": "2025-03-06T15:49:18.02233Z"
        },
        "id": "zPyTJoKQRgIe"
      },
      "outputs": [],
      "execution_count": null
    },
    {
      "cell_type": "markdown",
      "source": [
        "### Part B\n",
        "\n",
        "Use the next code cell to preprocess your test data.  Make sure that you use a method that agrees with how you preprocessed the training and validation data, and set the preprocessed test features to `final_X_test`.\n",
        "\n",
        "Then, use the preprocessed test features and the trained model to generate test predictions in `preds_test`.\n",
        "\n",
        "In order for this step to be marked correct, you need only ensure:\n",
        "- the preprocessed test DataFrame has no missing values, and\n",
        "- `final_X_test` has the same number of rows as `X_test`."
      ],
      "metadata": {
        "id": "3G6diKYJRgIe"
      }
    },
    {
      "cell_type": "code",
      "source": [
        "# Imputation using median strategy\n",
        "my_imputer = SimpleImputer(strategy='median')\n",
        "# fit on training data\n",
        "my_imputer.fit(final_X_train)\n",
        "final_X_train = pd.DataFrame(my_imputer.fit_transform(X_train))\n",
        "final_X_test = pd.DataFrame(my_imputer.transform(X_test))\n",
        "\n",
        "# Restore column names\n",
        "final_X_train.columns = X_train.columns\n",
        "final_X_test.columns = X_test.columns\n",
        "\n",
        "\n",
        "# Define and fit model\n",
        "model = RandomForestRegressor(n_estimators=100, random_state=0)\n",
        "model.fit(final_X_train, y_train)\n",
        "\n",
        "# Get validation predictions and MAE\n",
        "preds_test = model.predict(final_X_test)\n",
        "print(preds_test)\n",
        "# print(\"MAE (Imputation Median):\")\n",
        "# print(mean_absolute_error(y_test, preds_test))\n",
        "\n",
        "\n",
        "# Check your answers\n",
        "step_4.b.check()"
      ],
      "metadata": {
        "trusted": true,
        "execution": {
          "iopub.status.busy": "2025-03-06T16:00:17.142815Z",
          "iopub.execute_input": "2025-03-06T16:00:17.143297Z",
          "iopub.status.idle": "2025-03-06T16:00:18.666443Z",
          "shell.execute_reply.started": "2025-03-06T16:00:17.143258Z",
          "shell.execute_reply": "2025-03-06T16:00:18.665444Z"
        },
        "id": "HiCvC8V7RgIf"
      },
      "outputs": [],
      "execution_count": null
    },
    {
      "cell_type": "code",
      "source": [
        "# Lines below will give you a hint or solution code\n",
        "#step_4.b.hint()\n",
        "#step_4.b.solution()"
      ],
      "metadata": {
        "trusted": true,
        "execution": {
          "iopub.status.busy": "2025-03-06T15:49:19.421462Z",
          "iopub.status.idle": "2025-03-06T15:49:19.42191Z",
          "shell.execute_reply": "2025-03-06T15:49:19.421711Z"
        },
        "id": "uzWUz2rVRgIu"
      },
      "outputs": [],
      "execution_count": null
    },
    {
      "cell_type": "markdown",
      "source": [
        "Run the next code cell without changes to save your results to a CSV file that can be submitted directly to the competition."
      ],
      "metadata": {
        "id": "5eDssCTaRgIu"
      }
    },
    {
      "cell_type": "code",
      "source": [
        "# Save test predictions to file\n",
        "output = pd.DataFrame({'Id': X_test.index,\n",
        "                       'SalePrice': preds_test})\n",
        "output.to_csv('submission.csv', index=False)"
      ],
      "metadata": {
        "trusted": true,
        "execution": {
          "iopub.status.busy": "2025-03-06T16:03:40.02381Z",
          "iopub.execute_input": "2025-03-06T16:03:40.024157Z",
          "iopub.status.idle": "2025-03-06T16:03:40.038124Z",
          "shell.execute_reply.started": "2025-03-06T16:03:40.024131Z",
          "shell.execute_reply": "2025-03-06T16:03:40.036992Z"
        },
        "id": "qKi4yFZ8RgIu"
      },
      "outputs": [],
      "execution_count": null
    },
    {
      "cell_type": "markdown",
      "source": [
        "# Submit your results\n",
        "\n",
        "Once you have successfully completed Step 4, you're ready to submit your results to the leaderboard!  (_You also learned how to do this in the previous exercise.  If you need a reminder of how to do this, please use the instructions below._)  \n",
        "\n",
        "First, you'll need to join the competition if you haven't already.  So open a new window by clicking on [this link](https://www.kaggle.com/c/home-data-for-ml-course).  Then click on the **Join Competition** button.\n",
        "\n",
        "![join competition image](https://storage.googleapis.com/kaggle-media/learn/images/wLmFtH3.png)\n",
        "\n",
        "Next, follow the instructions below:\n",
        "1. Begin by clicking on the **Save Version** button in the top right corner of the window.  This will generate a pop-up window.  \n",
        "2. Ensure that the **Save and Run All** option is selected, and then click on the **Save** button.\n",
        "3. This generates a window in the bottom left corner of the notebook.  After it has finished running, click on the number to the right of the **Save Version** button.  This pulls up a list of versions on the right of the screen.  Click on the ellipsis **(...)** to the right of the most recent version, and select **Open in Viewer**.  This brings you into view mode of the same page. You will need to scroll down to get back to these instructions.\n",
        "4. Click on the **Data** tab near the top of the screen.  Then, click on the file you would like to submit, and click on the **Submit** button to submit your results to the leaderboard.\n",
        "\n",
        "You have now successfully submitted to the competition!\n",
        "\n",
        "If you want to keep working to improve your performance, select the **Edit** button in the top right of the screen. Then you can change your code and repeat the process. There's a lot of room to improve, and you will climb up the leaderboard as you work.\n",
        "\n",
        "\n",
        "# Keep going\n",
        "\n",
        "Move on to learn what **[categorical variables](https://www.kaggle.com/alexisbcook/categorical-variables)** are, along with how to incorporate them into your machine learning models.  Categorical variables are very common in real-world data, but you'll get an error if you try to plug them into your models without processing them first!"
      ],
      "metadata": {
        "id": "_Hlq4lL4RgIv"
      }
    },
    {
      "cell_type": "markdown",
      "source": [
        "---\n",
        "\n",
        "\n",
        "\n",
        "\n",
        "*Have questions or comments? Visit the [course discussion forum](https://www.kaggle.com/learn/intermediate-machine-learning/discussion) to chat with other learners.*"
      ],
      "metadata": {
        "id": "5Iq1231bRgIv"
      }
    },
    {
      "cell_type": "code",
      "source": [
        "# Break off validation set from training data\n",
        "X_train, X_test, y_train, y_test = train_test_split(X, y, test_size=0.2, random_state=0)\n",
        "X_train, X_valid, y_train, y_valid = train_test_split(X_train, y_train, test_size=0.25, random_state=0) # 0.25 x 0.8 = 0.2\n",
        "\n",
        "# ... （插补和模型训练） ...\n",
        "\n",
        "# Get validation predictions and MAE\n",
        "preds_valid = model.predict(final_X_valid)\n",
        "mae_valid = mean_absolute_error(y_valid, preds_valid)\n",
        "print(\"Validation MAE:\", mae_valid)\n",
        "\n",
        "# Get test predictions and MAE\n",
        "preds_test = model.predict(final_X_test)\n",
        "mae_test = mean_absolute_error(y_test, preds_test)\n",
        "print(\"Test MAE:\", mae_test)"
      ],
      "metadata": {
        "id": "0UUbtgqXRk9j"
      },
      "execution_count": null,
      "outputs": []
    }
  ]
}