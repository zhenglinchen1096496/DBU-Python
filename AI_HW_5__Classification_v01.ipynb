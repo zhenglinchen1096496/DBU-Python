{
  "cells": [
    {
      "cell_type": "markdown",
      "metadata": {
        "id": "view-in-github",
        "colab_type": "text"
      },
      "source": [
        "<a href=\"https://colab.research.google.com/github/zhenglinchen1096496/DBU-Python/blob/main/AI_HW_5__Classification_v01.ipynb\" target=\"_parent\"><img src=\"https://colab.research.google.com/assets/colab-badge.svg\" alt=\"Open In Colab\"/></a>"
      ]
    },
    {
      "cell_type": "markdown",
      "metadata": {
        "id": "2R8qFRZw4h8u",
        "notebookgrader": {
          "id": "75fb49b1aed913dd17676afb922afac490e5cce0",
          "readonly": true
        }
      },
      "source": [
        "#Instructions\n",
        "\n",
        "In this notebook, you will complete code only in cells below the comment `### YOUR SOLUTION HERE`.  You will add your relevant code in cells below the comment, and no where else.\n",
        "\n",
        "For example, you would complete the code cell below as follows:\n",
        "```\n",
        "# Write code to print \"Hello\"\n",
        "### YOUR SOLUTION HERE\n",
        "print(\"Hello\")\n",
        "```\n",
        "\n",
        "Once you have completed your code, you can test your code by running the test cell which contains a comment that looks like this:\n",
        "```\n",
        "# Tests 5 points: Printing \"Hello\"\n",
        "```\n",
        "\n",
        "**Do not change any parts of this notebook aside from adding code below the cells in the notebook with `### YOUR SOLUTION HERE`.**  Changing unauthorized parts of the notebook could result in a zero for the assignment.\n",
        "\n",
        "In this notebook, proceed step by step.  Do not move on to the next section until you have successfully completed all of the prior sections.\n",
        "\n",
        "You can see a video demo of this tool at the following link:\n",
        "\n",
        "https://youtu.be/yvLWbpgnspM?si=oeUEICnxrC0Ysbjb&t=143\n"
      ]
    },
    {
      "cell_type": "markdown",
      "metadata": {
        "id": "F19daanZ1Xrc",
        "notebookgrader": {
          "id": "28ec34b1065b264c9505ac8410bcdf25d0310af1",
          "readonly": true
        }
      },
      "source": [
        "# Step 0 - Run the cells below"
      ]
    },
    {
      "cell_type": "code",
      "execution_count": null,
      "metadata": {
        "id": "7Kpo2OAe4YpB",
        "notebookgrader": {
          "id": "34797d63afaf2401ba6446b364beb16a4a033ec1",
          "is_solution": false,
          "is_tests": false,
          "readonly": true
        }
      },
      "outputs": [],
      "source": [
        "# Import necessary libraries\n",
        "import numpy as np\n",
        "import pandas as pd\n",
        "from sklearn.datasets import load_breast_cancer\n",
        "from sklearn.model_selection import train_test_split\n",
        "from sklearn.preprocessing import StandardScaler\n",
        "from sklearn.linear_model import LogisticRegression\n",
        "from sklearn.tree import DecisionTreeClassifier\n",
        "from sklearn.ensemble import RandomForestClassifier\n",
        "from sklearn.svm import SVC\n",
        "from sklearn.model_selection import RandomizedSearchCV\n",
        "from sklearn.metrics import f1_score, classification_report, confusion_matrix\n",
        "\n",
        "# Set a random seed for reproducibility\n",
        "RANDOM_SEED = 23\n",
        "np.random.seed(RANDOM_SEED)\n",
        "\n",
        "\n"
      ]
    },
    {
      "cell_type": "code",
      "execution_count": null,
      "metadata": {
        "id": "a9K8muEO6nJp",
        "notebookgrader": {
          "id": "1a12e0ac7dda101db5ca74766cd7a9849ab2f2ac",
          "is_solution": false,
          "is_tests": false,
          "readonly": true
        }
      },
      "outputs": [],
      "source": [
        "# Load the Breast Cancer Wisconsin dataset\n",
        "data = load_breast_cancer()\n",
        "X = pd.DataFrame(data.data, columns=data.feature_names)\n",
        "y = pd.Series(data.target)\n",
        "\n"
      ]
    },
    {
      "cell_type": "markdown",
      "metadata": {
        "id": "uH1LZrhQgftb",
        "notebookgrader": {
          "id": "2cd53e7f639109760e2d757e639237ae710f3bab",
          "readonly": true
        }
      },
      "source": [
        "#Step 1"
      ]
    },
    {
      "cell_type": "markdown",
      "metadata": {
        "id": "vxoVp-VruYrz",
        "notebookgrader": {
          "id": "c926d387193a6f00c5261c0bcb9938318a6b0a89",
          "readonly": true
        }
      },
      "source": [
        "##Step 1a - Your code - Data Splitting\n",
        "\n",
        "In the cell below, split the data into 80% training and 20% testing using `train_test_split` from the scikitlearn library with the `random_state` parameter set to `RANDOM SEED`.\n",
        "\n",
        "Your variables should be called `X_train`, `X_test`, `y_train`, and `y_test`."
      ]
    },
    {
      "cell_type": "code",
      "execution_count": null,
      "metadata": {
        "id": "Ix9lvk_PgO8Q",
        "notebookgrader": {
          "id": "708b41a6605dd709ac3718e2afe078810c053a72",
          "is_solution": true,
          "is_tests": false,
          "readonly": false
        }
      },
      "outputs": [],
      "source": [
        "# Split the dataset into training and testing sets\n",
        "\n",
        "### YOUR SOLUTION HERE\n",
        "X_train, X_test, y_train, y_test = train_test_split(X, y, test_size=0.2, random_state=RANDOM_SEED)\n",
        "\n"
      ]
    },
    {
      "cell_type": "markdown",
      "metadata": {
        "id": "0_I1vfPT2r64",
        "notebookgrader": {
          "id": "6a2d46b7ffcd88effd0d84549e6b69bbb784f22f",
          "readonly": true
        }
      },
      "source": [
        "## Step 1b - Test your code by running the cell below"
      ]
    },
    {
      "cell_type": "code",
      "execution_count": null,
      "metadata": {
        "id": "deLQhkSjg39S",
        "notebookgrader": {
          "id": "d431815770721e3c22f87a7dcee87f799497d45d",
          "is_solution": false,
          "is_tests": true,
          "readonly": true,
          "test_points": 5
        },
        "colab": {
          "base_uri": "https://localhost:8080/"
        },
        "outputId": "6095fa70-da83-47a5-9b82-c324af828808"
      },
      "outputs": [
        {
          "output_type": "stream",
          "name": "stdout",
          "text": [
            "Visible tests passed.\n"
          ]
        }
      ],
      "source": [
        "# Tests 5 points: Data Loading and Splitting\n",
        "\n",
        "# Reset index after train-test split\n",
        "X_train = X_train.reset_index(drop=True)\n",
        "y_train = y_train.reset_index(drop=True)\n",
        "X_test = X_test.reset_index(drop=True)\n",
        "y_test = y_test.reset_index(drop=True)\n",
        "\n",
        "assert X_train['worst radius'][3] == 16.45, \"The value for X_train['worst radius'][3] is incorrect.\"\n",
        "assert X_train['mean area'][2] == 289.1, \"The value for X_train['mean area'][2] is incorrect.\"\n",
        "assert X_test['mean radius'][11] == 8.597, \"The value for X_test['mean radius'][11] is incorrect.\"\n",
        "assert X_test['concave points error'][3] == 0.01075, \"The value for X_test['concave points error'][3] is incorrect.\"\n",
        "print(\"Visible tests passed.\")\n",
        "\n"
      ]
    },
    {
      "cell_type": "markdown",
      "metadata": {
        "id": "zGbThVmPgmyN",
        "notebookgrader": {
          "id": "a7cf1868f8aed9922c65b8cc62f56b50a66f5908",
          "readonly": true
        }
      },
      "source": [
        "#Step 2"
      ]
    },
    {
      "cell_type": "markdown",
      "metadata": {
        "id": "t0d7g-1rxTqa",
        "notebookgrader": {
          "id": "da84fbca8eef1c51177c74e73fc7ac707a939918",
          "readonly": true
        }
      },
      "source": [
        "## Step 2a - Your code - Data Scaling\n",
        "\n",
        "In the cell below, apply the `StandardScaler` to transform the feature data.\n",
        "\n",
        "Your feature vectors should be called `X_train_scaled` and `X_test_scaled`."
      ]
    },
    {
      "cell_type": "code",
      "execution_count": null,
      "metadata": {
        "id": "NqrBqB7EgGha",
        "notebookgrader": {
          "id": "e980bd6bd9accb57036f754a06214b92feee08d4",
          "is_solution": true,
          "is_tests": false,
          "readonly": false
        }
      },
      "outputs": [],
      "source": [
        "# Standardize the feature variables\n",
        "\n",
        "### YOUR SOLUTION HERE\n",
        "scaler = StandardScaler()\n",
        "X_train_scaled = scaler.fit_transform(X_train)\n",
        "X_test_scaled = scaler.transform(X_test)\n"
      ]
    },
    {
      "cell_type": "markdown",
      "metadata": {
        "id": "TAALFbWV22RO",
        "notebookgrader": {
          "id": "458c75d983b3d8d8579ff50a0c43a7b45936517c",
          "readonly": true
        }
      },
      "source": [
        "## Step 2b - Test your code by running the cell below"
      ]
    },
    {
      "cell_type": "code",
      "execution_count": null,
      "metadata": {
        "id": "OzZcItSAseiL",
        "notebookgrader": {
          "id": "6b6203b0dfe85f9ae71c1862bb3aba1266d967be",
          "is_solution": false,
          "is_tests": true,
          "readonly": true,
          "test_points": 5
        },
        "colab": {
          "base_uri": "https://localhost:8080/"
        },
        "outputId": "8499481f-2c56-48cd-9eeb-c041fbf69f57"
      },
      "outputs": [
        {
          "output_type": "stream",
          "name": "stdout",
          "text": [
            "Visible tests passed.\n"
          ]
        }
      ],
      "source": [
        "# Tests 5 points: Data Scaling\n",
        "\n",
        "assert X_train_scaled[2][3] == -1.0704254306070624, \"The value for X_train_scaled[2][3] is incorrect.\"\n",
        "assert X_train_scaled[6][2] == -1.1359381046954606, \"The value for X_train_scaled[6][2] is incorrect.\"\n",
        "assert X_test_scaled[8][11] == -0.6875236011724752, \"The value for X_test_scaled[8][11] is incorrect.\"\n",
        "assert X_test_scaled[6][3] == 1.5040013560573013, \"The value for X_test_scaled[6][3] is incorrect.\"\n",
        "print(\"Visible tests passed.\")\n",
        "\n"
      ]
    },
    {
      "cell_type": "markdown",
      "metadata": {
        "id": "Q7tTMocogsL8",
        "notebookgrader": {
          "id": "f28ad41b0e4ee61e59cfe88dc989b6479f2516b8",
          "readonly": true
        }
      },
      "source": [
        "# Step 3"
      ]
    },
    {
      "cell_type": "markdown",
      "metadata": {
        "id": "9u69GXpI3_dS",
        "notebookgrader": {
          "id": "8df3a0f1cd290de93ea26a4c5e09134fe514e5ba",
          "readonly": true
        }
      },
      "source": [
        "## Hyperparameter tuning with k-fold cross-validation using `RandomizedSearchCV`\n",
        "\n",
        "For each of the models listed below, perform hyperparameter tuning using a randomized search across several combinations of hyperparameters.  Score the performance using F1-score with k-fold cross validation using `RandomizedSearchCV` from `sklearn` library.\n",
        "\n",
        "*   Logistic Regression using `LogisticRegression` from `sklearn` library\n",
        "*   Decision Tree using `DecisionTreeClassifier` from `sklearn` library\n",
        "*   Random Forest using `RandomForestClassifier` from `sklearn` library\n",
        "*   Support Vector Classifier using `SVC` from `sklearn` library\n",
        "\n",
        "Below are the model initializations you will use in `RandomizedSearchCV`, as well as the hyperparameters in `param_dist` that you will test in your randomized search."
      ]
    },
    {
      "cell_type": "markdown",
      "metadata": {
        "id": "cwfTwS1kg9dp",
        "notebookgrader": {
          "id": "c28c5e34a1a294fcada1b59606f5f758c18a6ff3",
          "readonly": true
        }
      },
      "source": [
        "## Step 3a - Your code - Initialize your models"
      ]
    },
    {
      "cell_type": "code",
      "execution_count": null,
      "metadata": {
        "id": "yNwMyEBV3-d_",
        "notebookgrader": {
          "id": "8d744518f73dd195f5ee8fb0d0d28f198eba2aca",
          "is_solution": true,
          "is_tests": false,
          "readonly": false
        }
      },
      "outputs": [],
      "source": [
        "# Initialize models with default parameters, make sure to set random_state=RANDOM_SEED\n",
        "\n",
        "### YOUR SOLUTION HERE\n",
        "models = {\n",
        "    'Logistic Regression': LogisticRegression(random_state=RANDOM_SEED),\n",
        "    'Decision Tree': DecisionTreeClassifier(random_state=RANDOM_SEED),\n",
        "    'Random Forest': RandomForestClassifier(random_state=RANDOM_SEED),\n",
        "    'Support Vector Classifier': SVC(random_state=RANDOM_SEED)\n",
        "}\n",
        "\n"
      ]
    },
    {
      "cell_type": "markdown",
      "metadata": {
        "id": "hwALC_ZihIOP",
        "notebookgrader": {
          "id": "c9ff78973cdd48677793ebfc05aac36698b56a2c",
          "readonly": true
        }
      },
      "source": [
        "## Step 3b - Test your code by running the cell below"
      ]
    },
    {
      "cell_type": "code",
      "execution_count": null,
      "metadata": {
        "id": "Zlz1GqsPhLKH",
        "notebookgrader": {
          "id": "2f9d3359fa27d932ad00a67bdbb7fd5222e57bd7",
          "is_solution": false,
          "is_tests": true,
          "readonly": true,
          "test_points": 5
        }
      },
      "outputs": [],
      "source": [
        "# Tests 5 points: Intializing models\n"
      ]
    },
    {
      "cell_type": "markdown",
      "metadata": {
        "id": "tcdJ5O55hNDu",
        "notebookgrader": {
          "id": "ad307c6b9ad9f9a2a7aa900925afce4b815ba826",
          "readonly": true
        }
      },
      "source": [
        "## Hyperparameters that will be used in random combinations"
      ]
    },
    {
      "cell_type": "code",
      "execution_count": null,
      "metadata": {
        "id": "xlCzDrIAfxzZ",
        "notebookgrader": {
          "id": "7e1cb8101f70e4b46ece51ce2a8ea0da0473831d",
          "is_solution": false,
          "is_tests": false,
          "readonly": true
        }
      },
      "outputs": [],
      "source": [
        "# Run this cell, do not modify\n",
        "# Define hyperparameter distribution to randomly sample for tuning\n",
        "param_dist = {\n",
        "    'Logistic Regression': {\n",
        "        'C': [0.01, 0.1, 1, 10, 100]\n",
        "    },\n",
        "    'Decision Tree': {\n",
        "        'max_depth': [None, 10, 20, 30, 40, 50],\n",
        "        'min_samples_split': [2, 5, 10]\n",
        "    },\n",
        "    'Random Forest': {\n",
        "        'n_estimators': [50, 100, 200],\n",
        "        'max_depth': [None, 10, 20, 30],\n",
        "        'min_samples_split': [2, 5, 10]\n",
        "    },\n",
        "    'Support Vector Classifier': {\n",
        "        'C': [0.01, 0.1, 1, 10, 100],\n",
        "        'kernel': ['linear', 'rbf']\n",
        "    }\n",
        "}\n"
      ]
    },
    {
      "cell_type": "markdown",
      "metadata": {
        "id": "xXbTZCUuhWFL",
        "notebookgrader": {
          "id": "f81cf58812036afc638bb150304a2c874c83bb70",
          "readonly": true
        }
      },
      "source": [
        "## Step 3c - Your code - Hyperparameter tuning with k-fold crossvalidation"
      ]
    },
    {
      "cell_type": "markdown",
      "metadata": {
        "id": "-zcvytC1evqW",
        "notebookgrader": {
          "id": "c91ee3ca311ab250f297dd9cd00a61eb137b52b2",
          "readonly": true
        }
      },
      "source": [
        "In this lab, you will use the F1-score as the metric by which you evaluate the performance of models.\n",
        "\n",
        "---\n",
        "\n",
        "You should save the best version of each model type in the dictionary `best_tuned_models`, and you should save the best overall model in `best_model`.\n",
        "\n",
        "---\n",
        "\n",
        "In `best_tuned_models`, you should save the best estimator from\n",
        "`RandomizedSearchCV` for each model type in its `best estimator` and its best score in its `best score`.\n",
        "\n",
        "In `best_model`, for the best model overall, you should save the model type in `name` (e.g. `'Logistic Regression'`), the estimator in `estimator`, and the score in `score`.\n",
        "\n",
        "---\n",
        "\n",
        "When calling `RandomizedSearchCV`, make sure that you specifically pass the following values for the arguments listed below (in addition to any other values you are passing):\n",
        "* `scoring = 'f1'`\n",
        "* `n_iter = NUMBER_OF_PARAMETER_COMBINATIONS_PER_MODEL`\n",
        "* `cv = NUMBER_OF_FOLDS_PER_MODEL`\n",
        "* `random_state = RANDOM_SEED`\n",
        "\n",
        "**IMPORTANT:**\n",
        "\n",
        "As arguments in `RandomizedSearchCV`, make sure to set `n_iter=NUMBER_OF_PARAMETER_COMBINATIONS_PER_MODEL` and `cv=NUMBER_OF_FOLDS_PER_MODEL`, and do not change the values of these constants.\n",
        " I have intentionally set these parameters to lower values so that we do not put high compute demands on the server."
      ]
    },
    {
      "cell_type": "code",
      "execution_count": null,
      "metadata": {
        "id": "RI8etVCY6TmS",
        "notebookgrader": {
          "id": "2d2bc2f083559dce82bf07a0f9b40b7669a96e43",
          "is_solution": true,
          "is_tests": false,
          "readonly": false
        },
        "colab": {
          "base_uri": "https://localhost:8080/"
        },
        "outputId": "8f66c18f-680e-4b14-88bf-3efae4c776d9"
      },
      "outputs": [
        {
          "output_type": "stream",
          "name": "stdout",
          "text": [
            "Tuning Logistic Regression...\n",
            "Best parameters for LogisticRegression(C=0.1, random_state=23)\n",
            "F1-score: 0.9760271995799955\n",
            "\n",
            "Tuning Decision Tree...\n",
            "Best parameters for DecisionTreeClassifier(max_depth=30, min_samples_split=5, random_state=23)\n",
            "F1-score: 0.9539170506912442\n",
            "\n",
            "Tuning Random Forest...\n",
            "Best parameters for RandomForestClassifier(max_depth=20, min_samples_split=5, random_state=23)\n",
            "F1-score: 0.9717203011774519\n",
            "\n",
            "Tuning Support Vector Classifier...\n",
            "Best parameters for SVC(C=1, random_state=23)\n",
            "F1-score: 0.9720540373461336\n",
            "\n",
            "\n",
            "Best Model: LogisticRegression(C=0.1, random_state=23)\n",
            "F1-score: 0.9760271995799955\n"
          ]
        }
      ],
      "source": [
        "# Perform randomized parameter search with k-fold cross-validation\n",
        "best_tuned_models = {'Logistic Regression': {'best estimator': None, 'best score': None},\n",
        "                     'Decision Tree': {'best estimator': None, 'best score': None},\n",
        "                     'Random Forest':{'best estimator': None, 'best score': None},\n",
        "                     'Support Vector Classifier': {'best estimator': None, 'best score': None}}\n",
        "best_model = {'name': None, 'estimator': None, 'score': None}\n",
        "best_score = 0\n",
        "\n",
        "NUMBER_OF_PARAMETER_COMBINATIONS_PER_MODEL = 3\n",
        "NUMBER_OF_FOLDS_PER_MODEL = 3\n",
        "\n",
        "### YOUR SOLUTION HERE\n",
        "for name in best_tuned_models:\n",
        "    random_search = RandomizedSearchCV(models[name], param_dist[name],\n",
        "                                       n_iter=NUMBER_OF_PARAMETER_COMBINATIONS_PER_MODEL,\n",
        "                                       cv=NUMBER_OF_FOLDS_PER_MODEL,\n",
        "                                       scoring='f1', n_jobs=-1, random_state=RANDOM_SEED)\n",
        "    print(f'Tuning {name}...')\n",
        "\n",
        "    # Use X_train_scaled for Logistic Regression and SVC\n",
        "    if name in ['Logistic Regression', 'Support Vector Classifier']:\n",
        "        random_search.fit(X_train_scaled, y_train)\n",
        "    else:\n",
        "        random_search.fit(X_train, y_train)\n",
        "\n",
        "    # Store the best model hyperparameter settings and F1-score in the dictionary for each model\n",
        "    best_tuned_models[name]['best estimator'] = random_search.best_estimator_\n",
        "    best_tuned_models[name]['best score'] = random_search.best_score_\n",
        "\n",
        "    # Output best settings for each model\n",
        "    print(f'Best parameters for {random_search.best_estimator_}')\n",
        "    print(f'F1-score: {random_search.best_score_}\\n')\n",
        "\n",
        "    # Save best model overall in best_model dictionary\n",
        "    if random_search.best_score_ > best_score:\n",
        "        best_score = random_search.best_score_\n",
        "        best_model['name'] = name\n",
        "        best_model['estimator'] = random_search.best_estimator_\n",
        "        best_model['score'] = random_search.best_score_\n",
        "\n",
        "# Print the best model name and score\n",
        "print(f'\\nBest Model: {best_model[\"estimator\"]}')\n",
        "print(f'F1-score: {best_model[\"score\"]}')\n",
        "\n"
      ]
    },
    {
      "cell_type": "markdown",
      "metadata": {
        "id": "_C3jLuIb4R5O",
        "notebookgrader": {
          "id": "4145af53a2096b7ed5bf964991e18a8a4e6c3f94",
          "readonly": true
        }
      },
      "source": [
        "## Step 3d - Test your code by running the cell below\n",
        "\n",
        "This test code will verify that you correctly performed the randomized hyperparameter tuning with k-fold cross validation (all done by `RandomizedSearchCV`), and that you saved everything in the correct place."
      ]
    },
    {
      "cell_type": "code",
      "execution_count": null,
      "metadata": {
        "id": "mR-N2FDJ4U2V",
        "notebookgrader": {
          "id": "838c8439b0c83929287d355ad45c2eafb9861bb3",
          "is_solution": false,
          "is_tests": true,
          "readonly": true,
          "test_points": 10
        },
        "colab": {
          "base_uri": "https://localhost:8080/"
        },
        "outputId": "c4f19afc-1811-4b0e-c288-dc84f6368600"
      },
      "outputs": [
        {
          "output_type": "stream",
          "name": "stdout",
          "text": [
            "Visible tests passed.\n"
          ]
        }
      ],
      "source": [
        "# Tests 10 points: Hyperparameter Tuning and Best Model Selection\n",
        "assert str(best_tuned_models['Logistic Regression']['best estimator']) == \"LogisticRegression(C=0.1, random_state=23)\", \"The best model for Logistic Regression is incorrect.\"\n",
        "assert str(best_tuned_models['Decision Tree']['best estimator']) == \"DecisionTreeClassifier(max_depth=30, min_samples_split=5, random_state=23)\", \"The best model for Decision Tree is incorrect.\"\n",
        "\n",
        "assert best_tuned_models['Logistic Regression']['best score'] == 0.9760271995799955, \"The best F1-score for Logistic Regression is incorrect.\"\n",
        "assert best_tuned_models['Decision Tree']['best score'] == 0.9539170506912442, \"The best F1-score for Decision Tree is incorrect.\"\n",
        "\n",
        "assert best_model['name'] == 'Logistic Regression', \"The best model name is incorrect.\"\n",
        "assert best_model['score'] == 0.9760271995799955, \"The best model score is incorrect.\"\n",
        "assert str(best_model['estimator']) == 'LogisticRegression(C=0.1, random_state=23)', \"The best model is incorrect.\"\n",
        "print(\"Visible tests passed.\")\n",
        "\n",
        "\n"
      ]
    },
    {
      "cell_type": "markdown",
      "metadata": {
        "id": "ANPyggQOh-JG",
        "notebookgrader": {
          "id": "f0b5cdc3d9d350193a83702d8da65ae81d1da24a",
          "readonly": true
        }
      },
      "source": [
        "# Step 4"
      ]
    },
    {
      "cell_type": "markdown",
      "metadata": {
        "id": "eYdYfLRc-a0H",
        "notebookgrader": {
          "id": "90dfa48cd593ccfd5ca2aa8dd321a122a9eff476",
          "readonly": true
        }
      },
      "source": [
        "## Step 4a - Your code - Testing the best model\n",
        "\n",
        "Now you will need to:\n",
        "\n",
        "\n",
        "1.   Train your best overall model on all of the scaled training data.\n",
        "2.   Make predictions using the scaled test data and save in `y_pred`.\n",
        "3.   Compute and display the performance metrics such as `f1_score_on_test_data`.\n",
        "\n"
      ]
    },
    {
      "cell_type": "code",
      "execution_count": null,
      "metadata": {
        "id": "UAnwvYtY_SDs",
        "notebookgrader": {
          "id": "3ad84bede84fde88d9aefec9dc4396945421838f",
          "is_solution": true,
          "is_tests": false,
          "readonly": false
        },
        "colab": {
          "base_uri": "https://localhost:8080/"
        },
        "outputId": "f9fe7cf5-9253-47ef-be03-412311ba478c"
      },
      "outputs": [
        {
          "output_type": "stream",
          "name": "stdout",
          "text": [
            "\n",
            "Best Model: LogisticRegression(C=0.1, random_state=23)\n",
            "\n",
            "Test F1-score: 0.9867\n",
            "\n",
            "              precision    recall  f1-score   support\n",
            "\n",
            "           0       0.97      0.97      0.97        39\n",
            "           1       0.99      0.99      0.99        75\n",
            "\n",
            "    accuracy                           0.98       114\n",
            "   macro avg       0.98      0.98      0.98       114\n",
            "weighted avg       0.98      0.98      0.98       114\n",
            "\n"
          ]
        }
      ],
      "source": [
        "f1_score_on_test_data=None\n",
        "y_pred = None\n",
        "\n",
        "### YOUR SOLUTION HERE\n",
        "\n",
        "# Fit the best model on the entire scaled training data\n",
        "best_model['estimator'].fit(X_train_scaled, y_train)\n",
        "\n",
        "# Evaluate the best model on the scaled test data\n",
        "y_pred = best_model['estimator'].predict(X_test_scaled)\n",
        "f1_score_on_test_data = f1_score(y_test, y_pred, average='binary')\n",
        "\n",
        "# Output the performance metrics for the best model\n",
        "print('\\nBest Model:', best_model['estimator'])\n",
        "# print(f'\\nTest F1-score: {f1_score(y_test, y_pred, average=\"binary\"):.4f}\\n')\n",
        "print(f'\\nTest F1-score: {f1_score_on_test_data:.4f}\\n')\n",
        "print(classification_report(y_test, y_pred))\n"
      ]
    },
    {
      "cell_type": "markdown",
      "metadata": {
        "id": "uA4Fv6-Y-htP",
        "notebookgrader": {
          "id": "eb7f42e34f2ff984da00a3eb33b4f9bdffa1a3ba",
          "readonly": true
        }
      },
      "source": [
        "## Step 4b - Test your code by running the cell below"
      ]
    },
    {
      "cell_type": "code",
      "execution_count": null,
      "metadata": {
        "id": "fDN8deFL-jzl",
        "notebookgrader": {
          "id": "f467bc8c2bcb69397dc3e38d6554245a154d5fc4",
          "is_solution": false,
          "is_tests": true,
          "readonly": true,
          "test_points": 10
        },
        "colab": {
          "base_uri": "https://localhost:8080/"
        },
        "outputId": "590b43ae-bced-4ac6-b32c-5255baceeddf"
      },
      "outputs": [
        {
          "output_type": "stream",
          "name": "stdout",
          "text": [
            "Visible tests passed.\n"
          ]
        }
      ],
      "source": [
        "# Tests 10 points: Hyperparameter Tuning and Best Model Selection\n",
        "\n",
        "assert best_model['name'] == 'Logistic Regression', \"The best model name is incorrect.\"\n",
        "assert best_model['score'] == 0.9760271995799955, \"The best model score is incorrect.\"\n",
        "assert str(best_model['estimator']) == 'LogisticRegression(C=0.1, random_state=23)', \"The best model is incorrect.\"\n",
        "assert f1_score_on_test_data == 0.9866666666666667, \"The F1-score on the test data is incorrect.\"\n",
        "print(\"Visible tests passed.\")\n",
        "\n"
      ]
    }
  ],
  "metadata": {
    "colab": {
      "provenance": [],
      "include_colab_link": true
    },
    "kernelspec": {
      "display_name": "Python 3",
      "name": "python3"
    },
    "language_info": {
      "name": "python"
    },
    "notebookgrader": {
      "total_points": 35
    }
  },
  "nbformat": 4,
  "nbformat_minor": 0
}